{
 "cells": [
  {
   "cell_type": "markdown",
   "metadata": {},
   "source": [
    "# Layer structure\n",
    "\n",
    "<img src=\"images/layer_structure.png\">"
   ]
  },
  {
   "cell_type": "markdown",
   "metadata": {},
   "source": [
    "### Important: \n",
    "* modelB stands for model that uses binary feature labels\n",
    "* modelC stands for model that uses categorical feature labels"
   ]
  },
  {
   "cell_type": "code",
   "execution_count": 1,
   "metadata": {},
   "outputs": [
    {
     "name": "stderr",
     "output_type": "stream",
     "text": [
      "Using TensorFlow backend.\n"
     ]
    },
    {
     "name": "stdout",
     "output_type": "stream",
     "text": [
      "Model: \"sequential_1\"\n",
      "_________________________________________________________________\n",
      "Layer (type)                 Output Shape              Param #   \n",
      "=================================================================\n",
      "time_distributed_1 (TimeDist (None, 16, 61, 61, 96)    14208     \n",
      "_________________________________________________________________\n",
      "time_distributed_2 (TimeDist (None, 16, 30, 30, 96)    0         \n",
      "_________________________________________________________________\n",
      "time_distributed_3 (TimeDist (None, 16, 14, 14, 384)   332160    \n",
      "_________________________________________________________________\n",
      "time_distributed_4 (TimeDist (None, 16, 7, 7, 384)     0         \n",
      "_________________________________________________________________\n",
      "time_distributed_5 (TimeDist (None, 16, 7, 7, 512)     1769984   \n",
      "_________________________________________________________________\n",
      "time_distributed_6 (TimeDist (None, 16, 7, 7, 512)     2359808   \n",
      "_________________________________________________________________\n",
      "time_distributed_7 (TimeDist (None, 16, 7, 7, 384)     1769856   \n",
      "_________________________________________________________________\n",
      "time_distributed_8 (TimeDist (None, 16, 3, 3, 384)     0         \n",
      "_________________________________________________________________\n",
      "time_distributed_9 (TimeDist (None, 16, 3456)          0         \n",
      "_________________________________________________________________\n",
      "time_distributed_10 (TimeDis (None, 16, 4096)          14159872  \n",
      "_________________________________________________________________\n",
      "lstm_1 (LSTM)                (None, 256)               4457472   \n",
      "_________________________________________________________________\n",
      "dense_2 (Dense)              (None, 3)                 771       \n",
      "_________________________________________________________________\n",
      "activation_1 (Activation)    (None, 3)                 0         \n",
      "=================================================================\n",
      "Total params: 24,864,131\n",
      "Trainable params: 24,864,131\n",
      "Non-trainable params: 0\n",
      "_________________________________________________________________\n",
      "None\n",
      "Model: \"sequential_2\"\n",
      "_________________________________________________________________\n",
      "Layer (type)                 Output Shape              Param #   \n",
      "=================================================================\n",
      "time_distributed_11 (TimeDis (None, 16, 61, 61, 96)    14208     \n",
      "_________________________________________________________________\n",
      "time_distributed_12 (TimeDis (None, 16, 30, 30, 96)    0         \n",
      "_________________________________________________________________\n",
      "time_distributed_13 (TimeDis (None, 16, 14, 14, 384)   332160    \n",
      "_________________________________________________________________\n",
      "time_distributed_14 (TimeDis (None, 16, 7, 7, 384)     0         \n",
      "_________________________________________________________________\n",
      "time_distributed_15 (TimeDis (None, 16, 7, 7, 512)     1769984   \n",
      "_________________________________________________________________\n",
      "time_distributed_16 (TimeDis (None, 16, 7, 7, 512)     2359808   \n",
      "_________________________________________________________________\n",
      "time_distributed_17 (TimeDis (None, 16, 7, 7, 384)     1769856   \n",
      "_________________________________________________________________\n",
      "time_distributed_18 (TimeDis (None, 16, 3, 3, 384)     0         \n",
      "_________________________________________________________________\n",
      "time_distributed_19 (TimeDis (None, 16, 3456)          0         \n",
      "_________________________________________________________________\n",
      "time_distributed_20 (TimeDis (None, 16, 4096)          14159872  \n",
      "_________________________________________________________________\n",
      "lstm_2 (LSTM)                (None, 256)               4457472   \n",
      "_________________________________________________________________\n",
      "dense_4 (Dense)              (None, 8)                 2056      \n",
      "_________________________________________________________________\n",
      "activation_2 (Activation)    (None, 8)                 0         \n",
      "=================================================================\n",
      "Total params: 24,865,416\n",
      "Trainable params: 24,865,416\n",
      "Non-trainable params: 0\n",
      "_________________________________________________________________\n",
      "None\n"
     ]
    }
   ],
   "source": [
    "import keras\n",
    "import numpy as np\n",
    "from keras.models import Sequential\n",
    "from keras.layers import Dense, LSTM, Input, Conv2D, Dense, LSTM,MaxPooling2D , Flatten, TimeDistributed,Activation\n",
    "\n",
    "im_size = 128\n",
    "time_steps = 16 # len of image sequence\n",
    "channels = 3\n",
    "#input_shape=(nr_of_sequences, 16, 227, 227, 3))\n",
    "\n",
    "#modelB for binary response\n",
    "modelB = Sequential()\n",
    "modelB.add(TimeDistributed(Conv2D(filters=96, kernel_size=7,  strides=2, padding='valid'), input_shape=(time_steps,im_size,im_size,channels))) # first input shape is the len of seq\n",
    "modelB.add(TimeDistributed(MaxPooling2D(pool_size=(2, 2))))\n",
    "modelB.add(TimeDistributed(Conv2D(filters=384, kernel_size=3,  strides=2, padding='valid')))\n",
    "modelB.add(TimeDistributed(MaxPooling2D(pool_size=(2, 2))))\n",
    "modelB.add(TimeDistributed(Conv2D(filters=512, kernel_size=3, padding='same')))\n",
    "modelB.add(TimeDistributed(Conv2D(filters=512, kernel_size=3, padding='same')))\n",
    "modelB.add(TimeDistributed(Conv2D(filters=384, kernel_size=3, padding='same')))\n",
    "modelB.add(TimeDistributed(MaxPooling2D(pool_size=(2, 2))))\n",
    "modelB.add(TimeDistributed(Flatten())) #The Flatten layer is only needed because LSTM shape should have one dimension per input.\n",
    "modelB.add(TimeDistributed(Dense(4096)))\n",
    "modelB.add(LSTM(256, return_sequences=False)) #pole kindel return_sequence's, kui True, siis multiple outputs\n",
    "#When return_sequences=True, the output shape is (batch, timeSteps, outputFeatures)\n",
    "#When return_sequences=False, the output shape is (batch, outputFeatures)\n",
    "modelB.add((Dense(3))) # for categorical use Dense(8), for binary use Dense(3)\n",
    "modelB.add((Activation('softmax')))\n",
    "print(modelB.summary())\n",
    "\n",
    "#modelC for categorical response\n",
    "modelC = Sequential()\n",
    "modelC.add(TimeDistributed(Conv2D(filters=96, kernel_size=7,  strides=2, padding='valid'), input_shape=(time_steps,im_size,im_size,channels))) # first input shape is the len of seq\n",
    "modelC.add(TimeDistributed(MaxPooling2D(pool_size=(2, 2))))\n",
    "modelC.add(TimeDistributed(Conv2D(filters=384, kernel_size=3,  strides=2, padding='valid')))\n",
    "modelC.add(TimeDistributed(MaxPooling2D(pool_size=(2, 2))))\n",
    "modelC.add(TimeDistributed(Conv2D(filters=512, kernel_size=3, padding='same')))\n",
    "modelC.add(TimeDistributed(Conv2D(filters=512, kernel_size=3, padding='same')))\n",
    "modelC.add(TimeDistributed(Conv2D(filters=384, kernel_size=3, padding='same')))\n",
    "modelC.add(TimeDistributed(MaxPooling2D(pool_size=(2, 2))))\n",
    "modelC.add(TimeDistributed(Flatten())) #The Flatten layer is only needed because LSTM shape should have one dimension per input.\n",
    "modelC.add(TimeDistributed(Dense(4096)))\n",
    "modelC.add(LSTM(256, return_sequences=False)) #pole kindel return_sequence's, kui True, siis multiple outputs\n",
    "modelC.add((Dense(8)))\n",
    "modelC.add((Activation('softmax')))\n",
    "print(modelC.summary())"
   ]
  },
  {
   "cell_type": "markdown",
   "metadata": {},
   "source": [
    "## Categorical labels"
   ]
  },
  {
   "cell_type": "code",
   "execution_count": 15,
   "metadata": {},
   "outputs": [
    {
     "name": "stdout",
     "output_type": "stream",
     "text": [
      "{'BLO', 'OOR', 'BOO', 'BLR', 'OLR', 'OOO', 'OLO', 'BOR'}\n",
      "categorical labels: \n",
      " [[0 0 1 0 0 0 0 0]\n",
      " [1 0 0 0 0 0 0 0]\n",
      " [0 0 0 1 0 0 0 0]\n",
      " [0 1 0 0 0 0 0 0]\n",
      " [0 0 0 0 0 1 0 0]\n",
      " [0 0 0 0 1 0 0 0]\n",
      " [0 0 0 0 0 0 0 1]\n",
      " [0 0 0 0 0 0 1 0]]\n"
     ]
    }
   ],
   "source": [
    "#Encoding the labels\n",
    "from sklearn.preprocessing import LabelBinarizer\n",
    "labels = set(['BOO', 'BLO', 'BOR', 'BLR', 'OLR', 'OLO', 'OOR', 'OOO'])\n",
    "print(labels)\n",
    "lb = LabelBinarizer()\n",
    "lb.fit(list(labels))\n",
    "print('categorical labels: \\n', lb.transform(['BOO', 'BLO', 'BOR', 'BLR', 'OLR', 'OLO', 'OOR', 'OOO']))"
   ]
  },
  {
   "cell_type": "markdown",
   "metadata": {},
   "source": [
    "## Binary labels\n",
    "\n",
    "Comment: following warning can be ignored, it occurs during converting labels into binary \n",
    "\n",
    "Warning: .../miniconda3/envs/stacc/lib/python3.6/site-packages/sklearn/preprocessing/label.py:951: UserWarning: unknown class(es) ['O'] will be ignored\n",
    "  .format(sorted(unknown, key=str)))"
   ]
  },
  {
   "cell_type": "code",
   "execution_count": 14,
   "metadata": {},
   "outputs": [
    {
     "name": "stdout",
     "output_type": "stream",
     "text": [
      "initial labels: \n",
      " ['BOO', 'BLO', 'BOR', 'BLR', 'OLR', 'OLO', 'OOR', 'OOO']\n",
      "labels in binary: \n",
      " [[1 0 0]\n",
      " [1 1 0]\n",
      " [1 0 1]\n",
      " [1 1 1]\n",
      " [0 1 1]\n",
      " [0 1 0]\n",
      " [0 0 1]\n",
      " [0 0 0]]\n"
     ]
    }
   ],
   "source": [
    "from sklearn.preprocessing import MultiLabelBinarizer\n",
    "\n",
    "mlb = MultiLabelBinarizer(classes=['B','L','R'])\n",
    "\n",
    "def labels_to_binary(ini_labels):\n",
    "    \"\"\"\n",
    "    Takes as input list of labels (e.g. ['BOO', 'BLO', 'BOR'])\n",
    "    Outputs numpy ndarray of the labels in binary (e.g. [[1 0 0] [1 1 0] [1 0 1])\n",
    "    \"\"\"\n",
    "    labels = []\n",
    "    for label in ini_labels:\n",
    "        label_split = list(label) # ['BLO'] -> ['B','L','O']\n",
    "        labels.append(label_split) # [['B','L','O']]\n",
    "\n",
    "    return mlb.fit_transform(labels)\n",
    "\n",
    "\n",
    "ini_labels = ['BOO', 'BLO', 'BOR', 'BLR', 'OLR', 'OLO', 'OOR', 'OOO']\n",
    "print('initial labels: \\n', ini_labels)\n",
    "labels_binary = labels_to_binary(ini_labels)\n",
    "print('labels in binary: \\n', labels_binary)"
   ]
  },
  {
   "cell_type": "markdown",
   "metadata": {},
   "source": [
    "### Split all non-test folders into train and validation\n",
    "Train data is 70% and validation is 30%.\n",
    "Output is \n",
    "* list of paths to folders belonging to training set (train_folder_list), validation set (valid_folder_list) and test set (test_folder_list)\n",
    "* number of image sequences in train, validation and test set"
   ]
  },
  {
   "cell_type": "code",
   "execution_count": 6,
   "metadata": {},
   "outputs": [
    {
     "name": "stdout",
     "output_type": "stream",
     "text": [
      "total number of non-test folders is  471  for difficulty  Easy\n",
      "total number of non-test image sequences is  34467\n",
      "total number of test image sequences is  9069\n",
      "\n",
      "final train set contains  24020  image sequences ( 70 % )\n",
      "final validation set contains  10447  image sequences ( 30 % )\n",
      "final test set contains  9069  image sequences\n"
     ]
    }
   ],
   "source": [
    "from create_train_and_validation import create_train_and_validation_set\n",
    "\n",
    "path=\"./rear_signal_dataset\"\n",
    "difficulty=\"Easy\"\n",
    "\n",
    "train_folder_list, valid_folder_list, test_folder_list, count_train_seq, count_valid_seq, count_test_seq = create_train_and_validation_set(path, difficulty)"
   ]
  },
  {
   "cell_type": "code",
   "execution_count": 18,
   "metadata": {},
   "outputs": [
    {
     "data": {
      "text/plain": [
       "['./rear_signal_dataset/20161013_demo_test-10-13-2016_15-27-40/20161013_demo_test-10-13-2016_15-27-40_BLO/20161013_demo_test-10-13-2016_15-27-40_BLO_00003342',\n",
       " './rear_signal_dataset/20161013_demo_test-10-13-2016_15-27-40/20161013_demo_test-10-13-2016_15-27-40_BLO/20161013_demo_test-10-13-2016_15-27-40_BLO_00003919',\n",
       " './rear_signal_dataset/20161013_demo_test-10-13-2016_15-27-40/20161013_demo_test-10-13-2016_15-27-40_BOO/20161013_demo_test-10-13-2016_15-27-40_BOO_00004532',\n",
       " './rear_signal_dataset/20161013_demo_test-10-13-2016_15-27-40/20161013_demo_test-10-13-2016_15-27-40_OOR/20161013_demo_test-10-13-2016_15-27-40_OOR_00001371']"
      ]
     },
     "execution_count": 18,
     "metadata": {},
     "output_type": "execute_result"
    }
   ],
   "source": [
    "test_folder_list[0:4]"
   ]
  },
  {
   "cell_type": "code",
   "execution_count": 19,
   "metadata": {},
   "outputs": [
    {
     "data": {
      "text/plain": [
       "['./rear_signal_dataset/route5-07-11-2016_18-33-42_idx99/route5-07-11-2016_18-33-42_idx99_BOO/route5-07-11-2016_18-33-42_idx99_BOO_00012515',\n",
       " './rear_signal_dataset/g1k8-07-12-2016_11-11-30_idx99/g1k8-07-12-2016_11-11-30_idx99_OOO/g1k8-07-12-2016_11-11-30_idx99_OOO_00077952',\n",
       " './rear_signal_dataset/20160805_g1k17-08-05-2016_16-25-43_idx99/20160805_g1k17-08-05-2016_16-25-43_idx99_BOO/20160805_g1k17-08-05-2016_16-25-43_idx99_BOO_00032686',\n",
       " './rear_signal_dataset/20160809_route8-08-09-2016_09-50-36_idx99/20160809_route8-08-09-2016_09-50-36_idx99_OLO/20160809_route8-08-09-2016_09-50-36_idx99_OLO_00002598']"
      ]
     },
     "execution_count": 19,
     "metadata": {},
     "output_type": "execute_result"
    }
   ],
   "source": [
    "train_folder_list[0:4]"
   ]
  },
  {
   "cell_type": "code",
   "execution_count": 20,
   "metadata": {},
   "outputs": [
    {
     "data": {
      "text/plain": [
       "['./rear_signal_dataset/route13-07-29-2016_17-19-45_idx99/route13-07-29-2016_17-19-45_idx99_BOO/route13-07-29-2016_17-19-45_idx99_BOO_00008152',\n",
       " './rear_signal_dataset/20160915_route_demo1-09-15-2016_18-28-53/20160915_route_demo1-09-15-2016_18-28-53_BLO/20160915_route_demo1-09-15-2016_18-28-53_BLO_00000492',\n",
       " './rear_signal_dataset/route13-07-29-2016_17-19-45_idx99/route13-07-29-2016_17-19-45_idx99_BOO/route13-07-29-2016_17-19-45_idx99_BOO_00051773',\n",
       " './rear_signal_dataset/route-02-23-2016_16-58-32/route-02-23-2016_16-58-32_OLO/route-02-23-2016_16-58-32_OLO_1286']"
      ]
     },
     "execution_count": 20,
     "metadata": {},
     "output_type": "execute_result"
    }
   ],
   "source": [
    "valid_folder_list[0:4]"
   ]
  },
  {
   "cell_type": "markdown",
   "metadata": {},
   "source": [
    "### True labels of test data\n",
    "This part is used under the section \"Prediction\""
   ]
  },
  {
   "cell_type": "code",
   "execution_count": 16,
   "metadata": {},
   "outputs": [
    {
     "name": "stdout",
     "output_type": "stream",
     "text": [
      "First test data binary labels:\n",
      " [[1 1 0]\n",
      " [1 1 0]\n",
      " [1 0 0]\n",
      " [0 0 1]]\n",
      "First test data categorical:\n",
      " [[1 0 0 0 0 0 0 0]\n",
      " [1 0 0 0 0 0 0 0]\n",
      " [0 0 1 0 0 0 0 0]\n",
      " [0 0 0 0 0 0 0 1]]\n"
     ]
    }
   ],
   "source": [
    "raw_label_list = []\n",
    "for folder in test_folder_list:\n",
    "    label = folder.split(\"_\")[-2]\n",
    "    raw_label_list.append(label)\n",
    "\n",
    "Y_test_binary = labels_to_binary(raw_label_list)\n",
    "Y_test_categ = lb.transform(raw_label_list)\n",
    "print('First test data binary labels:\\n', Y_test_binary[0:4])\n",
    "print('First test data categorical:\\n', Y_test_categ[0:4])"
   ]
  },
  {
   "cell_type": "markdown",
   "metadata": {},
   "source": [
    "## Fit generator\n",
    "Kommentaar: parameetri \"aug\" kasutus pole hetkel implementeeritud\n",
    "\n",
    "Source:https://www.pyimagesearch.com/2018/12/24/how-to-use-keras-fit-and-fit_generator-a-hands-on-tutorial/"
   ]
  },
  {
   "cell_type": "code",
   "execution_count": 4,
   "metadata": {},
   "outputs": [],
   "source": [
    "import os\n",
    "import cv2\n",
    "import numpy as np\n",
    "from PIL import Image\n",
    "from keras.preprocessing.image import load_img,img_to_array\n",
    "from load_dataset_numpy import window\n",
    "\n",
    "\n",
    "class ImageSequenceGenerator:\n",
    "    \n",
    "    def __init__(self):\n",
    "        self.folder_count = 0\n",
    "        self.seq_count = 0\n",
    "        self.image_count = 0\n",
    "        self.folder_list = []\n",
    "\n",
    "\n",
    "    # label_type: \"binary\" or \"categorical\"\n",
    "    def png_image_generator(self, path, bs, mode=\"train\",difficulty=\"All\", sequence_limit=16, resize_dimension = 128, label_type = \"categorical\", aug=None):    \n",
    "        f = open(\"{0}/{1}.txt\".format(path, difficulty))\n",
    "\n",
    "        if mode == \"train\":\n",
    "            self.folder_list = train_folder_list\n",
    "        elif mode == \"valid\":\n",
    "            self.folder_list = valid_folder_list\n",
    "        elif mode == \"test\":\n",
    "            self.folder_list = test_folder_list            \n",
    "        \n",
    "        while True:\n",
    "            X_data = []\n",
    "            Y_data = []\n",
    "            X_data_flow_paths = []\n",
    "            X_data_flow_paths = []\n",
    "            X_data_warped_paths = []\n",
    "            X_data_warped_paths = []\n",
    "            X_data_diff_paths = []\n",
    "            X_data_diff_paths = []\n",
    "\n",
    "            for folder in self.folder_list:\n",
    "                label = folder.split(\"_\")[-2]\n",
    "                try:\n",
    "                    os.makedirs(folder+\"/flow_fields\")\n",
    "                except: \n",
    "                    pass\n",
    "                try:\n",
    "                    os.makedirs(folder+\"/warped\")\n",
    "                except:\n",
    "                    pass\n",
    "                try:\n",
    "                    os.makedirs(folder+\"/difference\")\n",
    "                except:\n",
    "                    pass\n",
    "                folder += \"/light_mask\"\n",
    "                images = [folder + \"/\" + f for f in os.listdir(folder) if os.path.isfile(os.path.join(folder, f))]\n",
    "                self.image_count += len(images)\n",
    "                \n",
    "                img_list = [] #np.empty((16, 227,227,3)) # images from all the sequences\n",
    "                flow_path_list = []\n",
    "                warped_path_list = []\n",
    "                diff_path_list = []\n",
    "                #print('\\n processing folder {0}, number of images in that folder {1} '.format(self.folder_count,len(images)))\n",
    "\n",
    "                # split the images into sequneces of length 16\n",
    "                #(e.g. folder contains 20 images, then first seq is 1-16, second seq 2-17, third seq 3-18 etc)\n",
    "                for each in window(images, 16):\n",
    "                    img_seq_list = [] # only images from one 16 image sequence,  size will be (16, 227,227,3)\n",
    "                    one_images_seq = np.array(each) # 1-16, 2-17, etc\n",
    "\n",
    "                    # read each image to numpy sequence\n",
    "                    for img in one_images_seq:\n",
    "                        img_load = load_img(img, target_size = (resize_dimension,resize_dimension))\n",
    "                        img_array = img_to_array(img_load)\n",
    "                        img_seq_list.append(img_array)\n",
    "\n",
    "                        flow_path_list.append(img.replace('/light_mask','/flow_fields'))\n",
    "                        warped_path_list.append(img.replace('/light_mask','warped'))\n",
    "                        diff_path_list.append(img.replace('light_mask','difference'))\n",
    "\n",
    "                    self.seq_count += 1\n",
    "                    X_data.append(np.asarray(img_seq_list)) \n",
    "                    Y_data.append(label)#folder_components[-2])\n",
    "                    X_data_flow_paths.append(flow_path_list)\n",
    "                    X_data_warped_paths.append(warped_path_list)\n",
    "                    X_data_diff_paths.append(diff_path_list)\n",
    "                    if (len(X_data) == bs):                        \n",
    "                        if label_type == \"categorical\":\n",
    "                            Y_data = lb.transform(np.array(Y_data))\n",
    "                        elif label_type == \"binary\":\n",
    "                            Y_data = labels_to_binary(Y_data)\n",
    "                        else:\n",
    "                            print('Invalid label type!')\n",
    "                        yield np.asarray(X_data), np.asarray(Y_data)\n",
    "                        X_data=[]\n",
    "                        Y_data=[]\n",
    "\n",
    "                self.folder_count +=1"
   ]
  },
  {
   "cell_type": "markdown",
   "metadata": {},
   "source": [
    "TODO:\n",
    "* implementeerida ImageDataGenerator kasutus, pole triviaalne, sest ImageDataGenerator saab kasutada ainult üksikute piltide ja mitte piltide sequencite jaoks  (selle põhjalhttps://www.pyimagesearch.com/2018/12/24/how-to-use-keras-fit-and-fit_generator-a-hands-on-tutorial/)"
   ]
  },
  {
   "cell_type": "code",
   "execution_count": 21,
   "metadata": {},
   "outputs": [
    {
     "name": "stdout",
     "output_type": "stream",
     "text": [
      "NUM_TRAIN_SEQ: 240.0\n",
      "NUM_VALID_SEQ: 104.0\n",
      "NUM_TEST_SEQ: 91.0\n"
     ]
    }
   ],
   "source": [
    "from tensorflow.keras.preprocessing.image import ImageDataGenerator\n",
    "\n",
    "label_type = \"binary\"\n",
    "# initialize the number of epochs to train for and batch size\n",
    "NUM_EPOCHS = 2 #20\n",
    "BS = 8 #32\n",
    "#standard batch size is 32 või 64, but kernal dies with BS larger than 8\n",
    "\n",
    "# initialize the total number of training and testing sequences\n",
    "# initialize the share of sample\n",
    "ss = 0.01\n",
    "NUM_TRAIN_SEQ = round(count_train_seq*ss,0)\n",
    "NUM_VALID_SEQ = round(count_valid_seq*ss,0)\n",
    "NUM_TEST_SEQ = round(count_test_seq*ss,0)\n",
    "\n",
    "print('NUM_TRAIN_SEQ:', NUM_TRAIN_SEQ)\n",
    "print('NUM_VALID_SEQ:', NUM_VALID_SEQ)\n",
    "print('NUM_TEST_SEQ:', NUM_TEST_SEQ)\n",
    "\n",
    "# TODO: hetkel pole kasutuses\n",
    "# construct the training image generator for data augmentation\n",
    "# image data augmentation object will randomly rotate, flip, shear, etc. our training images.\n",
    "aug = ImageDataGenerator(rotation_range=20, zoom_range=0.15,\n",
    "    width_shift_range=0.2, height_shift_range=0.2, shear_range=0.15,\n",
    "    horizontal_flip=True, fill_mode=\"nearest\")\n",
    "\n",
    "img_seq_gen_train = ImageSequenceGenerator()\n",
    "img_seq_gen_valid = ImageSequenceGenerator()\n",
    "\n",
    "\n",
    "trainGenB = img_seq_gen_train.png_image_generator(path, bs=BS, mode=\"train\", difficulty=difficulty, label_type = \"binary\", aug=None)\n",
    "validGenB = img_seq_gen_valid.png_image_generator(path, bs=BS, mode=\"valid\", difficulty=difficulty, label_type = \"binary\", aug=None)\n",
    "\n"
   ]
  },
  {
   "cell_type": "markdown",
   "metadata": {},
   "source": [
    "### Important: if target is categorical use categorical_crossentropy, if target is binary use binary_crossentropy\n",
    "TODO:\n",
    "* salvestada mudel pärast treenimist, siis ei pea iga kord kui notebook uuesti mudelit nullist treenima hakata (näiteks https://machinelearningmastery.com/save-load-keras-deep-learning-models/)\n",
    "* teha joonised mudeli lossi ja accuracy muutustest treenimise käigus (näiteks https://machinelearningmastery.com/display-deep-learning-model-training-history-in-keras/)\n",
    "\n",
    "Comment: following warning can be ignored, it occurs during converting labels into binary \n",
    "\n",
    "Warning: .../miniconda3/envs/stacc/lib/python3.6/site-packages/sklearn/preprocessing/label.py:951: UserWarning: unknown class(es) ['O'] will be ignored\n",
    "  .format(sorted(unknown, key=str)))"
   ]
  },
  {
   "cell_type": "code",
   "execution_count": 11,
   "metadata": {
    "scrolled": true
   },
   "outputs": [
    {
     "name": "stdout",
     "output_type": "stream",
     "text": [
      "Binary model: steps per epoch: 30.0, validation steps: 13.0\n",
      "[INFO] training w/ generator...\n",
      "Epoch 1/2\n",
      "folderfolder ./rear_signal_dataset/20160812_route1-08-12-2016_20-01-56_idx99/20160812_route1-08-12-2016_20-01-56_idx99_BOO/20160812_route1-08-12-2016_20-01-56_idx99_BOO_00019253 \n",
      "\n",
      " ./rear_signal_dataset/g1k12-07-20-2016_14-56-29_idx99/g1k12-07-20-2016_14-56-29_idx99_OOO/g1k12-07-20-2016_14-56-29_idx99_OOO_00098662 \n",
      "\n"
     ]
    },
    {
     "name": "stderr",
     "output_type": "stream",
     "text": [
      "/home/anneott/miniconda3/envs/stacc/lib/python3.6/site-packages/sklearn/preprocessing/label.py:951: UserWarning: unknown class(es) ['O'] will be ignored\n",
      "  .format(sorted(unknown, key=str)))\n"
     ]
    },
    {
     "name": "stdout",
     "output_type": "stream",
     "text": [
      " 4/30 [===>..........................] - ETA: 2:39 - loss: 0.8691 - accuracy: 0.5729folder ./rear_signal_dataset/route13-07-29-2016_17-19-45_idx99/route13-07-29-2016_17-19-45_idx99_BOO/route13-07-29-2016_17-19-45_idx99_BOO_00051779 \n",
      "\n",
      "10/30 [=========>....................] - ETA: 1:43 - loss: 0.9005 - accuracy: 0.5625folder ./rear_signal_dataset/20160805_g1k17-08-05-2016_16-25-43_idx99/20160805_g1k17-08-05-2016_16-25-43_idx99_BOO/20160805_g1k17-08-05-2016_16-25-43_idx99_BOO_00041085 \n",
      "\n",
      "12/30 [===========>..................] - ETA: 1:32 - loss: 0.9913 - accuracy: 0.5243folder ./rear_signal_dataset/20160919_demo_highway-09-19-2016_14-03-01/20160919_demo_highway-09-19-2016_14-03-01_BLO/20160919_demo_highway-09-19-2016_14-03-01_BLO_00000223 \n",
      "\n",
      "19/30 [==================>...........] - ETA: 56s - loss: 1.1351 - accuracy: 0.4539 folder ./rear_signal_dataset/route-02-23-2016_17-17-51/route-02-23-2016_17-17-51_BOO/route-02-23-2016_17-17-51_BOO_9331 \n",
      "\n",
      "folder ./rear_signal_dataset/20160805_g1k17-08-05-2016_15-57-59_idx99/20160805_g1k17-08-05-2016_15-57-59_idx99_OOO/20160805_g1k17-08-05-2016_15-57-59_idx99_OOO_00009774 \n",
      "\n",
      "20/30 [===================>..........] - ETA: 51s - loss: 1.1165 - accuracy: 0.4479folder ./rear_signal_dataset/g1k12-07-20-2016_14-56-29_idx99/g1k12-07-20-2016_14-56-29_idx99_OOO/g1k12-07-20-2016_14-56-29_idx99_OOO_00071412 \n",
      "\n",
      "25/30 [========================>.....] - ETA: 25s - loss: 1.0249 - accuracy: 0.4683folder ./rear_signal_dataset/route-02-23-2016_16-43-31/route-02-23-2016_16-43-31_OLO/route-02-23-2016_16-43-31_OLO_10849 \n",
      "\n",
      "29/30 [============================>.] - ETA: 5s - loss: 0.9670 - accuracy: 0.4871 folder ./rear_signal_dataset/route13-07-29-2016_17-19-45_idx99/route13-07-29-2016_17-19-45_idx99_BOO/route13-07-29-2016_17-19-45_idx99_BOO_00051773 \n",
      "\n",
      "folder ./rear_signal_dataset/route7_g1k-07-12-2016_09-19-32_idx99/route7_g1k-07-12-2016_09-19-32_idx99_OLO/route7_g1k-07-12-2016_09-19-32_idx99_OLO_00064071 \n",
      "\n",
      "folder ./rear_signal_dataset/route5-07-11-2016_18-33-42_idx99/route5-07-11-2016_18-33-42_idx99_OLO/route5-07-11-2016_18-33-42_idx99_OLO_00013994 \n",
      "\n",
      "30/30 [==============================] - 170s 6s/step - loss: 0.9548 - accuracy: 0.4819 - val_loss: 0.4396 - val_accuracy: 0.6923\n",
      "Epoch 2/2\n",
      "folder ./rear_signal_dataset/20160805_g1k17-08-05-2016_16-25-43_idx99/20160805_g1k17-08-05-2016_16-25-43_idx99_OOO/20160805_g1k17-08-05-2016_16-25-43_idx99_OOO_00032589 \n",
      "\n",
      "folder ./rear_signal_dataset/20160915_demo_surface_cc-09-15-2016_13-32-39/20160915_demo_surface_cc-09-15-2016_13-32-39_BLO/20160915_demo_surface_cc-09-15-2016_13-32-39_BLO_00001723 \n",
      "\n",
      " 4/30 [===>..........................] - ETA: 1:58 - loss: 0.4329 - accuracy: 0.8958folder ./rear_signal_dataset/route-02-23-2016_17-17-51/route-02-23-2016_17-17-51_BOO/route-02-23-2016_17-17-51_BOO_5998 \n",
      "\n",
      "29/30 [============================>.] - ETA: 4s - loss: 0.6066 - accuracy: 0.6940folder ./rear_signal_dataset/g1k16-08-05-2016_11-12-08_idx99/g1k16-08-05-2016_11-12-08_idx99_OOR/g1k16-08-05-2016_11-12-08_idx99_OOR_00009331 \n",
      "\n",
      "30/30 [==============================] - 166s 6s/step - loss: 0.5994 - accuracy: 0.7042 - val_loss: 0.4339 - val_accuracy: 0.5801\n"
     ]
    }
   ],
   "source": [
    "#model = MiniVGGNet.build(64, 64, 3, len(lb.classes_))\n",
    "#opt = SGD(lr=1e-2, momentum=0.9, decay=1e-2 / NUM_EPOCHS)\n",
    "\n",
    "modelB.compile(loss=\"sparse_categorical_crossentropy\", optimizer='adam',metrics=[\"accuracy\"])    \n",
    "modelB.compile(loss='binary_crossentropy', optimizer='adam', metrics=['accuracy'])\n",
    "\n",
    "#opt = keras.optimizers.Adam(learning_rate=0.01)\n",
    "#model.compile(loss='categorical_crossentropy', optimizer=opt)\n",
    "\n",
    "print('Binary model: steps per epoch: {0}, validation steps: {1}'.format(NUM_TRAIN_SEQ // BS, NUM_VALID_SEQ // BS))    \n",
    "    \n",
    "# train the network\n",
    "print(\"[INFO] training w/ generator...\")\n",
    "historyB = modelB.fit(\n",
    "    x=trainGenB,\n",
    "    steps_per_epoch=NUM_TRAIN_SEQ // BS,\n",
    "    validation_data=validGenB,\n",
    "    validation_steps=NUM_VALID_SEQ // BS,\n",
    "    epochs=NUM_EPOCHS)\n",
    "\n"
   ]
  },
  {
   "cell_type": "code",
   "execution_count": 8,
   "metadata": {},
   "outputs": [
    {
     "name": "stdout",
     "output_type": "stream",
     "text": [
      "Categorical model: steps per epoch: 30.0, validation steps: 13.0\n",
      "Epoch 1/2\n",
      "30/30 [==============================] - 191s 6s/step - loss: 1.3672 - accuracy: 0.5667 - val_loss: 3.0852 - val_accuracy: 0.0000e+00\n",
      "Epoch 2/2\n",
      "30/30 [==============================] - 213s 7s/step - loss: 2.0164 - accuracy: 0.1875 - val_loss: 1.0031 - val_accuracy: 0.0000e+00\n"
     ]
    }
   ],
   "source": [
    "# categorical model \n",
    "img_seq_gen_train = ImageSequenceGenerator()\n",
    "img_seq_gen_valid = ImageSequenceGenerator()\n",
    "\n",
    "trainGenC = img_seq_gen_train.png_image_generator(path, bs=BS, mode=\"train\", difficulty=difficulty, label_type = \"categorical\", aug=None)\n",
    "validGenC = img_seq_gen_valid.png_image_generator(path, bs=BS, mode=\"valid\", difficulty=difficulty, label_type = \"categorical\", aug=None)\n",
    "\n",
    "modelC.compile(loss=\"categorical_crossentropy\", optimizer='adam',metrics=[\"accuracy\"])\n",
    "print('Categorical model: steps per epoch: {0}, validation steps: {1}'.format(NUM_TRAIN_SEQ // BS, NUM_VALID_SEQ // BS))    \n",
    "\n",
    "historyC = modelC.fit(\n",
    "    x=trainGenC,\n",
    "    steps_per_epoch=NUM_TRAIN_SEQ // BS,\n",
    "    validation_data=validGenC,\n",
    "    validation_steps=NUM_VALID_SEQ // BS,\n",
    "    epochs=NUM_EPOCHS)"
   ]
  },
  {
   "cell_type": "code",
   "execution_count": 9,
   "metadata": {},
   "outputs": [
    {
     "name": "stdout",
     "output_type": "stream",
     "text": [
      "number of train image sequences: 568, number of valid image sequences: 296\n",
      "number of train folders processed: 6, number of valid folders processed: 6\n"
     ]
    }
   ],
   "source": [
    "print('number of train image sequences: {0}, number of valid image sequences: {1}'.format(\n",
    "    img_seq_gen_train.seq_count, img_seq_gen_valid.seq_count))\n",
    "print('number of train folders processed: {0}, number of valid folders processed: {1}'.format(img_seq_gen_train.folder_count, img_seq_gen_valid.folder_count))"
   ]
  },
  {
   "cell_type": "markdown",
   "metadata": {},
   "source": [
    "### Saving the model"
   ]
  },
  {
   "cell_type": "code",
   "execution_count": 19,
   "metadata": {},
   "outputs": [],
   "source": [
    "modelB.save('saved_models/model_easy_bin_imsize128_epochs2_TEST')"
   ]
  },
  {
   "cell_type": "markdown",
   "metadata": {},
   "source": [
    "### Loading the saved model"
   ]
  },
  {
   "cell_type": "code",
   "execution_count": 2,
   "metadata": {},
   "outputs": [
    {
     "name": "stderr",
     "output_type": "stream",
     "text": [
      "Using TensorFlow backend.\n"
     ]
    },
    {
     "data": {
      "text/plain": [
       "<keras.engine.sequential.Sequential at 0x7f62b2390f60>"
      ]
     },
     "execution_count": 2,
     "metadata": {},
     "output_type": "execute_result"
    }
   ],
   "source": [
    "import keras\n",
    "model = keras.models.load_model('saved_models/model_easy_bin_imsize128_epochs2_TEST')\n",
    "model"
   ]
  },
  {
   "cell_type": "markdown",
   "metadata": {},
   "source": [
    "### Training accuracy and loss visualisation"
   ]
  },
  {
   "cell_type": "code",
   "execution_count": 22,
   "metadata": {},
   "outputs": [
    {
     "data": {
      "image/png": "[encoded data removed]",
      "text/plain": [
       "<Figure size 432x288 with 1 Axes>"
      ]
     },
     "metadata": {
      "needs_background": "light"
     },
     "output_type": "display_data"
    },
    {
     "data": {
      "image/png": "[encoded data removed]",
      "text/plain": [
       "<Figure size 432x288 with 1 Axes>"
      ]
     },
     "metadata": {
      "needs_background": "light"
     },
     "output_type": "display_data"
    }
   ],
   "source": [
    "# modelB\n",
    "import matplotlib.pyplot as plt\n",
    "# summarize history for accuracy\n",
    "plt.plot(historyB.history['accuracy'])\n",
    "plt.plot(historyB.history['val_accuracy'])\n",
    "plt.title('model binary accuracy')\n",
    "plt.ylabel('accuracy')\n",
    "plt.xlabel('epoch')\n",
    "plt.legend(['train', 'validation'], loc='upper left')\n",
    "plt.show()\n",
    "# summarize history for loss\n",
    "plt.plot(historyB.history['loss'])\n",
    "plt.plot(historyB.history['val_loss'])\n",
    "plt.title('model binary loss')\n",
    "plt.ylabel('loss')\n",
    "plt.xlabel('epoch')\n",
    "plt.legend(['train', 'validation'], loc='upper left')\n",
    "plt.show()"
   ]
  },
  {
   "cell_type": "code",
   "execution_count": null,
   "metadata": {},
   "outputs": [],
   "source": [
    "# modelC\n",
    "import matplotlib.pyplot as plt\n",
    "# summarize history for accuracy\n",
    "plt.plot(historyC.history['accuracy'])\n",
    "plt.plot(historyC.history['val_accuracy'])\n",
    "plt.title('model categorical accuracy')\n",
    "plt.ylabel('accuracy')\n",
    "plt.xlabel('epoch')\n",
    "plt.legend(['train', 'validation'], loc='upper left')\n",
    "plt.show()\n",
    "# summarize history for loss\n",
    "plt.plot(historyC.history['loss'])\n",
    "plt.plot(historyC.history['val_loss'])\n",
    "plt.title('model categorical loss')\n",
    "plt.ylabel('loss')\n",
    "plt.xlabel('epoch')\n",
    "plt.legend(['train', 'validation'], loc='upper left')\n",
    "plt.show()\n"
   ]
  },
  {
   "cell_type": "markdown",
   "metadata": {},
   "source": [
    "### Prediction\n",
    "* Source: https://www.pyimagesearch.com/2018/12/24/how-to-use-keras-fit-and-fit_generator-a-hands-on-tutorial/"
   ]
  },
  {
   "cell_type": "code",
   "execution_count": 23,
   "metadata": {},
   "outputs": [
    {
     "name": "stdout",
     "output_type": "stream",
     "text": [
      "predicted probability:\n",
      " [[0.5152317  0.34639373 0.13837449]\n",
      " [0.5152317  0.34639373 0.13837449]\n",
      " [0.5152317  0.34639373 0.13837449]\n",
      " [0.5152317  0.34639373 0.13837449]]\n",
      "predictions:\n",
      " [[1 0 0]\n",
      " [1 0 0]\n",
      " [1 0 0]\n",
      " [1 0 0]]\n",
      "true labels:\n",
      " [[1 1 0]\n",
      " [1 1 0]\n",
      " [1 0 0]\n",
      " [0 0 1]]\n",
      "[INFO] evaluating network...\n",
      "              precision    recall  f1-score   support\n",
      "\n",
      "           B       0.68      1.00      0.81        65\n",
      "           L       0.00      0.00      0.00        35\n",
      "           R       0.00      0.00      0.00        27\n",
      "\n",
      "   micro avg       0.68      0.51      0.58       127\n",
      "   macro avg       0.23      0.33      0.27       127\n",
      "weighted avg       0.35      0.51      0.41       127\n",
      " samples avg       0.68      0.51      0.56       127\n",
      "\n"
     ]
    }
   ],
   "source": [
    "from sklearn.metrics import classification_report\n",
    "from keras.preprocessing.image import ImageDataGenerator, DirectoryIterator\n",
    "import math \n",
    "# re-initialize our testing data generator, this time for evaluating\n",
    "img_seq_gen_test = ImageSequenceGenerator()\n",
    "testGen = img_seq_gen_test.png_image_generator(path, bs=BS, mode=\"test\", difficulty=difficulty, label_type = label_type, aug=None)\n",
    "\n",
    "# label with the corresponding predicted PROBABILITYs for each class e.g. [0.4, 0.7, 0.2]\n",
    "predict_prob = model.predict(x=testGen, steps=(NUM_TEST_SEQ // BS) + 1)\n",
    "print('predicted probability:\\n',predict_prob[0:4])\n",
    "# convert probabilities to binary, with given threshold  e.g. [0,1,0]\n",
    "threshold = 0.5\n",
    "Y_predict_binary = np.where(predict_prob > threshold, 1, 0)\n",
    "print('predictions:\\n', Y_predict_binary[0:4])\n",
    "print('true labels:\\n', Y_test_binary[0:4])\n",
    "\n",
    "# show a nicely formatted classification report\n",
    "print(\"[INFO] evaluating network...\")\n",
    "print(classification_report(Y_test_binary, Y_predict_binary, target_names=['B','L','R']))"
   ]
  }
 ],
 "metadata": {
  "kernelspec": {
   "display_name": "Python 3",
   "language": "python",
   "name": "python3"
  },
  "language_info": {
   "codemirror_mode": {
    "name": "ipython",
    "version": 3
   },
   "file_extension": ".py",
   "mimetype": "text/x-python",
   "name": "python",
   "nbconvert_exporter": "python",
   "pygments_lexer": "ipython3",
   "version": "3.6.7"
  }
 },
 "nbformat": 4,
 "nbformat_minor": 2
}
