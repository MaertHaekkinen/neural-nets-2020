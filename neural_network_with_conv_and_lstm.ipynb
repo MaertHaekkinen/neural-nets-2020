{
 "cells": [
  {
   "cell_type": "markdown",
   "metadata": {},
   "source": [
    "# Layer structure\n",
    "\n",
    "<img src=\"images/layer_structure.png\">"
   ]
  },
  {
   "cell_type": "markdown",
   "metadata": {},
   "source": [
    "### Important: if target is categorical use Dense(8) if target is binary use Dense(3)\n",
    "* modelB stands for model that uses binary feature\n",
    "* modelC stands for model that uses categorical feature"
   ]
  },
  {
   "cell_type": "code",
   "execution_count": 41,
   "metadata": {},
   "outputs": [
    {
     "name": "stdout",
     "output_type": "stream",
     "text": [
      "Model: \"sequential_7\"\n",
      "_________________________________________________________________\n",
      "Layer (type)                 Output Shape              Param #   \n",
      "=================================================================\n",
      "time_distributed_61 (TimeDis (None, 16, 61, 61, 96)    14208     \n",
      "_________________________________________________________________\n",
      "time_distributed_62 (TimeDis (None, 16, 30, 30, 96)    0         \n",
      "_________________________________________________________________\n",
      "time_distributed_63 (TimeDis (None, 16, 14, 14, 384)   332160    \n",
      "_________________________________________________________________\n",
      "time_distributed_64 (TimeDis (None, 16, 7, 7, 384)     0         \n",
      "_________________________________________________________________\n",
      "time_distributed_65 (TimeDis (None, 16, 7, 7, 512)     1769984   \n",
      "_________________________________________________________________\n",
      "time_distributed_66 (TimeDis (None, 16, 7, 7, 512)     2359808   \n",
      "_________________________________________________________________\n",
      "time_distributed_67 (TimeDis (None, 16, 7, 7, 384)     1769856   \n",
      "_________________________________________________________________\n",
      "time_distributed_68 (TimeDis (None, 16, 3, 3, 384)     0         \n",
      "_________________________________________________________________\n",
      "time_distributed_69 (TimeDis (None, 16, 3456)          0         \n",
      "_________________________________________________________________\n",
      "time_distributed_70 (TimeDis (None, 16, 4096)          14159872  \n",
      "_________________________________________________________________\n",
      "lstm_7 (LSTM)                (None, 256)               4457472   \n",
      "_________________________________________________________________\n",
      "dense_20 (Dense)             (None, 3)                 771       \n",
      "_________________________________________________________________\n",
      "activation_13 (Activation)   (None, 3)                 0         \n",
      "=================================================================\n",
      "Total params: 24,864,131\n",
      "Trainable params: 24,864,131\n",
      "Non-trainable params: 0\n",
      "_________________________________________________________________\n",
      "None\n",
      "Model: \"sequential_8\"\n",
      "_________________________________________________________________\n",
      "Layer (type)                 Output Shape              Param #   \n",
      "=================================================================\n",
      "time_distributed_71 (TimeDis (None, 16, 61, 61, 96)    14208     \n",
      "_________________________________________________________________\n",
      "time_distributed_72 (TimeDis (None, 16, 30, 30, 96)    0         \n",
      "_________________________________________________________________\n",
      "time_distributed_73 (TimeDis (None, 16, 14, 14, 384)   332160    \n",
      "_________________________________________________________________\n",
      "time_distributed_74 (TimeDis (None, 16, 7, 7, 384)     0         \n",
      "_________________________________________________________________\n",
      "time_distributed_75 (TimeDis (None, 16, 7, 7, 512)     1769984   \n",
      "_________________________________________________________________\n",
      "time_distributed_76 (TimeDis (None, 16, 7, 7, 512)     2359808   \n",
      "_________________________________________________________________\n",
      "time_distributed_77 (TimeDis (None, 16, 7, 7, 384)     1769856   \n",
      "_________________________________________________________________\n",
      "time_distributed_78 (TimeDis (None, 16, 3, 3, 384)     0         \n",
      "_________________________________________________________________\n",
      "time_distributed_79 (TimeDis (None, 16, 3456)          0         \n",
      "_________________________________________________________________\n",
      "time_distributed_80 (TimeDis (None, 16, 4096)          14159872  \n",
      "_________________________________________________________________\n",
      "lstm_8 (LSTM)                (None, 256)               4457472   \n",
      "_________________________________________________________________\n",
      "dense_22 (Dense)             (None, 8)                 2056      \n",
      "_________________________________________________________________\n",
      "activation_14 (Activation)   (None, 8)                 0         \n",
      "=================================================================\n",
      "Total params: 24,865,416\n",
      "Trainable params: 24,865,416\n",
      "Non-trainable params: 0\n",
      "_________________________________________________________________\n",
      "None\n"
     ]
    }
   ],
   "source": [
    "import keras\n",
    "import numpy as np\n",
    "from keras.models import Sequential\n",
    "from keras.layers import Dense, LSTM, Input, Conv2D, Dense, LSTM,MaxPooling2D , Flatten, TimeDistributed,Activation\n",
    "\n",
    "im_size = 128\n",
    "time_steps = 16 # len of image sequence\n",
    "channels = 3\n",
    "#input_shape=(nr_of_sequences, 16, 227, 227, 3))\n",
    "\n",
    "#modelB for binary response\n",
    "modelB = Sequential()\n",
    "modelB.add(TimeDistributed(Conv2D(filters=96, kernel_size=7,  strides=2, padding='valid'), input_shape=(time_steps,im_size,im_size,channels))) # first input shape is the len of seq\n",
    "modelB.add(TimeDistributed(MaxPooling2D(pool_size=(2, 2))))\n",
    "modelB.add(TimeDistributed(Conv2D(filters=384, kernel_size=3,  strides=2, padding='valid')))\n",
    "modelB.add(TimeDistributed(MaxPooling2D(pool_size=(2, 2))))\n",
    "modelB.add(TimeDistributed(Conv2D(filters=512, kernel_size=3, padding='same')))\n",
    "modelB.add(TimeDistributed(Conv2D(filters=512, kernel_size=3, padding='same')))\n",
    "modelB.add(TimeDistributed(Conv2D(filters=384, kernel_size=3, padding='same')))\n",
    "modelB.add(TimeDistributed(MaxPooling2D(pool_size=(2, 2))))\n",
    "modelB.add(TimeDistributed(Flatten())) #The Flatten layer is only needed because LSTM shape should have one dimension per input.\n",
    "modelB.add(TimeDistributed(Dense(4096)))\n",
    "modelB.add(LSTM(256, return_sequences=False)) #pole kindel return_sequence's, kui True, siis multiple outputs\n",
    "#When return_sequences=True, the output shape is (batch, timeSteps, outputFeatures)\n",
    "#When return_sequences=False, the output shape is (batch, outputFeatures)\n",
    "modelB.add((Dense(3))) # for categorical use Dense(8), for binary use Dense(3)\n",
    "modelB.add((Activation('softmax')))\n",
    "print(modelB.summary())\n",
    "\n",
    "#modelC for categorical response\n",
    "modelC = Sequential()\n",
    "modelC.add(TimeDistributed(Conv2D(filters=96, kernel_size=7,  strides=2, padding='valid'), input_shape=(time_steps,im_size,im_size,channels))) # first input shape is the len of seq\n",
    "modelC.add(TimeDistributed(MaxPooling2D(pool_size=(2, 2))))\n",
    "modelC.add(TimeDistributed(Conv2D(filters=384, kernel_size=3,  strides=2, padding='valid')))\n",
    "modelC.add(TimeDistributed(MaxPooling2D(pool_size=(2, 2))))\n",
    "modelC.add(TimeDistributed(Conv2D(filters=512, kernel_size=3, padding='same')))\n",
    "modelC.add(TimeDistributed(Conv2D(filters=512, kernel_size=3, padding='same')))\n",
    "modelC.add(TimeDistributed(Conv2D(filters=384, kernel_size=3, padding='same')))\n",
    "modelC.add(TimeDistributed(MaxPooling2D(pool_size=(2, 2))))\n",
    "modelC.add(TimeDistributed(Flatten())) #The Flatten layer is only needed because LSTM shape should have one dimension per input.\n",
    "modelC.add(TimeDistributed(Dense(4096)))\n",
    "modelC.add(LSTM(256, return_sequences=False)) #pole kindel return_sequence's, kui True, siis multiple outputs\n",
    "modelC.add((Dense(8)))\n",
    "modelC.add((Activation('softmax')))\n",
    "print(modelC.summary())"
   ]
  },
  {
   "cell_type": "markdown",
   "metadata": {},
   "source": [
    "## Categorical labels"
   ]
  },
  {
   "cell_type": "code",
   "execution_count": 42,
   "metadata": {},
   "outputs": [
    {
     "name": "stdout",
     "output_type": "stream",
     "text": [
      "{'OOO', 'BOO', 'BLR', 'OLO', 'OLR', 'BLO', 'OOR', 'BOR'}\n",
      "categorical labels: \n",
      " [[0 0 1 0 0 0 0 0]\n",
      " [1 0 0 0 0 0 0 0]\n",
      " [0 0 0 1 0 0 0 0]\n",
      " [0 1 0 0 0 0 0 0]\n",
      " [0 0 0 0 0 1 0 0]\n",
      " [0 0 0 0 1 0 0 0]\n",
      " [0 0 0 0 0 0 0 1]\n",
      " [0 0 0 0 0 0 1 0]]\n"
     ]
    }
   ],
   "source": [
    "#Encoding the labels\n",
    "from sklearn.preprocessing import LabelBinarizer\n",
    "labels = set(['BOO', 'BLO', 'BOR', 'BLR', 'OLR', 'OLO', 'OOR', 'OOO'])\n",
    "print(labels)\n",
    "lb = LabelBinarizer()\n",
    "lb.fit(list(labels))\n",
    "print('categorical labels: \\n', lb.transform(['BOO', 'BLO', 'BOR', 'BLR', 'OLR', 'OLO', 'OOR', 'OOO']))"
   ]
  },
  {
   "cell_type": "markdown",
   "metadata": {},
   "source": [
    "## Binary labels\n",
    "\n",
    "Comment: following warning can be ignored, it occurs during converting labels into binary \n",
    "\n",
    "Warning: .../miniconda3/envs/stacc/lib/python3.6/site-packages/sklearn/preprocessing/label.py:951: UserWarning: unknown class(es) ['O'] will be ignored\n",
    "  .format(sorted(unknown, key=str)))"
   ]
  },
  {
   "cell_type": "code",
   "execution_count": 43,
   "metadata": {},
   "outputs": [
    {
     "name": "stdout",
     "output_type": "stream",
     "text": [
      "initial labels: \n",
      " ['BOO', 'BLO', 'BOR', 'BLR', 'OLR', 'OLO', 'OOR', 'OOO']\n",
      "labels in binary: \n",
      " [[1 0 0]\n",
      " [1 1 0]\n",
      " [1 0 1]\n",
      " [1 1 1]\n",
      " [0 1 1]\n",
      " [0 1 0]\n",
      " [0 0 1]\n",
      " [0 0 0]]\n"
     ]
    }
   ],
   "source": [
    "from sklearn.preprocessing import MultiLabelBinarizer\n",
    "\n",
    "mlb = MultiLabelBinarizer(classes=['B','L','R'])\n",
    "\n",
    "def labels_to_binary(ini_labels):\n",
    "    \"\"\"\n",
    "    Takes as input list of labels (e.g. ['BOO', 'BLO', 'BOR'])\n",
    "    Outputs numpy ndarray of the labels in binary (e.g. [[1 0 0] [1 1 0] [1 0 1])\n",
    "    \"\"\"\n",
    "    labels = []\n",
    "    for label in ini_labels:\n",
    "        label_split = list(label) # ['BLO'] -> ['B','L','O']\n",
    "        labels.append(label_split) # [['B','L','O']]\n",
    "\n",
    "    return mlb.fit_transform(labels)\n",
    "\n",
    "\n",
    "ini_labels = ['BOO', 'BLO', 'BOR', 'BLR', 'OLR', 'OLO', 'OOR', 'OOO']\n",
    "print('initial labels: \\n', ini_labels)\n",
    "labels_binary = labels_to_binary(ini_labels)\n",
    "print('labels in binary: \\n', labels_binary)"
   ]
  },
  {
   "cell_type": "markdown",
   "metadata": {},
   "source": [
    "### Split all non-test folders into train and validation\n",
    "Train data is 70% and validation is 30%.\n",
    "Output is list of folder names belonging to training set (train_folder_list) and validation set (valid_folder_list)."
   ]
  },
  {
   "cell_type": "code",
   "execution_count": 44,
   "metadata": {},
   "outputs": [
    {
     "name": "stdout",
     "output_type": "stream",
     "text": [
      "total number of non-test folders is  471  for difficulty  Easy\n",
      "total number of non-test image sequences is  34421\n",
      "total number of test image sequences is  9069\n",
      "\n",
      "final train set contains  23928  image sequences ( 70 % )\n",
      "final validation set contains  10493  image sequences ( 30 % )\n",
      "final test set contains  9069  image sequences\n"
     ]
    }
   ],
   "source": [
    "from create_train_and_validation import create_train_and_validation_set\n",
    "\n",
    "path=\"/Users/liissimmul/Desktop/rear_signal_dataset/\"\n",
    "difficulty=\"Easy\"\n",
    "\n",
    "train_folder_list, valid_folder_list, test_folder_list, count_train_seq, count_valid_seq, count_test_seq = create_train_and_validation_set(path, difficulty)"
   ]
  },
  {
   "cell_type": "markdown",
   "metadata": {},
   "source": [
    "## Fit generator\n",
    "Kommentaar: parameetri \"aug\" kasutus pole hetkel implementeeritud\n",
    "\n",
    "Source:https://www.pyimagesearch.com/2018/12/24/how-to-use-keras-fit-and-fit_generator-a-hands-on-tutorial/"
   ]
  },
  {
   "cell_type": "code",
   "execution_count": 45,
   "metadata": {},
   "outputs": [],
   "source": [
    "import os\n",
    "import cv2\n",
    "import numpy as np\n",
    "from PIL import Image\n",
    "from keras.preprocessing.image import load_img,img_to_array\n",
    "from load_dataset_numpy import window\n",
    "\n",
    "\n",
    "class ImageSequenceGenerator:\n",
    "    \n",
    "    def __init__(self):\n",
    "        self.folder_count = 0\n",
    "        self.seq_count = 0\n",
    "        self.image_count = 0\n",
    "        self.folder_list = []\n",
    "\n",
    "\n",
    "    # label_type: \"binary\" or \"categorical\"\n",
    "    def png_image_generator(self, path, bs, mode=\"train\",difficulty=\"All\", sequence_limit=16, resize_dimension = 128, label_type = \"categorical\", aug=None):    \n",
    "        f = open(\"{0}/{1}.txt\".format(path, difficulty))\n",
    "\n",
    "        if mode == \"train\":\n",
    "            self.folder_list = train_folder_list\n",
    "        elif mode == \"valid\":\n",
    "            self.folder_list = valid_folder_list\n",
    "        elif mode == \"test\":\n",
    "            self.folder_list = test_folder_list            \n",
    "        \n",
    "        while True:\n",
    "            X_train = []\n",
    "            X_test = []\n",
    "            Y_train = []\n",
    "            Y_test = []\n",
    "            X_train_flow_paths = []\n",
    "            X_test_flow_paths = []\n",
    "            X_train_warped_paths = []\n",
    "            X_test_warped_paths = []\n",
    "            X_train_diff_paths = []\n",
    "            X_test_diff_paths = []\n",
    "\n",
    "            content = f.readlines()\n",
    "            for folder in content:\n",
    "                # Load the data\n",
    "                folder_components = folder.split(\"_\")\n",
    "                folder_components[-1] = folder_components[-1][:-1]\n",
    "                base = str(\"_\".join(folder_components[:-2]))\n",
    "                file_name = str(\"_\".join(folder_components))\n",
    "                \n",
    "                # only interested in folders that are specified in \"mode\"\n",
    "                if not file_name in self.folder_list:\n",
    "                    continue\n",
    "                \n",
    "                folder = \"{0}/{1}/{2}\".format(path, base, (base + \"_\" + str(folder_components[-2])))\n",
    "                folder += \"/\" + file_name\n",
    "                try:\n",
    "                    os.makedirs(folder+\"/flow_fields\")\n",
    "                except: \n",
    "                    pass\n",
    "                try:\n",
    "                    os.makedirs(folder+\"/warped\")\n",
    "                except:\n",
    "                    pass\n",
    "                try:\n",
    "                    os.makedirs(folder+\"/difference\")\n",
    "                except:\n",
    "                    pass\n",
    "                folder += \"/light_mask\"\n",
    "                images = [folder + \"/\" + f for f in os.listdir(folder) if os.path.isfile(os.path.join(folder, f))]\n",
    "                self.image_count += len(images)\n",
    "                \n",
    "                img_list = [] #np.empty((16, 227,227,3)) # images from all the sequences\n",
    "                flow_path_list = []\n",
    "                warped_path_list = []\n",
    "                diff_path_list = []\n",
    "                #print('\\n processing folder {0}, number of images in that folder {1} '.format(self.folder_count,len(images)))\n",
    "\n",
    "                # split the images into sequneces of length 16\n",
    "                #(e.g. folder contains 20 images, then first seq is 1-16, second seq 2-17, third seq 3-18 etc)\n",
    "                for each in window(images, 16):\n",
    "                    img_seq_list = [] # only images from one 16 image sequence,  size will be (16, 227,227,3)\n",
    "                    one_images_seq = np.array(each) # 1-16, 2-17, etc\n",
    "\n",
    "                    # read each image to numpy sequence\n",
    "                    for img in one_images_seq:\n",
    "                        img_load = load_img(img, target_size = (resize_dimension,resize_dimension))\n",
    "                        img_array = img_to_array(img_load)\n",
    "                        img_seq_list.append(img_array)\n",
    "\n",
    "                        flow_path_list.append(img.replace('/light_mask','/flow_fields'))\n",
    "                        warped_path_list.append(img.replace('/light_mask','warped'))\n",
    "                        diff_path_list.append(img.replace('light_mask','difference'))\n",
    "\n",
    "                    #if(\"test-\" in folder):\n",
    "                    #    self.seq_count_test += 1\n",
    "                    #    X_test.append(np.asarray(img_seq_list))\n",
    "                    #    Y_test.append(folder_components[-2])     \n",
    "                    #    X_test_flow_paths.append(flow_path_list)\n",
    "                    #    X_test_warped_paths.append(warped_path_list)\n",
    "                    #    X_test_diff_paths.append(diff_path_list)\n",
    "                    #    if (len(X_test) == bs):\n",
    "                    #        if label_type == \"categorical\":\n",
    "                    #            Y_test = lb.transform(np.array(Y_test))\n",
    "                    #        elif label_type == \"binary\": # label type is binary\n",
    "                    #            Y_test = labels_to_binary(Y_test)\n",
    "                    #        else:\n",
    "                    #            print('Invalid label type!')\n",
    "                    #        yield np.asarray(X_test), np.asarray(Y_test)\n",
    "                    #        X_test=[]\n",
    "                    #        Y_test=[]\n",
    "                    #else:\n",
    "                    \n",
    "                    # bad naming, during testing phase X_train is actually X_test\n",
    "                    self.seq_count += 1\n",
    "                    X_train.append(np.asarray(img_seq_list)) \n",
    "                    Y_train.append(folder_components[-2])\n",
    "                    X_train_flow_paths.append(flow_path_list)\n",
    "                    X_train_warped_paths.append(warped_path_list)\n",
    "                    X_train_diff_paths.append(diff_path_list)\n",
    "                    if (len(X_train) == bs):                        \n",
    "                        if label_type == \"categorical\":\n",
    "                            Y_train = lb.transform(np.array(Y_train))\n",
    "                        elif label_type == \"binary\":\n",
    "                            Y_train = labels_to_binary(Y_train)\n",
    "                        else:\n",
    "                            print('Invalid label type!')\n",
    "                        yield np.asarray(X_train), np.asarray(Y_train)\n",
    "                        X_train=[]\n",
    "                        Y_train=[]\n",
    "\n",
    "                self.folder_count +=1"
   ]
  },
  {
   "cell_type": "markdown",
   "metadata": {},
   "source": [
    "TODO:\n",
    "* implementeerida ImageDataGenerator kasutus, pole triviaalne, sest ImageDataGenerator saab kasutada ainult üksikute piltide ja mitte piltide sequencite jaoks  (selle põhjalhttps://www.pyimagesearch.com/2018/12/24/how-to-use-keras-fit-and-fit_generator-a-hands-on-tutorial/)"
   ]
  },
  {
   "cell_type": "code",
   "execution_count": 53,
   "metadata": {},
   "outputs": [
    {
     "name": "stdout",
     "output_type": "stream",
     "text": [
      "239.0\n",
      "105.0\n",
      "91.0\n"
     ]
    }
   ],
   "source": [
    "from tensorflow.keras.preprocessing.image import ImageDataGenerator\n",
    "\n",
    "#label_type = \"binary\"\n",
    "# initialize the number of epochs to train for and batch size\n",
    "NUM_EPOCHS = 2 #20\n",
    "BS = 8 #32\n",
    "#standard batch size is 32 või 64, but kernal dies with BS larger than 8\n",
    "\n",
    "# initialize the total number of training and testing sequences\n",
    "# initialize the share of sample\n",
    "ss = 0.01\n",
    "NUM_TRAIN_SEQ = round(count_train_seq*ss,0)\n",
    "NUM_VALID_SEQ = round(count_valid_seq*ss,0)\n",
    "NUM_TEST_SEQ = round(count_test_seq*ss,0)\n",
    "\n",
    "print(NUM_TRAIN_SEQ)\n",
    "print(NUM_VALID_SEQ)\n",
    "print(NUM_TEST_SEQ)\n",
    "\n",
    "# TODO: hetkel pole kasutuses\n",
    "# construct the training image generator for data augmentation\n",
    "# image data augmentation object will randomly rotate, flip, shear, etc. our training images.\n",
    "aug = ImageDataGenerator(rotation_range=20, zoom_range=0.15,\n",
    "    width_shift_range=0.2, height_shift_range=0.2, shear_range=0.15,\n",
    "    horizontal_flip=True, fill_mode=\"nearest\")\n",
    "\n",
    "img_seq_gen_train = ImageSequenceGenerator()\n",
    "img_seq_gen_valid = ImageSequenceGenerator()\n",
    "\n",
    "\n",
    "trainGenB = img_seq_gen_train.png_image_generator(path, bs=BS, mode=\"train\", difficulty=difficulty, label_type = \"binary\", aug=None)\n",
    "validGenB = img_seq_gen_valid.png_image_generator(path, bs=BS, mode=\"valid\", difficulty=difficulty, label_type = \"binary\", aug=None)\n",
    "\n"
   ]
  },
  {
   "cell_type": "markdown",
   "metadata": {},
   "source": [
    "### Important: if target is categorical use categorical_crossentropy, if target is binary use binary_crossentropy\n",
    "TODO:\n",
    "* salvestada mudel pärast treenimist, siis ei pea iga kord kui notebook uuesti mudelit nullist treenima hakata (näiteks https://machinelearningmastery.com/save-load-keras-deep-learning-models/)\n",
    "* teha joonised mudeli lossi ja accuracy muutustest treenimise käigus (näiteks https://machinelearningmastery.com/display-deep-learning-model-training-history-in-keras/)\n",
    "\n",
    "Comment: following warning can be ignored, it occurs during converting labels into binary \n",
    "\n",
    "Warning: .../miniconda3/envs/stacc/lib/python3.6/site-packages/sklearn/preprocessing/label.py:951: UserWarning: unknown class(es) ['O'] will be ignored\n",
    "  .format(sorted(unknown, key=str)))"
   ]
  },
  {
   "cell_type": "code",
   "execution_count": 54,
   "metadata": {
    "scrolled": true
   },
   "outputs": [
    {
     "name": "stdout",
     "output_type": "stream",
     "text": [
      "Binary model: steps per epoch: 29.0, validation steps: 13.0\n",
      "[INFO] training w/ generator...\n",
      "Epoch 1/2\n"
     ]
    },
    {
     "name": "stderr",
     "output_type": "stream",
     "text": [
      "/Users/liissimmul/opt/anaconda3/envs/neural_networks_env/lib/python3.6/site-packages/sklearn/preprocessing/_label.py:987: UserWarning: unknown class(es) ['O'] will be ignored\n",
      "  .format(sorted(unknown, key=str)))\n"
     ]
    },
    {
     "name": "stdout",
     "output_type": "stream",
     "text": [
      "29/29 [==============================] - 136s 5s/step - loss: 0.0681 - accuracy: 1.0000 - val_loss: 1.2084 - val_accuracy: 0.6667\n",
      "Epoch 2/2\n",
      "29/29 [==============================] - 120s 4s/step - loss: 0.9226 - accuracy: 0.6997 - val_loss: 0.5940 - val_accuracy: 0.6667\n"
     ]
    }
   ],
   "source": [
    "#model = MiniVGGNet.build(64, 64, 3, len(lb.classes_))\n",
    "#opt = SGD(lr=1e-2, momentum=0.9, decay=1e-2 / NUM_EPOCHS)\n",
    "\n",
    "#modelB.compile(loss=\"sparse_categorical_crossentropy\", optimizer='adam',metrics=[\"accuracy\"])\n",
    "#if label_type == 'binary':\n",
    "   # model.compile(loss='binary_crossentropy', optimizer='adam', metrics=['accuracy'])\n",
    "#elif label_type == 'categorical':\n",
    "    #model.compile(loss=\"categorical_crossentropy\", optimizer='adam',metrics=[\"accuracy\"])\n",
    "\n",
    "modelB.compile(loss=\"sparse_categorical_crossentropy\", optimizer='adam',metrics=[\"accuracy\"])    \n",
    "modelB.compile(loss='binary_crossentropy', optimizer='adam', metrics=['accuracy'])\n",
    "\n",
    "#opt = keras.optimizers.Adam(learning_rate=0.01)\n",
    "#model.compile(loss='categorical_crossentropy', optimizer=opt)\n",
    "\n",
    "print('Binary model: steps per epoch: {0}, validation steps: {1}'.format(NUM_TRAIN_SEQ // BS, NUM_VALID_SEQ // BS))    \n",
    "    \n",
    "# train the network\n",
    "print(\"[INFO] training w/ generator...\")\n",
    "historyB = modelB.fit(\n",
    "    x=trainGenB,\n",
    "    steps_per_epoch=NUM_TRAIN_SEQ // BS,\n",
    "    validation_data=validGenB,\n",
    "    validation_steps=NUM_VALID_SEQ // BS,\n",
    "    epochs=NUM_EPOCHS)\n",
    "\n"
   ]
  },
  {
   "cell_type": "code",
   "execution_count": 55,
   "metadata": {},
   "outputs": [
    {
     "name": "stdout",
     "output_type": "stream",
     "text": [
      "Categorical model: steps per epoch: 29.0, validation steps: 13.0\n",
      "Epoch 1/2\n",
      "29/29 [==============================] - 134s 5s/step - loss: 0.3701 - accuracy: 1.0000 - val_loss: 4.4178 - val_accuracy: 0.0000e+00\n",
      "Epoch 2/2\n",
      "29/29 [==============================] - 127s 4s/step - loss: 2.2720 - accuracy: 0.3147 - val_loss: 1.1945 - val_accuracy: 1.0000\n"
     ]
    }
   ],
   "source": [
    "# categorical model \n",
    "img_seq_gen_train = ImageSequenceGenerator()\n",
    "img_seq_gen_valid = ImageSequenceGenerator()\n",
    "\n",
    "trainGenC = img_seq_gen_train.png_image_generator(path, bs=BS, mode=\"train\", difficulty=difficulty, label_type = \"categorical\", aug=None)\n",
    "validGenC = img_seq_gen_valid.png_image_generator(path, bs=BS, mode=\"valid\", difficulty=difficulty, label_type = \"categorical\", aug=None)\n",
    "\n",
    "modelC.compile(loss=\"categorical_crossentropy\", optimizer='adam',metrics=[\"accuracy\"])\n",
    "print('Categorical model: steps per epoch: {0}, validation steps: {1}'.format(NUM_TRAIN_SEQ // BS, NUM_VALID_SEQ // BS))    \n",
    "\n",
    "historyC = modelC.fit(\n",
    "    x=trainGenC,\n",
    "    steps_per_epoch=NUM_TRAIN_SEQ // BS,\n",
    "    validation_data=validGenC,\n",
    "    validation_steps=NUM_VALID_SEQ // BS,\n",
    "    epochs=NUM_EPOCHS)"
   ]
  },
  {
   "cell_type": "code",
   "execution_count": 56,
   "metadata": {},
   "outputs": [
    {
     "name": "stdout",
     "output_type": "stream",
     "text": [
      "number of train image sequences: 552, number of valid image sequences: 291\n",
      "number of train folders processed: 8, number of valid folders processed: 4\n"
     ]
    }
   ],
   "source": [
    "print('number of train image sequences: {0}, number of valid image sequences: {1}'.format(\n",
    "    img_seq_gen_train.seq_count, img_seq_gen_valid.seq_count))\n",
    "print('number of train folders processed: {0}, number of valid folders processed: {1}'.format(img_seq_gen_train.folder_count, img_seq_gen_valid.folder_count))"
   ]
  },
  {
   "cell_type": "markdown",
   "metadata": {},
   "source": [
    "### Saving the model\n",
    "TODO: pole katsetatud"
   ]
  },
  {
   "cell_type": "code",
   "execution_count": null,
   "metadata": {},
   "outputs": [],
   "source": [
    "# serialize model to JSON\n",
    "model_json = model.to_json()\n",
    "with open(\"saved_models/model_easy_bin_imsize128_epochs2_bs8.json\", \"w\") as json_file:\n",
    "    json_file.write(model_json)\n",
    "# serialize weights to HDF5\n",
    "model.save_weights(\"model.h5\")\n",
    "print(\"Saved model to disk\")"
   ]
  },
  {
   "cell_type": "markdown",
   "metadata": {},
   "source": [
    "### Loading the saved model\n",
    "TODO: pole katsetatud"
   ]
  },
  {
   "cell_type": "code",
   "execution_count": null,
   "metadata": {},
   "outputs": [],
   "source": [
    "# load json and create model\n",
    "json_file = open('saved_models/model_easy_bin_epochs2_bs8.json', 'r')\n",
    "loaded_model_json = json_file.read()\n",
    "json_file.close()\n",
    "loaded_model = model_from_json(loaded_model_json)\n",
    "# load weights into new model\n",
    "loaded_model.load_weights(\"model.h5\")\n",
    "print(\"Loaded model from disk\")"
   ]
  },
  {
   "cell_type": "markdown",
   "metadata": {},
   "source": [
    "### Training accuracy and loss visualisation"
   ]
  },
  {
   "cell_type": "code",
   "execution_count": 57,
   "metadata": {},
   "outputs": [
    {
     "data": {
      "image/png": "[encoded data removed]",
      "text/plain": [
       "<Figure size 432x288 with 1 Axes>"
      ]
     },
     "metadata": {
      "needs_background": "light"
     },
     "output_type": "display_data"
    },
    {
     "data": {
      "image/png": "[encoded data removed]",
      "text/plain": [
       "<Figure size 432x288 with 1 Axes>"
      ]
     },
     "metadata": {
      "needs_background": "light"
     },
     "output_type": "display_data"
    }
   ],
   "source": [
    "# modelB\n",
    "import matplotlib.pyplot as plt\n",
    "# summarize history for accuracy\n",
    "plt.plot(historyB.history['accuracy'])\n",
    "plt.plot(historyB.history['val_accuracy'])\n",
    "plt.title('modelB accuracy')\n",
    "plt.ylabel('accuracy')\n",
    "plt.xlabel('epoch')\n",
    "plt.legend(['train', 'validation'], loc='upper left')\n",
    "plt.show()\n",
    "# summarize history for loss\n",
    "plt.plot(historyB.history['loss'])\n",
    "plt.plot(historyB.history['val_loss'])\n",
    "plt.title('modelB loss')\n",
    "plt.ylabel('loss')\n",
    "plt.xlabel('epoch')\n",
    "plt.legend(['train', 'validation'], loc='upper left')\n",
    "plt.show()\n",
    "\n"
   ]
  },
  {
   "cell_type": "code",
   "execution_count": 52,
   "metadata": {},
   "outputs": [
    {
     "data": {
      "image/png": "[encoded data removed]",
      "text/plain": [
       "<Figure size 432x288 with 1 Axes>"
      ]
     },
     "metadata": {
      "needs_background": "light"
     },
     "output_type": "display_data"
    },
    {
     "data": {
      "image/png": "[encoded data removed]",
      "text/plain": [
       "<Figure size 432x288 with 1 Axes>"
      ]
     },
     "metadata": {
      "needs_background": "light"
     },
     "output_type": "display_data"
    }
   ],
   "source": [
    "# modelC\n",
    "import matplotlib.pyplot as plt\n",
    "# summarize history for accuracy\n",
    "plt.plot(historyC.history['accuracy'])\n",
    "plt.plot(historyC.history['val_accuracy'])\n",
    "plt.title('modelC accuracy')\n",
    "plt.ylabel('accuracy')\n",
    "plt.xlabel('epoch')\n",
    "plt.legend(['train', 'validation'], loc='upper left')\n",
    "plt.show()\n",
    "# summarize history for loss\n",
    "plt.plot(historyC.history['loss'])\n",
    "plt.plot(historyC.history['val_loss'])\n",
    "plt.title('modelC loss')\n",
    "plt.ylabel('loss')\n",
    "plt.xlabel('epoch')\n",
    "plt.legend(['train', 'validation'], loc='upper left')\n",
    "plt.show()\n"
   ]
  },
  {
   "cell_type": "markdown",
   "metadata": {},
   "source": [
    "### Prediction\n",
    "* TODO pole katsetatud, võetud siit:https://www.pyimagesearch.com/2018/12/24/how-to-use-keras-fit-and-fit_generator-a-hands-on-tutorial/\n",
    "* Proovin seda: https://stackoverflow.com/questions/48373685/keras-imagedatagenerator-how-to-get-all-labels-from-data"
   ]
  },
  {
   "cell_type": "code",
   "execution_count": null,
   "metadata": {},
   "outputs": [],
   "source": [
    "from sklearn.metrics import classification_report\n",
    "from keras.preprocessing.image import ImageDataGenerator, DirectoryIterator\n",
    "import math \n",
    "# re-initialize our testing data generator, this time for evaluating\n",
    "img_seq_gen_test = ImageSequenceGenerator()\n",
    "testGen = img_seq_gen_test.png_image_generator(path, bs=BS, mode=\"test\", difficulty=difficulty, label_type = label_type, aug=None)\n",
    "\n",
    "# next is try-out\n",
    "test_batches = aug.flow_from_directory(path, batch_size=BS)\n",
    "number_of_examples = len(test_batches.filenames)\n",
    "number_of_generator_calls = math.ceil(number_of_examples / (1.0 *BS)) \n",
    "test_labels = []\n",
    "\n",
    "for i in range(0,int(number_of_generator_calls)):\n",
    "    test_labels.extend(np.array(test_batches[i][1]))\n",
    "#\n",
    "\n",
    "# make predictions on the testing images, finding the index of the\n",
    "# label with the corresponding largest predicted probability\n",
    "predIdxs = model.predict(x=testGen, steps=(NUM_TEST_SEQ // BS) + 1)\n",
    "predIdxs = np.argmax(predIdxs, axis=1)\n",
    "print(predIdxs)\n",
    "\n",
    "# show a nicely formatted classification report\n",
    "# testLabels=test_labels?\n",
    "print(\"[INFO] evaluating network...\")\n",
    "print(classification_report(testLabels.argmax(axis=1), predIdxs,\n",
    "\ttarget_names=lb.classes_))"
   ]
  }
 ],
 "metadata": {
  "kernelspec": {
   "display_name": "Python 3",
   "language": "python",
   "name": "python3"
  },
  "language_info": {
   "codemirror_mode": {
    "name": "ipython",
    "version": 3
   },
   "file_extension": ".py",
   "mimetype": "text/x-python",
   "name": "python",
   "nbconvert_exporter": "python",
   "pygments_lexer": "ipython3",
   "version": "3.6.10"
  }
 },
 "nbformat": 4,
 "nbformat_minor": 2
}
