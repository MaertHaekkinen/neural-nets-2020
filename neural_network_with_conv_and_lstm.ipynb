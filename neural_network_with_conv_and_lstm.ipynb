{
 "cells": [
  {
   "cell_type": "markdown",
   "metadata": {},
   "source": [
    "# Import data\n",
    "Imports data as numpy array (nr_of_sequences, 16, 128, 128, 3)"
   ]
  },
  {
   "cell_type": "code",
   "execution_count": 21,
   "metadata": {
    "scrolled": true
   },
   "outputs": [
    {
     "name": "stdout",
     "output_type": "stream",
     "text": [
      "processing folder 0, number of images in that folder 16 \n",
      "total cumulative number of image sequences:  1\n",
      "processing folder 1, number of images in that folder 299 \n",
      "total cumulative number of image sequences:  285\n",
      "processing folder 2, number of images in that folder 44 \n",
      "total cumulative number of image sequences:  314\n",
      "processing folder 3, number of images in that folder 50 \n",
      "total cumulative number of image sequences:  349\n"
     ]
    }
   ],
   "source": [
    "from load_dataset_numpy import load_dataset_numpy\n",
    "\n",
    "sequence_limit = 15\n",
    "X_train, Y_train, X_train_flow_paths, X_train_warped_paths, X_train_diff_paths, X_test, Y_test, X_test_flow_paths, X_test_warped_paths, X_test_diff_paths, image_count = load_dataset_numpy(difficulty=\"All\", sequence_limit = sequence_limit + 1)"
   ]
  },
  {
   "cell_type": "code",
   "execution_count": 23,
   "metadata": {},
   "outputs": [
    {
     "name": "stdout",
     "output_type": "stream",
     "text": [
      "output shape (349, 16, 128, 128, 3)\n",
      "number of sequences 349\n"
     ]
    }
   ],
   "source": [
    "print('output shape {}'.format(X_train.shape))\n",
    "print('number of sequences {}'.format(X_train.shape[0]))"
   ]
  },
  {
   "cell_type": "markdown",
   "metadata": {},
   "source": [
    "# Layer structure\n",
    "\n",
    "<img src=\"images/layer_structure.png\">"
   ]
  },
  {
   "cell_type": "code",
   "execution_count": 8,
   "metadata": {},
   "outputs": [
    {
     "name": "stdout",
     "output_type": "stream",
     "text": [
      "Model: \"sequential_1\"\n",
      "_________________________________________________________________\n",
      "Layer (type)                 Output Shape              Param #   \n",
      "=================================================================\n",
      "time_distributed_1 (TimeDist (None, 16, 61, 61, 96)    14208     \n",
      "_________________________________________________________________\n",
      "time_distributed_2 (TimeDist (None, 16, 30, 30, 96)    0         \n",
      "_________________________________________________________________\n",
      "time_distributed_3 (TimeDist (None, 16, 14, 14, 384)   332160    \n",
      "_________________________________________________________________\n",
      "time_distributed_4 (TimeDist (None, 16, 7, 7, 384)     0         \n",
      "_________________________________________________________________\n",
      "time_distributed_5 (TimeDist (None, 16, 7, 7, 512)     1769984   \n",
      "_________________________________________________________________\n",
      "time_distributed_6 (TimeDist (None, 16, 7, 7, 512)     2359808   \n",
      "_________________________________________________________________\n",
      "time_distributed_7 (TimeDist (None, 16, 7, 7, 384)     1769856   \n",
      "_________________________________________________________________\n",
      "time_distributed_8 (TimeDist (None, 16, 3, 3, 384)     0         \n",
      "_________________________________________________________________\n",
      "time_distributed_9 (TimeDist (None, 16, 3456)          0         \n",
      "_________________________________________________________________\n",
      "time_distributed_10 (TimeDis (None, 16, 4096)          14159872  \n",
      "_________________________________________________________________\n",
      "lstm_1 (LSTM)                (None, 256)               4457472   \n",
      "_________________________________________________________________\n",
      "dense_2 (Dense)              (None, 2)                 514       \n",
      "_________________________________________________________________\n",
      "activation_1 (Activation)    (None, 2)                 0         \n",
      "=================================================================\n",
      "Total params: 24,863,874\n",
      "Trainable params: 24,863,874\n",
      "Non-trainable params: 0\n",
      "_________________________________________________________________\n",
      "None\n"
     ]
    }
   ],
   "source": [
    "import keras\n",
    "import numpy as np\n",
    "from keras.models import Sequential\n",
    "from keras.layers import Dense, LSTM, Input, Conv2D, Dense, LSTM,MaxPooling2D , Flatten, TimeDistributed,Activation\n",
    "\n",
    "im_size = 128\n",
    "time_steps = 16 # len of image sequence\n",
    "channels = 3\n",
    "#input_shape=(5, 128, 128, 3)))\n",
    "\n",
    "model = Sequential()\n",
    "model.add(TimeDistributed(Conv2D(filters=96, kernel_size=7,  strides=2, padding='valid'), input_shape=(time_steps,im_size,im_size,channels))) # first input shape is the len of seq\n",
    "model.add(TimeDistributed(MaxPooling2D(pool_size=(2, 2))))\n",
    "model.add(TimeDistributed(Conv2D(filters=384, kernel_size=3,  strides=2, padding='valid')))\n",
    "model.add(TimeDistributed(MaxPooling2D(pool_size=(2, 2))))\n",
    "model.add(TimeDistributed(Conv2D(filters=512, kernel_size=3, padding='same')))\n",
    "model.add(TimeDistributed(Conv2D(filters=512, kernel_size=3, padding='same')))\n",
    "model.add(TimeDistributed(Conv2D(filters=384, kernel_size=3, padding='same')))\n",
    "model.add(TimeDistributed(MaxPooling2D(pool_size=(2, 2))))\n",
    "model.add(TimeDistributed(Flatten())) #The Flatten layer is only needed because LSTM shape should have one dimension per input.\n",
    "model.add(TimeDistributed(Dense(4096)))\n",
    "#model.add(Reshape((x,y)))\n",
    "model.add(LSTM(256, return_sequences=False)) #pole kindel return_sequence's, kui True, siis multiple outputs\n",
    "#When return_sequences=True, the output shape is (batch, timeSteps, outputFeatures)\n",
    "#When return_sequences=False, the output shape is (batch, outputFeatures)\n",
    "model.add((Dense(2)))\n",
    "model.add((Activation('softmax')))\n",
    "print(model.summary())"
   ]
  },
  {
   "cell_type": "markdown",
   "metadata": {},
   "source": [
    "## Fit generator\n",
    "Source:https://www.pyimagesearch.com/2018/12/24/how-to-use-keras-fit-and-fit_generator-a-hands-on-tutorial/"
   ]
  },
  {
   "cell_type": "code",
   "execution_count": 5,
   "metadata": {},
   "outputs": [],
   "source": [
    "import os\n",
    "import cv2\n",
    "import numpy as np\n",
    "from PIL import Image\n",
    "from keras.preprocessing.image import load_img,img_to_array\n",
    "from load_dataset_numpy import window\n",
    "\n",
    "def png_image_generator(path, bs, mode=\"train\", sequence_limit=16, resize_dimension = 128,aug=None):    \n",
    "    # TODO: tee nii et poleks hard coded\n",
    "    difficulty=\"Easy\"\n",
    "\n",
    "    f = open(\"{0}/{1}.txt\".format(path, difficulty))\n",
    "\n",
    "    # loop indefinitely\n",
    "    while True:\n",
    "        # initialize our batches of images\n",
    "        image_count = 0\n",
    "        X_train = []\n",
    "        X_test = []\n",
    "        Y_train = []\n",
    "        Y_test = []\n",
    "        X_train_flow_paths = []\n",
    "        X_test_flow_paths = []\n",
    "        X_train_warped_paths = []\n",
    "        X_test_warped_paths = []\n",
    "        X_train_diff_paths = []\n",
    "        X_test_diff_paths = []\n",
    "\n",
    "        folder_count = 0\n",
    "        \n",
    "            # keep looping until we reach our batch size\n",
    "        while len(X_train) < bs:\n",
    "            content = f.readlines()\n",
    "                \n",
    "            for folder in content:\n",
    "                # Load the data\n",
    "                folder_components = folder.split(\"_\")\n",
    "                folder_components[-1] = folder_components[-1][:-1]\n",
    "                base = str(\"_\".join(folder_components[:-2]))\n",
    "                folder = \"{0}/{1}/{2}\".format(path, base, (base + \"_\" + str(folder_components[-2])))\n",
    "                folder += \"/\" + (str(\"_\".join(folder_components)))\n",
    "                try:\n",
    "                    os.makedirs(folder+\"/flow_fields\")\n",
    "                except: \n",
    "                    pass\n",
    "                try:\n",
    "                    os.makedirs(folder+\"/warped\")\n",
    "                except:\n",
    "                    pass\n",
    "                try:\n",
    "                    os.makedirs(folder+\"/difference\")\n",
    "                except:\n",
    "                    pass\n",
    "                folder += \"/light_mask\"\n",
    "                images = [folder + \"/\" + f for f in os.listdir(folder) if os.path.isfile(os.path.join(folder, f))]\n",
    "                image_count += len(images)\n",
    "                img_list = [] #np.empty((16, 128,128,3)) # images from all the sequences\n",
    "\n",
    "                flow_path_list = []\n",
    "                warped_path_list = []\n",
    "                diff_path_list = []\n",
    "                im_seq_count = 0\n",
    "                print('processing folder {0}, number of images in that folder {1} '.format(folder_count,len(images)))\n",
    "\n",
    "                # split the images into sequneces of length 16\n",
    "                #(e.g. folder contains 20 images, then first seq is 1-16, second seq 2-17, third seq 3-18 etc)\n",
    "                for each in window(images, 16):\n",
    "                    img_seq_list = [] # only images from one 16 image sequence,  size will be (16, 128,128,3)\n",
    "                    one_images_seq = np.array(each) # 1-16, 2-17, etc\n",
    "\n",
    "                    # read each image to numpy sequence\n",
    "                    for img in one_images_seq:\n",
    "                        img_load = load_img(img, target_size = (resize_dimension,resize_dimension))\n",
    "                        img_array = img_to_array(img_load)\n",
    "                        img_seq_list.append(img_array)\n",
    "\n",
    "                        flow_path_list.append(img.replace('/light_mask','/flow_fields'))\n",
    "                        warped_path_list.append(img.replace('/light_mask','warped'))\n",
    "                        diff_path_list.append(img.replace('light_mask','difference'))\n",
    "\n",
    "                    if(\"test-\" in folder):\n",
    "                        X_test.append(np.asarray(img_seq_list)) \n",
    "                        Y_test.append(folder_components[-2])\n",
    "                        X_test_flow_paths.append(flow_path_list)\n",
    "                        X_test_warped_paths.append(warped_path_list)\n",
    "                        X_test_diff_paths.append(diff_path_list)\n",
    "                    else:\n",
    "                        X_train.append(np.asarray(img_seq_list)) \n",
    "                        Y_train.append(folder_components[-2])\n",
    "                        X_train_flow_paths.append(flow_path_list)\n",
    "                        X_train_warped_paths.append(warped_path_list)\n",
    "                        X_train_diff_paths.append(diff_path_list)\n",
    "                folder_count +=1\n",
    "                print('total cumulative number of image sequences: ', np.asarray(X_train).shape[0])\n",
    "        \n",
    "        print('have reached the batch sized', np.asarray(X_train).shape[0], '\\n\\n')\n",
    "            # if the data augmentation object is not None, apply it\n",
    "        #if aug is not None:\n",
    "        #    (images, labels) = next(aug.flow(np.array(images),\n",
    "        #        labels, batch_size=bs))\n",
    "        # yield the batch to the calling function\n",
    "        \n",
    "        # võib muuta X_train_flow, X_train_wraped etc\n",
    "        yield np.asarray(X_train), np.asarray(Y_train)"
   ]
  },
  {
   "cell_type": "markdown",
   "metadata": {},
   "source": [
    "### TODO: hetkel ei tea, mitu train image sequencit ja test image sequencit on\n",
    "Vaja see leida, hetkel suvalised numbrid NUM_TRAIN_IMAGES ja NUM_TEST_IMAGES all."
   ]
  },
  {
   "cell_type": "code",
   "execution_count": 6,
   "metadata": {},
   "outputs": [],
   "source": [
    "from tensorflow.keras.preprocessing.image import ImageDataGenerator\n",
    "\n",
    "# initialize the number of epochs to train for and batch size\n",
    "NUM_EPOCHS = 75\n",
    "BS = 32\n",
    "# initialize the total number of training and testing image\n",
    "# TODO: RIGHT NOW ARE RANDOM NUMBERS\n",
    "NUM_TRAIN_IMAGES = 6000\n",
    "NUM_TEST_IMAGES = 1000\n",
    "\n",
    "# construct the training image generator for data augmentation\n",
    "aug = ImageDataGenerator(rotation_range=20, zoom_range=0.15,\n",
    "    width_shift_range=0.2, height_shift_range=0.2, shear_range=0.15,\n",
    "    horizontal_flip=True, fill_mode=\"nearest\")\n",
    "\n",
    "\n",
    "# construct \"aug\" an ImageDataGenerator\n",
    "#Our image data augmentation object will randomly rotate, flip, shear, etc. our training images.\n",
    "trainGen = png_image_generator(\"./rear_signal_dataset\", BS, mode=\"train\", aug=aug)\n",
    "testGen = png_image_generator(\"./rear_signal_dataset\", BS, mode=\"train\", aug=None)"
   ]
  },
  {
   "cell_type": "code",
   "execution_count": null,
   "metadata": {
    "scrolled": true
   },
   "outputs": [
    {
     "name": "stdout",
     "output_type": "stream",
     "text": [
      "[INFO] training w/ generator...\n",
      "Epoch 1/75\n",
      "processing folder 0, number of images in that folder 16 \n",
      "processing folder 0, number of images in that folder 16 \n",
      "total cumulative number of image sequences:  1\n",
      "total cumulative number of image sequences:  1\n",
      "processing folder 1, number of images in that folder 299 \n",
      "processing folder 1, number of images in that folder 299 \n"
     ]
    },
    {
     "name": "stderr",
     "output_type": "stream",
     "text": [
      "/home/anneott/miniconda3/envs/stacc/lib/python3.6/site-packages/keras/utils/data_utils.py:718: UserWarning: An input could not be retrieved. It could be because a worker has died.We do not have any information on the lost sample.\n",
      "  UserWarning)\n"
     ]
    },
    {
     "name": "stdout",
     "output_type": "stream",
     "text": [
      "total cumulative number of image sequences:  285\n",
      "processing folder 2, number of images in that folder 44 \n",
      "total cumulative number of image sequences:  285\n",
      "processing folder 2, number of images in that folder 44 \n",
      "total cumulative number of image sequences:  314\n",
      "processing folder 3, number of images in that folder 50 \n",
      "total cumulative number of image sequences:  314\n",
      "processing folder 3, number of images in that folder 50 \n",
      "total cumulative number of image sequences:  349\n",
      "processing folder 4, number of images in that folder 58 \n",
      "total cumulative number of image sequences:  349\n",
      "processing folder 4, number of images in that folder 58 \n",
      "total cumulative number of image sequences:  392\n",
      "processing folder 5, number of images in that folder 47 \n",
      "total cumulative number of image sequences:  392\n",
      "processing folder 5, number of images in that folder 47 \n",
      "total cumulative number of image sequences:  424\n",
      "processing folder 6, number of images in that folder 119 \n",
      "total cumulative number of image sequences:  424\n",
      "processing folder 6, number of images in that folder 119 \n",
      "total cumulative number of image sequences:  528\n",
      "processing folder 7, number of images in that folder 21 \n",
      "total cumulative number of image sequences:  528\n",
      "processing folder 7, number of images in that folder 21 \n",
      "total cumulative number of image sequences:  534\n",
      "processing folder 8, number of images in that folder 28 \n",
      "total cumulative number of image sequences:  534\n",
      "processing folder 8, number of images in that folder 28 \n",
      "total cumulative number of image sequences:  547\n",
      "processing folder 9, number of images in that folder 71 \n",
      "total cumulative number of image sequences:  547\n",
      "processing folder 9, number of images in that folder 71 \n",
      "total cumulative number of image sequences:  603\n",
      "processing folder 10, number of images in that folder 47 \n",
      "total cumulative number of image sequences:  603\n",
      "processing folder 10, number of images in that folder 47 \n",
      "total cumulative number of image sequences:  635\n",
      "processing folder 11, number of images in that folder 82 \n",
      "total cumulative number of image sequences:  635\n",
      "processing folder 11, number of images in that folder 82 \n",
      "total cumulative number of image sequences:  702\n",
      "processing folder 12, number of images in that folder 82 \n",
      "total cumulative number of image sequences:  702\n",
      "processing folder 12, number of images in that folder 82 \n",
      "total cumulative number of image sequences:  769\n",
      "processing folder 13, number of images in that folder 190 \n",
      "total cumulative number of image sequences:  769\n",
      "processing folder 13, number of images in that folder 190 \n",
      "total cumulative number of image sequences:  944\n",
      "processing folder 14, number of images in that folder 53 \n",
      "total cumulative number of image sequences:  944\n",
      "processing folder 14, number of images in that folder 53 \n",
      "total cumulative number of image sequences:  982\n",
      "processing folder 15, number of images in that folder 299 \n",
      "total cumulative number of image sequences:  982\n",
      "processing folder 15, number of images in that folder 299 \n"
     ]
    }
   ],
   "source": [
    "#model = MiniVGGNet.build(64, 64, 3, len(lb.classes_))\n",
    "#opt = SGD(lr=1e-2, momentum=0.9, decay=1e-2 / NUM_EPOCHS)\n",
    "#model.compile(loss=\"categorical_crossentropy\", optimizer=opt,metrics=[\"accuracy\"])\n",
    "model.compile(loss='binary_crossentropy', optimizer='adam', metrics=['accuracy'])\n",
    "\n",
    "# train the network\n",
    "print(\"[INFO] training w/ generator...\")\n",
    "H = model.fit(\n",
    "    x=trainGen,\n",
    "    steps_per_epoch=NUM_TRAIN_IMAGES // BS,\n",
    "    validation_data=testGen,\n",
    "    validation_steps=NUM_TEST_IMAGES // BS,\n",
    "    epochs=NUM_EPOCHS)"
   ]
  },
  {
   "cell_type": "code",
   "execution_count": null,
   "metadata": {},
   "outputs": [],
   "source": []
  },
  {
   "cell_type": "code",
   "execution_count": null,
   "metadata": {},
   "outputs": [],
   "source": []
  },
  {
   "cell_type": "markdown",
   "metadata": {},
   "source": [
    "##  TODO Fit a model\n",
    "Useful reading: https://medium.com/smileinnovation/training-neural-network-with-image-sequence-an-example-with-video-as-input-c3407f7a0b0f,\n",
    "\n",
    "https://medium.com/smileinnovation/how-to-work-with-time-distributed-data-in-a-neural-network-b8b39aa4ce00\n",
    "\n",
    "For train data, we need to probably reformat them:\n",
    "\n",
    "https://keras.io/api/preprocessing/timeseries/"
   ]
  },
  {
   "cell_type": "code",
   "execution_count": 2,
   "metadata": {},
   "outputs": [
    {
     "data": {
      "text/plain": [
       "((349, 16, 128, 128, 3), numpy.ndarray)"
      ]
     },
     "execution_count": 2,
     "metadata": {},
     "output_type": "execute_result"
    }
   ],
   "source": [
    "X_train.shape, type(X_train)"
   ]
  },
  {
   "cell_type": "code",
   "execution_count": 20,
   "metadata": {},
   "outputs": [
    {
     "name": "stdout",
     "output_type": "stream",
     "text": [
      "number of sequences 349\n",
      "images in one sequence  16\n",
      "one image length 128\n"
     ]
    },
    {
     "ename": "ValueError",
     "evalue": "Error when checking target: expected activation_7 to have shape (2,) but got array with shape (1,)",
     "output_type": "error",
     "traceback": [
      "\u001b[0;31m---------------------------------------------------------------------------\u001b[0m",
      "\u001b[0;31mValueError\u001b[0m                                Traceback (most recent call last)",
      "\u001b[0;32m<ipython-input-20-047d4a6e5658>\u001b[0m in \u001b[0;36m<module>\u001b[0;34m\u001b[0m\n\u001b[1;32m     16\u001b[0m \u001b[0;34m\u001b[0m\u001b[0m\n\u001b[1;32m     17\u001b[0m \u001b[0;31m#model.fit(X_train, Y_train, epochs=3, batch_size=64)\u001b[0m\u001b[0;34m\u001b[0m\u001b[0;34m\u001b[0m\u001b[0;34m\u001b[0m\u001b[0m\n\u001b[0;32m---> 18\u001b[0;31m \u001b[0mmodel\u001b[0m\u001b[0;34m.\u001b[0m\u001b[0mfit\u001b[0m\u001b[0;34m(\u001b[0m\u001b[0mX_train\u001b[0m\u001b[0;34m,\u001b[0m \u001b[0mY_train\u001b[0m\u001b[0;34m,\u001b[0m \u001b[0mepochs\u001b[0m\u001b[0;34m=\u001b[0m\u001b[0;36m3\u001b[0m\u001b[0;34m,\u001b[0m \u001b[0mbatch_size\u001b[0m\u001b[0;34m=\u001b[0m\u001b[0;36m64\u001b[0m\u001b[0;34m)\u001b[0m\u001b[0;34m\u001b[0m\u001b[0;34m\u001b[0m\u001b[0m\n\u001b[0m\u001b[1;32m     19\u001b[0m \u001b[0;31m# Final evaluation of the model\u001b[0m\u001b[0;34m\u001b[0m\u001b[0;34m\u001b[0m\u001b[0;34m\u001b[0m\u001b[0m\n\u001b[1;32m     20\u001b[0m \u001b[0;31m#scores = model.evaluate(X_test, y_test, verbose=0)\u001b[0m\u001b[0;34m\u001b[0m\u001b[0;34m\u001b[0m\u001b[0;34m\u001b[0m\u001b[0m\n",
      "\u001b[0;32m~/miniconda3/envs/stacc/lib/python3.6/site-packages/keras/engine/training.py\u001b[0m in \u001b[0;36mfit\u001b[0;34m(self, x, y, batch_size, epochs, verbose, callbacks, validation_split, validation_data, shuffle, class_weight, sample_weight, initial_epoch, steps_per_epoch, validation_steps, validation_freq, max_queue_size, workers, use_multiprocessing, **kwargs)\u001b[0m\n\u001b[1;32m   1152\u001b[0m             \u001b[0msample_weight\u001b[0m\u001b[0;34m=\u001b[0m\u001b[0msample_weight\u001b[0m\u001b[0;34m,\u001b[0m\u001b[0;34m\u001b[0m\u001b[0;34m\u001b[0m\u001b[0m\n\u001b[1;32m   1153\u001b[0m             \u001b[0mclass_weight\u001b[0m\u001b[0;34m=\u001b[0m\u001b[0mclass_weight\u001b[0m\u001b[0;34m,\u001b[0m\u001b[0;34m\u001b[0m\u001b[0;34m\u001b[0m\u001b[0m\n\u001b[0;32m-> 1154\u001b[0;31m             batch_size=batch_size)\n\u001b[0m\u001b[1;32m   1155\u001b[0m \u001b[0;34m\u001b[0m\u001b[0m\n\u001b[1;32m   1156\u001b[0m         \u001b[0;31m# Prepare validation data.\u001b[0m\u001b[0;34m\u001b[0m\u001b[0;34m\u001b[0m\u001b[0;34m\u001b[0m\u001b[0m\n",
      "\u001b[0;32m~/miniconda3/envs/stacc/lib/python3.6/site-packages/keras/engine/training.py\u001b[0m in \u001b[0;36m_standardize_user_data\u001b[0;34m(self, x, y, sample_weight, class_weight, check_array_lengths, batch_size)\u001b[0m\n\u001b[1;32m    619\u001b[0m                 \u001b[0mfeed_output_shapes\u001b[0m\u001b[0;34m,\u001b[0m\u001b[0;34m\u001b[0m\u001b[0;34m\u001b[0m\u001b[0m\n\u001b[1;32m    620\u001b[0m                 \u001b[0mcheck_batch_axis\u001b[0m\u001b[0;34m=\u001b[0m\u001b[0;32mFalse\u001b[0m\u001b[0;34m,\u001b[0m  \u001b[0;31m# Don't enforce the batch size.\u001b[0m\u001b[0;34m\u001b[0m\u001b[0;34m\u001b[0m\u001b[0m\n\u001b[0;32m--> 621\u001b[0;31m                 exception_prefix='target')\n\u001b[0m\u001b[1;32m    622\u001b[0m \u001b[0;34m\u001b[0m\u001b[0m\n\u001b[1;32m    623\u001b[0m             \u001b[0;31m# Generate sample-wise weight values given the `sample_weight` and\u001b[0m\u001b[0;34m\u001b[0m\u001b[0;34m\u001b[0m\u001b[0;34m\u001b[0m\u001b[0m\n",
      "\u001b[0;32m~/miniconda3/envs/stacc/lib/python3.6/site-packages/keras/engine/training_utils.py\u001b[0m in \u001b[0;36mstandardize_input_data\u001b[0;34m(data, names, shapes, check_batch_axis, exception_prefix)\u001b[0m\n\u001b[1;32m    143\u001b[0m                             \u001b[0;34m': expected '\u001b[0m \u001b[0;34m+\u001b[0m \u001b[0mnames\u001b[0m\u001b[0;34m[\u001b[0m\u001b[0mi\u001b[0m\u001b[0;34m]\u001b[0m \u001b[0;34m+\u001b[0m \u001b[0;34m' to have shape '\u001b[0m \u001b[0;34m+\u001b[0m\u001b[0;34m\u001b[0m\u001b[0;34m\u001b[0m\u001b[0m\n\u001b[1;32m    144\u001b[0m                             \u001b[0mstr\u001b[0m\u001b[0;34m(\u001b[0m\u001b[0mshape\u001b[0m\u001b[0;34m)\u001b[0m \u001b[0;34m+\u001b[0m \u001b[0;34m' but got array with shape '\u001b[0m \u001b[0;34m+\u001b[0m\u001b[0;34m\u001b[0m\u001b[0;34m\u001b[0m\u001b[0m\n\u001b[0;32m--> 145\u001b[0;31m                             str(data_shape))\n\u001b[0m\u001b[1;32m    146\u001b[0m     \u001b[0;32mreturn\u001b[0m \u001b[0mdata\u001b[0m\u001b[0;34m\u001b[0m\u001b[0;34m\u001b[0m\u001b[0m\n\u001b[1;32m    147\u001b[0m \u001b[0;34m\u001b[0m\u001b[0m\n",
      "\u001b[0;31mValueError\u001b[0m: Error when checking target: expected activation_7 to have shape (2,) but got array with shape (1,)"
     ]
    }
   ],
   "source": [
    "print('number of sequences', len(X_train))\n",
    "print('images in one sequence ', len(X_train[0]))\n",
    "print('one image length', len(X_train[0][0]))\n",
    "import numpy as np\n",
    "import random\n",
    "#X_new = np.random.random((90, 5, 128, 128, 3)) # training data\n",
    "#Y_new = np.random.random((90, 5, 128, 128, 3)) # labels\n",
    "#X_new = np.array(X_train)\n",
    "#print(X_new.shape)\n",
    "#Y_new = Y_train\n",
    "#print(len(X_new), len(X_new[0]), len(X_new[0][0]),len(X_new[0][0][0]),len(X_new[0][0][0][0]))\n",
    "# 471, 16, 128, 128, 3\n",
    "\n",
    "# TODO: right now using random parameters\n",
    "model.compile(loss='binary_crossentropy', optimizer='adam', metrics=['accuracy'])\n",
    "\n",
    "#model.fit(X_train, Y_train, epochs=3, batch_size=64)\n",
    "model.fit(X_train, Y_train, epochs=3, batch_size=64)\n",
    "# Final evaluation of the model\n",
    "#scores = model.evaluate(X_test, y_test, verbose=0)\n",
    "#print(\"Accuracy: %.2f%%\" % (scores[1]*100))"
   ]
  }
 ],
 "metadata": {
  "kernelspec": {
   "display_name": "Python 3",
   "language": "python",
   "name": "python3"
  },
  "language_info": {
   "codemirror_mode": {
    "name": "ipython",
    "version": 3
   },
   "file_extension": ".py",
   "mimetype": "text/x-python",
   "name": "python",
   "nbconvert_exporter": "python",
   "pygments_lexer": "ipython3",
   "version": "3.6.7"
  }
 },
 "nbformat": 4,
 "nbformat_minor": 2
}
