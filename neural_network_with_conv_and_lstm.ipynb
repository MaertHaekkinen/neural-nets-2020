{
 "cells": [
  {
   "cell_type": "markdown",
   "metadata": {},
   "source": [
    "# Import data\n",
    "Imports data as numpy array (nr_of_sequences, 16, 128, 128, 3)"
   ]
  },
  {
   "cell_type": "code",
   "execution_count": 1,
   "metadata": {
    "scrolled": true
   },
   "outputs": [
    {
     "name": "stderr",
     "output_type": "stream",
     "text": [
      "Using TensorFlow backend.\n"
     ]
    },
    {
     "name": "stdout",
     "output_type": "stream",
     "text": [
      "processing folder 0, number of images in that folder 16 \n",
      "total cumulative number of image sequences:  1\n",
      "processing folder 1, number of images in that folder 299 \n",
      "total cumulative number of image sequences:  285\n",
      "processing folder 2, number of images in that folder 44 \n",
      "total cumulative number of image sequences:  314\n",
      "processing folder 3, number of images in that folder 50 \n",
      "total cumulative number of image sequences:  349\n"
     ]
    }
   ],
   "source": [
    "from load_dataset_numpy import load_dataset_numpy\n",
    "\n",
    "sequence_limit = 15\n",
    "X_train, Y_train, X_train_flow_paths, X_train_warped_paths, X_train_diff_paths, X_test, Y_test, X_test_flow_paths, X_test_warped_paths, X_test_diff_paths, image_count = load_dataset_numpy(difficulty=\"All\", sequence_limit = sequence_limit + 1)"
   ]
  },
  {
   "cell_type": "code",
   "execution_count": 3,
   "metadata": {},
   "outputs": [
    {
     "name": "stdout",
     "output_type": "stream",
     "text": [
      "output shape (349, 16, 128, 128, 3)\n",
      "number of sequences 349\n"
     ]
    }
   ],
   "source": [
    "print('output shape {}'.format(X_train.shape))\n",
    "print('number of sequences {}'.format(X_train.shape[0]))"
   ]
  },
  {
   "cell_type": "markdown",
   "metadata": {},
   "source": [
    "# Layer structure\n",
    "\n",
    "<img src=\"images/layer_structure.png\">"
   ]
  },
  {
   "cell_type": "code",
   "execution_count": 71,
   "metadata": {},
   "outputs": [
    {
     "name": "stdout",
     "output_type": "stream",
     "text": [
      "Model: \"sequential_7\"\n",
      "_________________________________________________________________\n",
      "Layer (type)                 Output Shape              Param #   \n",
      "=================================================================\n",
      "time_distributed_59 (TimeDis (None, 16, 61, 61, 96)    14208     \n",
      "_________________________________________________________________\n",
      "time_distributed_60 (TimeDis (None, 16, 30, 30, 96)    0         \n",
      "_________________________________________________________________\n",
      "time_distributed_61 (TimeDis (None, 16, 14, 14, 384)   332160    \n",
      "_________________________________________________________________\n",
      "time_distributed_62 (TimeDis (None, 16, 7, 7, 384)     0         \n",
      "_________________________________________________________________\n",
      "time_distributed_63 (TimeDis (None, 16, 7, 7, 512)     1769984   \n",
      "_________________________________________________________________\n",
      "time_distributed_64 (TimeDis (None, 16, 7, 7, 512)     2359808   \n",
      "_________________________________________________________________\n",
      "time_distributed_65 (TimeDis (None, 16, 7, 7, 384)     1769856   \n",
      "_________________________________________________________________\n",
      "time_distributed_66 (TimeDis (None, 16, 3, 3, 384)     0         \n",
      "_________________________________________________________________\n",
      "time_distributed_67 (TimeDis (None, 16, 3456)          0         \n",
      "_________________________________________________________________\n",
      "time_distributed_68 (TimeDis (None, 16, 4096)          14159872  \n",
      "_________________________________________________________________\n",
      "lstm_5 (LSTM)                (None, 256)               4457472   \n",
      "_________________________________________________________________\n",
      "dense_12 (Dense)             (None, 8)                 2056      \n",
      "_________________________________________________________________\n",
      "activation_6 (Activation)    (None, 8)                 0         \n",
      "=================================================================\n",
      "Total params: 24,865,416\n",
      "Trainable params: 24,865,416\n",
      "Non-trainable params: 0\n",
      "_________________________________________________________________\n",
      "None\n"
     ]
    }
   ],
   "source": [
    "import keras\n",
    "import numpy as np\n",
    "from keras.models import Sequential\n",
    "from keras.layers import Dense, LSTM, Input, Conv2D, Dense, LSTM,MaxPooling2D , Flatten, TimeDistributed,Activation\n",
    "\n",
    "im_size = 128\n",
    "time_steps = 16 # len of image sequence\n",
    "channels = 3\n",
    "#input_shape=(5, 128, 128, 3)))\n",
    "\n",
    "model = Sequential()\n",
    "model.add(TimeDistributed(Conv2D(filters=96, kernel_size=7,  strides=2, padding='valid'), input_shape=(time_steps,im_size,im_size,channels))) # first input shape is the len of seq\n",
    "model.add(TimeDistributed(MaxPooling2D(pool_size=(2, 2))))\n",
    "model.add(TimeDistributed(Conv2D(filters=384, kernel_size=3,  strides=2, padding='valid')))\n",
    "model.add(TimeDistributed(MaxPooling2D(pool_size=(2, 2))))\n",
    "model.add(TimeDistributed(Conv2D(filters=512, kernel_size=3, padding='same')))\n",
    "model.add(TimeDistributed(Conv2D(filters=512, kernel_size=3, padding='same')))\n",
    "model.add(TimeDistributed(Conv2D(filters=384, kernel_size=3, padding='same')))\n",
    "model.add(TimeDistributed(MaxPooling2D(pool_size=(2, 2))))\n",
    "model.add(TimeDistributed(Flatten())) #The Flatten layer is only needed because LSTM shape should have one dimension per input.\n",
    "model.add(TimeDistributed(Dense(4096)))\n",
    "#model.add(Reshape((x,y)))\n",
    "model.add(LSTM(256, return_sequences=False)) #pole kindel return_sequence's, kui True, siis multiple outputs\n",
    "#When return_sequences=True, the output shape is (batch, timeSteps, outputFeatures)\n",
    "#When return_sequences=False, the output shape is (batch, outputFeatures)\n",
    "model.add((Dense(8)))\n",
    "model.add((Activation('softmax')))\n",
    "print(model.summary())"
   ]
  },
  {
   "cell_type": "markdown",
   "metadata": {},
   "source": [
    "## Fit generator\n",
    "Source:https://www.pyimagesearch.com/2018/12/24/how-to-use-keras-fit-and-fit_generator-a-hands-on-tutorial/"
   ]
  },
  {
   "cell_type": "code",
   "execution_count": 72,
   "metadata": {},
   "outputs": [
    {
     "name": "stdout",
     "output_type": "stream",
     "text": [
      "{'BOR', 'OLO', 'BLO', 'OOR', 'BOO', 'OOO', 'OLR', 'BLR'}\n"
     ]
    },
    {
     "data": {
      "text/plain": [
       "LabelBinarizer(neg_label=0, pos_label=1, sparse_output=False)"
      ]
     },
     "execution_count": 72,
     "metadata": {},
     "output_type": "execute_result"
    }
   ],
   "source": [
    "#Encoding the labels\n",
    "from sklearn.preprocessing import LabelBinarizer\n",
    "labels = set(['BOO', 'BLO', 'BOR', 'BLR', 'OLR', 'OLO', 'OOR', 'OOO'])\n",
    "print(labels)\n",
    "lb = LabelBinarizer()\n",
    "lb.fit(list(labels))"
   ]
  },
  {
   "cell_type": "code",
   "execution_count": 73,
   "metadata": {},
   "outputs": [],
   "source": [
    "import os\n",
    "import cv2\n",
    "import numpy as np\n",
    "from PIL import Image\n",
    "from keras.preprocessing.image import load_img,img_to_array\n",
    "from load_dataset_numpy import window\n",
    "\n",
    "\n",
    "def png_image_generator(path, bs, mode=\"train\", sequence_limit=16, resize_dimension = 128,aug=None):    \n",
    "    # TODO: tee nii et poleks hard coded\n",
    "    difficulty=\"Easy\"\n",
    "\n",
    "    f = open(\"{0}/{1}.txt\".format(path, difficulty))\n",
    "\n",
    "\n",
    "    # loop indefinitely\n",
    "    while True:\n",
    "        # initialize our batches of images\n",
    "        image_count = 0\n",
    "        X_train = []\n",
    "        X_test = []\n",
    "        Y_train = []\n",
    "        Y_test = []\n",
    "        X_train_flow_paths = []\n",
    "        X_test_flow_paths = []\n",
    "        X_train_warped_paths = []\n",
    "        X_test_warped_paths = []\n",
    "        X_train_diff_paths = []\n",
    "        X_test_diff_paths = []\n",
    "\n",
    "        folder_count = 0\n",
    "        \n",
    "            # keep looping until we reach our batch size\n",
    "        #while len(X_train) < bs:\n",
    "        content = f.readlines()\n",
    "\n",
    "        for folder in content:\n",
    "            # Load the data\n",
    "            folder_components = folder.split(\"_\")\n",
    "            folder_components[-1] = folder_components[-1][:-1]\n",
    "            base = str(\"_\".join(folder_components[:-2]))\n",
    "            folder = \"{0}/{1}/{2}\".format(path, base, (base + \"_\" + str(folder_components[-2])))\n",
    "            folder += \"/\" + (str(\"_\".join(folder_components)))\n",
    "            try:\n",
    "                os.makedirs(folder+\"/flow_fields\")\n",
    "            except: \n",
    "                pass\n",
    "            try:\n",
    "                os.makedirs(folder+\"/warped\")\n",
    "            except:\n",
    "                pass\n",
    "            try:\n",
    "                os.makedirs(folder+\"/difference\")\n",
    "            except:\n",
    "                pass\n",
    "            folder += \"/light_mask\"\n",
    "            images = [folder + \"/\" + f for f in os.listdir(folder) if os.path.isfile(os.path.join(folder, f))]\n",
    "            image_count += len(images)\n",
    "            img_list = [] #np.empty((16, 128,128,3)) # images from all the sequences\n",
    "\n",
    "            flow_path_list = []\n",
    "            warped_path_list = []\n",
    "            diff_path_list = []\n",
    "            im_seq_count = 0\n",
    "            print('processing folder {0}, number of images in that folder {1} '.format(folder_count,len(images)))\n",
    "\n",
    "            # split the images into sequneces of length 16\n",
    "            #(e.g. folder contains 20 images, then first seq is 1-16, second seq 2-17, third seq 3-18 etc)\n",
    "            for each in window(images, 16):\n",
    "                img_seq_list = [] # only images from one 16 image sequence,  size will be (16, 128,128,3)\n",
    "                one_images_seq = np.array(each) # 1-16, 2-17, etc\n",
    "\n",
    "                # read each image to numpy sequence\n",
    "                for img in one_images_seq:\n",
    "                    img_load = load_img(img, target_size = (resize_dimension,resize_dimension))\n",
    "                    img_array = img_to_array(img_load)\n",
    "                    img_seq_list.append(img_array)\n",
    "\n",
    "                    flow_path_list.append(img.replace('/light_mask','/flow_fields'))\n",
    "                    warped_path_list.append(img.replace('/light_mask','warped'))\n",
    "                    diff_path_list.append(img.replace('light_mask','difference'))\n",
    "\n",
    "                if(\"test-\" in folder):\n",
    "                    X_test.append(np.asarray(img_seq_list)) \n",
    "                    Y_test.append(folder_components[-2])\n",
    "                    X_test_flow_paths.append(flow_path_list)\n",
    "                    X_test_warped_paths.append(warped_path_list)\n",
    "                    X_test_diff_paths.append(diff_path_list)\n",
    "                    if (len(X_test) == bs):\n",
    "                        #print(\"yield\")\n",
    "                        yield np.asarray(X_test), np.asarray(Y_test)\n",
    "                        X_test=[]\n",
    "                        Y_test=[]\n",
    "                else:\n",
    "                    X_train.append(np.asarray(img_seq_list)) \n",
    "                    Y_train.append(folder_components[-2])\n",
    "                    X_train_flow_paths.append(flow_path_list)\n",
    "                    X_train_warped_paths.append(warped_path_list)\n",
    "                    X_train_diff_paths.append(diff_path_list)\n",
    "                    if (len(X_train) == bs):\n",
    "                        #print(\"yield\")\n",
    "                        #Y_train=keras.utils.np_utils.to_categorical(Y_train)\n",
    "                        Y_train = lb.transform(np.array(Y_train))\n",
    "                        yield np.asarray(X_train), np.asarray(Y_train)\n",
    "                        X_train=[]\n",
    "                        Y_train=[]\n",
    "\n",
    "            folder_count +=1\n",
    "            print('total cumulative number of image sequences: ', np.asarray(X_train).shape[0])\n",
    "        \n",
    "        print('have reached the batch sized', np.asarray(X_train).shape[0], '\\n\\n')\n",
    "            # if the data augmentation object is not None, apply it\n",
    "        #if aug is not None:\n",
    "        #    (images, labels) = next(aug.flow(np.array(images),\n",
    "        #        labels, batch_size=bs))\n",
    "        # yield the batch to the calling function\n",
    "        \n",
    "        # võib muuta X_train_flow, X_train_wraped etc\n",
    "        #yield np.asarray(X_train), np.asarray(Y_train)"
   ]
  },
  {
   "cell_type": "markdown",
   "metadata": {},
   "source": [
    "### TODO: hetkel ei tea, mitu train image sequencit ja test image sequencit on\n",
    "Vaja see leida, hetkel suvalised numbrid NUM_TRAIN_IMAGES ja NUM_TEST_IMAGES all."
   ]
  },
  {
   "cell_type": "code",
   "execution_count": 74,
   "metadata": {},
   "outputs": [],
   "source": [
    "from tensorflow.keras.preprocessing.image import ImageDataGenerator\n",
    "\n",
    "\n",
    "# initialize the number of epochs to train for and batch size\n",
    "NUM_EPOCHS = 2\n",
    "BS = 8\n",
    "# initialize the total number of training and testing image\n",
    "# TODO: RIGHT NOW ARE RANDOM NUMBERS\n",
    "NUM_TRAIN_IMAGES = 1000\n",
    "NUM_TEST_IMAGES = 1000\n",
    "\n",
    "# construct the training image generator for data augmentation\n",
    "aug = ImageDataGenerator(rotation_range=20, zoom_range=0.15,\n",
    "    width_shift_range=0.2, height_shift_range=0.2, shear_range=0.15,\n",
    "    horizontal_flip=True, fill_mode=\"nearest\")\n",
    "\n",
    "\n",
    "# construct \"aug\" an ImageDataGenerator\n",
    "#Our image data augmentation object will randomly rotate, flip, shear, etc. our training images.\n",
    "trainGen = png_image_generator(\"./rear_signal_dataset\", bs=BS, mode=\"train\", aug=None)\n",
    "#testGen = png_image_generator(\"./rear_signal_dataset\", bs=BS, mode=\"test\", aug=None)"
   ]
  },
  {
   "cell_type": "code",
   "execution_count": null,
   "metadata": {},
   "outputs": [],
   "source": []
  },
  {
   "cell_type": "code",
   "execution_count": 75,
   "metadata": {},
   "outputs": [
    {
     "name": "stdout",
     "output_type": "stream",
     "text": [
      "[INFO] training w/ generator...\n",
      "Epoch 1/2\n",
      "processing folder 0, number of images in that folder 16 \n",
      "total cumulative number of image sequences:  1\n",
      "processing folder 1, number of images in that folder 299 \n",
      " 24/125 [====>.........................] - ETA: 11:55 - loss: 1.1784 - accuracy: 0.6667total cumulative number of image sequences:  5\n",
      "processing folder 2, number of images in that folder 44 \n",
      " 28/125 [=====>........................] - ETA: 11:12 - loss: 1.0412 - accuracy: 0.7143total cumulative number of image sequences:  2\n",
      "processing folder 3, number of images in that folder 50 \n",
      " 32/125 [======>.......................] - ETA: 10:39 - loss: 0.9473 - accuracy: 0.7500total cumulative number of image sequences:  5\n",
      "processing folder 4, number of images in that folder 58 \n",
      " 38/125 [========>.....................] - ETA: 9:51 - loss: 1.0667 - accuracy: 0.7270total cumulative number of image sequences:  0\n",
      "processing folder 5, number of images in that folder 47 \n",
      " 42/125 [=========>....................] - ETA: 9:20 - loss: 1.3212 - accuracy: 0.6577total cumulative number of image sequences:  0\n",
      "processing folder 6, number of images in that folder 119 \n",
      " 55/125 [============>.................] - ETA: 7:42 - loss: 1.6597 - accuracy: 0.5023total cumulative number of image sequences:  0\n",
      "processing folder 7, number of images in that folder 21 \n",
      "total cumulative number of image sequences:  6\n",
      "processing folder 8, number of images in that folder 28 \n",
      " 57/125 [============>.................] - ETA: 7:28 - loss: 1.6601 - accuracy: 0.4846total cumulative number of image sequences:  3\n",
      "processing folder 9, number of images in that folder 71 \n",
      " 64/125 [==============>...............] - ETA: 6:38 - loss: 1.6083 - accuracy: 0.4473total cumulative number of image sequences:  3\n",
      "processing folder 10, number of images in that folder 47 \n",
      " 68/125 [===============>..............] - ETA: 6:11 - loss: 1.5565 - accuracy: 0.4798total cumulative number of image sequences:  3\n",
      "processing folder 11, number of images in that folder 82 \n",
      " 76/125 [=================>............] - ETA: 5:16 - loss: 1.4384 - accuracy: 0.5345total cumulative number of image sequences:  6\n",
      "processing folder 12, number of images in that folder 82 \n",
      " 85/125 [===================>..........] - ETA: 4:15 - loss: 1.3118 - accuracy: 0.5838total cumulative number of image sequences:  1\n",
      "processing folder 13, number of images in that folder 190 \n",
      "107/125 [========================>.....] - ETA: 1:53 - loss: 1.0655 - accuracy: 0.6694total cumulative number of image sequences:  0\n",
      "processing folder 14, number of images in that folder 53 \n",
      "111/125 [=========================>....] - ETA: 1:28 - loss: 1.0297 - accuracy: 0.6813total cumulative number of image sequences:  6\n",
      "processing folder 15, number of images in that folder 299 \n",
      "125/125 [==============================] - 790s 6s/step - loss: 1.0185 - accuracy: 0.6990\n",
      "Epoch 2/2\n",
      " 22/125 [====>.........................] - ETA: 12:18 - loss: 3.3066 - accuracy: 0.0000e+00total cumulative number of image sequences:  2\n",
      "processing folder 16, number of images in that folder 48 \n",
      " 26/125 [=====>........................] - ETA: 11:35 - loss: 2.9490 - accuracy: 0.0385    total cumulative number of image sequences:  3\n",
      "processing folder 17, number of images in that folder 38 \n",
      " 29/125 [=====>........................] - ETA: 11:03 - loss: 2.7099 - accuracy: 0.1379total cumulative number of image sequences:  2\n",
      "processing folder 18, number of images in that folder 54 \n",
      " 34/125 [=======>......................] - ETA: 10:17 - loss: 2.4233 - accuracy: 0.2426total cumulative number of image sequences:  1\n",
      "processing folder 19, number of images in that folder 31 \n",
      " 36/125 [=======>......................] - ETA: 9:59 - loss: 2.4414 - accuracy: 0.2292 total cumulative number of image sequences:  1\n",
      "processing folder 20, number of images in that folder 74 \n",
      " 43/125 [=========>....................] - ETA: 9:01 - loss: 2.4448 - accuracy: 0.1919total cumulative number of image sequences:  4\n",
      "processing folder 21, number of images in that folder 22 \n",
      " 44/125 [=========>....................] - ETA: 8:54 - loss: 2.4389 - accuracy: 0.1875total cumulative number of image sequences:  3\n",
      "processing folder 22, number of images in that folder 27 \n",
      " 45/125 [=========>....................] - ETA: 8:46 - loss: 2.4308 - accuracy: 0.1833total cumulative number of image sequences:  7\n",
      "processing folder 23, number of images in that folder 29 \n",
      " 47/125 [==========>...................] - ETA: 8:30 - loss: 2.4082 - accuracy: 0.1755total cumulative number of image sequences:  5\n",
      "processing folder 24, number of images in that folder 39 \n",
      " 50/125 [===========>..................] - ETA: 8:08 - loss: 2.3475 - accuracy: 0.1650total cumulative number of image sequences:  5\n",
      "processing folder 25, number of images in that folder 19 \n",
      " 51/125 [===========>..................] - ETA: 8:00 - loss: 2.3244 - accuracy: 0.1618total cumulative number of image sequences:  1\n",
      "processing folder 26, number of images in that folder 52 \n",
      " 55/125 [============>.................] - ETA: 7:31 - loss: 2.2345 - accuracy: 0.1500total cumulative number of image sequences:  6\n",
      "processing folder 27, number of images in that folder 170 \n",
      " 75/125 [=================>............] - ETA: 5:19 - loss: 2.3231 - accuracy: 0.1200total cumulative number of image sequences:  1\n",
      "processing folder 28, number of images in that folder 125 \n",
      " 88/125 [====================>.........] - ETA: 3:54 - loss: 2.2034 - accuracy: 0.1605total cumulative number of image sequences:  7\n",
      "processing folder 29, number of images in that folder 163 \n",
      "107/125 [========================>.....] - ETA: 1:54 - loss: 2.2245 - accuracy: 0.1414total cumulative number of image sequences:  3\n",
      "processing folder 30, number of images in that folder 75 \n",
      "114/125 [==========================>...] - ETA: 1:10 - loss: 2.1490 - accuracy: 0.1941total cumulative number of image sequences:  7\n",
      "processing folder 31, number of images in that folder 65 \n",
      "121/125 [============================>.] - ETA: 25s - loss: 2.0507 - accuracy: 0.2407total cumulative number of image sequences:  1\n",
      "processing folder 32, number of images in that folder 74 \n",
      "125/125 [==============================] - 799s 6s/step - loss: 1.9945 - accuracy: 0.2650\n"
     ]
    }
   ],
   "source": [
    "#model = MiniVGGNet.build(64, 64, 3, len(lb.classes_))\n",
    "#opt = SGD(lr=1e-2, momentum=0.9, decay=1e-2 / NUM_EPOCHS)\n",
    "\n",
    "#model.compile(loss=\"sparse_categorical_crossentropy\", optimizer='adam',metrics=[\"accuracy\"])\n",
    "model.compile(loss=\"categorical_crossentropy\", optimizer='adam',metrics=[\"accuracy\"])\n",
    "#model.compile(loss='binary_crossentropy', optimizer='adam', metrics=['accuracy'])\n",
    "\n",
    "# train the network\n",
    "print(\"[INFO] training w/ generator...\")\n",
    "H = model.fit(\n",
    "    x=trainGen,\n",
    "    steps_per_epoch=NUM_TRAIN_IMAGES // BS,\n",
    "    #validation_data=testGen,\n",
    "    #validation_steps=NUM_TEST_IMAGES // BS,\n",
    "    epochs=NUM_EPOCHS)"
   ]
  },
  {
   "cell_type": "code",
   "execution_count": null,
   "metadata": {},
   "outputs": [],
   "source": []
  },
  {
   "cell_type": "code",
   "execution_count": null,
   "metadata": {},
   "outputs": [],
   "source": []
  },
  {
   "cell_type": "markdown",
   "metadata": {},
   "source": [
    "##  TODO Fit a model\n",
    "Useful reading: https://medium.com/smileinnovation/training-neural-network-with-image-sequence-an-example-with-video-as-input-c3407f7a0b0f,\n",
    "\n",
    "https://medium.com/smileinnovation/how-to-work-with-time-distributed-data-in-a-neural-network-b8b39aa4ce00\n",
    "\n",
    "For train data, we need to probably reformat them:\n",
    "\n",
    "https://keras.io/api/preprocessing/timeseries/"
   ]
  },
  {
   "cell_type": "code",
   "execution_count": 2,
   "metadata": {},
   "outputs": [
    {
     "data": {
      "text/plain": [
       "((349, 16, 128, 128, 3), numpy.ndarray)"
      ]
     },
     "execution_count": 2,
     "metadata": {},
     "output_type": "execute_result"
    }
   ],
   "source": [
    "X_train.shape, type(X_train)"
   ]
  },
  {
   "cell_type": "code",
   "execution_count": 20,
   "metadata": {},
   "outputs": [
    {
     "name": "stdout",
     "output_type": "stream",
     "text": [
      "number of sequences 349\n",
      "images in one sequence  16\n",
      "one image length 128\n"
     ]
    },
    {
     "ename": "ValueError",
     "evalue": "Error when checking target: expected activation_7 to have shape (2,) but got array with shape (1,)",
     "output_type": "error",
     "traceback": [
      "\u001b[0;31m---------------------------------------------------------------------------\u001b[0m",
      "\u001b[0;31mValueError\u001b[0m                                Traceback (most recent call last)",
      "\u001b[0;32m<ipython-input-20-047d4a6e5658>\u001b[0m in \u001b[0;36m<module>\u001b[0;34m\u001b[0m\n\u001b[1;32m     16\u001b[0m \u001b[0;34m\u001b[0m\u001b[0m\n\u001b[1;32m     17\u001b[0m \u001b[0;31m#model.fit(X_train, Y_train, epochs=3, batch_size=64)\u001b[0m\u001b[0;34m\u001b[0m\u001b[0;34m\u001b[0m\u001b[0;34m\u001b[0m\u001b[0m\n\u001b[0;32m---> 18\u001b[0;31m \u001b[0mmodel\u001b[0m\u001b[0;34m.\u001b[0m\u001b[0mfit\u001b[0m\u001b[0;34m(\u001b[0m\u001b[0mX_train\u001b[0m\u001b[0;34m,\u001b[0m \u001b[0mY_train\u001b[0m\u001b[0;34m,\u001b[0m \u001b[0mepochs\u001b[0m\u001b[0;34m=\u001b[0m\u001b[0;36m3\u001b[0m\u001b[0;34m,\u001b[0m \u001b[0mbatch_size\u001b[0m\u001b[0;34m=\u001b[0m\u001b[0;36m64\u001b[0m\u001b[0;34m)\u001b[0m\u001b[0;34m\u001b[0m\u001b[0;34m\u001b[0m\u001b[0m\n\u001b[0m\u001b[1;32m     19\u001b[0m \u001b[0;31m# Final evaluation of the model\u001b[0m\u001b[0;34m\u001b[0m\u001b[0;34m\u001b[0m\u001b[0;34m\u001b[0m\u001b[0m\n\u001b[1;32m     20\u001b[0m \u001b[0;31m#scores = model.evaluate(X_test, y_test, verbose=0)\u001b[0m\u001b[0;34m\u001b[0m\u001b[0;34m\u001b[0m\u001b[0;34m\u001b[0m\u001b[0m\n",
      "\u001b[0;32m~/miniconda3/envs/stacc/lib/python3.6/site-packages/keras/engine/training.py\u001b[0m in \u001b[0;36mfit\u001b[0;34m(self, x, y, batch_size, epochs, verbose, callbacks, validation_split, validation_data, shuffle, class_weight, sample_weight, initial_epoch, steps_per_epoch, validation_steps, validation_freq, max_queue_size, workers, use_multiprocessing, **kwargs)\u001b[0m\n\u001b[1;32m   1152\u001b[0m             \u001b[0msample_weight\u001b[0m\u001b[0;34m=\u001b[0m\u001b[0msample_weight\u001b[0m\u001b[0;34m,\u001b[0m\u001b[0;34m\u001b[0m\u001b[0;34m\u001b[0m\u001b[0m\n\u001b[1;32m   1153\u001b[0m             \u001b[0mclass_weight\u001b[0m\u001b[0;34m=\u001b[0m\u001b[0mclass_weight\u001b[0m\u001b[0;34m,\u001b[0m\u001b[0;34m\u001b[0m\u001b[0;34m\u001b[0m\u001b[0m\n\u001b[0;32m-> 1154\u001b[0;31m             batch_size=batch_size)\n\u001b[0m\u001b[1;32m   1155\u001b[0m \u001b[0;34m\u001b[0m\u001b[0m\n\u001b[1;32m   1156\u001b[0m         \u001b[0;31m# Prepare validation data.\u001b[0m\u001b[0;34m\u001b[0m\u001b[0;34m\u001b[0m\u001b[0;34m\u001b[0m\u001b[0m\n",
      "\u001b[0;32m~/miniconda3/envs/stacc/lib/python3.6/site-packages/keras/engine/training.py\u001b[0m in \u001b[0;36m_standardize_user_data\u001b[0;34m(self, x, y, sample_weight, class_weight, check_array_lengths, batch_size)\u001b[0m\n\u001b[1;32m    619\u001b[0m                 \u001b[0mfeed_output_shapes\u001b[0m\u001b[0;34m,\u001b[0m\u001b[0;34m\u001b[0m\u001b[0;34m\u001b[0m\u001b[0m\n\u001b[1;32m    620\u001b[0m                 \u001b[0mcheck_batch_axis\u001b[0m\u001b[0;34m=\u001b[0m\u001b[0;32mFalse\u001b[0m\u001b[0;34m,\u001b[0m  \u001b[0;31m# Don't enforce the batch size.\u001b[0m\u001b[0;34m\u001b[0m\u001b[0;34m\u001b[0m\u001b[0m\n\u001b[0;32m--> 621\u001b[0;31m                 exception_prefix='target')\n\u001b[0m\u001b[1;32m    622\u001b[0m \u001b[0;34m\u001b[0m\u001b[0m\n\u001b[1;32m    623\u001b[0m             \u001b[0;31m# Generate sample-wise weight values given the `sample_weight` and\u001b[0m\u001b[0;34m\u001b[0m\u001b[0;34m\u001b[0m\u001b[0;34m\u001b[0m\u001b[0m\n",
      "\u001b[0;32m~/miniconda3/envs/stacc/lib/python3.6/site-packages/keras/engine/training_utils.py\u001b[0m in \u001b[0;36mstandardize_input_data\u001b[0;34m(data, names, shapes, check_batch_axis, exception_prefix)\u001b[0m\n\u001b[1;32m    143\u001b[0m                             \u001b[0;34m': expected '\u001b[0m \u001b[0;34m+\u001b[0m \u001b[0mnames\u001b[0m\u001b[0;34m[\u001b[0m\u001b[0mi\u001b[0m\u001b[0;34m]\u001b[0m \u001b[0;34m+\u001b[0m \u001b[0;34m' to have shape '\u001b[0m \u001b[0;34m+\u001b[0m\u001b[0;34m\u001b[0m\u001b[0;34m\u001b[0m\u001b[0m\n\u001b[1;32m    144\u001b[0m                             \u001b[0mstr\u001b[0m\u001b[0;34m(\u001b[0m\u001b[0mshape\u001b[0m\u001b[0;34m)\u001b[0m \u001b[0;34m+\u001b[0m \u001b[0;34m' but got array with shape '\u001b[0m \u001b[0;34m+\u001b[0m\u001b[0;34m\u001b[0m\u001b[0;34m\u001b[0m\u001b[0m\n\u001b[0;32m--> 145\u001b[0;31m                             str(data_shape))\n\u001b[0m\u001b[1;32m    146\u001b[0m     \u001b[0;32mreturn\u001b[0m \u001b[0mdata\u001b[0m\u001b[0;34m\u001b[0m\u001b[0;34m\u001b[0m\u001b[0m\n\u001b[1;32m    147\u001b[0m \u001b[0;34m\u001b[0m\u001b[0m\n",
      "\u001b[0;31mValueError\u001b[0m: Error when checking target: expected activation_7 to have shape (2,) but got array with shape (1,)"
     ]
    }
   ],
   "source": [
    "print('number of sequences', len(X_train))\n",
    "print('images in one sequence ', len(X_train[0]))\n",
    "print('one image length', len(X_train[0][0]))\n",
    "import numpy as np\n",
    "import random\n",
    "#X_new = np.random.random((90, 5, 128, 128, 3)) # training data\n",
    "#Y_new = np.random.random((90, 5, 128, 128, 3)) # labels\n",
    "#X_new = np.array(X_train)\n",
    "#print(X_new.shape)\n",
    "#Y_new = Y_train\n",
    "#print(len(X_new), len(X_new[0]), len(X_new[0][0]),len(X_new[0][0][0]),len(X_new[0][0][0][0]))\n",
    "# 471, 16, 128, 128, 3\n",
    "\n",
    "# TODO: right now using random parameters\n",
    "model.compile(loss='binary_crossentropy', optimizer='adam', metrics=['accuracy'])\n",
    "\n",
    "#model.fit(X_train, Y_train, epochs=3, batch_size=64)\n",
    "model.fit(X_train, Y_train, epochs=3, batch_size=64)\n",
    "# Final evaluation of the model\n",
    "#scores = model.evaluate(X_test, y_test, verbose=0)\n",
    "#print(\"Accuracy: %.2f%%\" % (scores[1]*100))"
   ]
  }
 ],
 "metadata": {
  "kernelspec": {
   "display_name": "Python 3",
   "language": "python",
   "name": "python3"
  },
  "language_info": {
   "codemirror_mode": {
    "name": "ipython",
    "version": 3
   },
   "file_extension": ".py",
   "mimetype": "text/x-python",
   "name": "python",
   "nbconvert_exporter": "python",
   "pygments_lexer": "ipython3",
   "version": "3.6.5"
  }
 },
 "nbformat": 4,
 "nbformat_minor": 2
}
