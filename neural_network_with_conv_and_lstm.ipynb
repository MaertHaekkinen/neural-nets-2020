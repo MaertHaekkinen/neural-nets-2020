{
 "cells": [
  {
   "cell_type": "markdown",
   "metadata": {},
   "source": [
    "# Import data\n",
    "Imports data as numpy array (nr_of_sequences, 16, 128, 128, 3)"
   ]
  },
  {
   "cell_type": "code",
   "execution_count": 1,
   "metadata": {
    "scrolled": true
   },
   "outputs": [
    {
     "name": "stderr",
     "output_type": "stream",
     "text": [
      "Using TensorFlow backend.\n"
     ]
    },
    {
     "name": "stdout",
     "output_type": "stream",
     "text": [
      "processing folder 0, number of images in that folder 16 \n",
      "total cumulative number of image sequences:  1\n",
      "processing folder 1, number of images in that folder 299 \n",
      "total cumulative number of image sequences:  285\n",
      "processing folder 2, number of images in that folder 44 \n",
      "total cumulative number of image sequences:  314\n",
      "processing folder 3, number of images in that folder 50 \n",
      "total cumulative number of image sequences:  349\n"
     ]
    }
   ],
   "source": [
    "from load_dataset_numpy import load_dataset_numpy\n",
    "\n",
    "sequence_limit = 15\n",
    "X_train, Y_train, X_train_flow_paths, X_train_warped_paths, X_train_diff_paths, X_test, Y_test, X_test_flow_paths, X_test_warped_paths, X_test_diff_paths, image_count = load_dataset_numpy(difficulty=\"All\", sequence_limit = sequence_limit + 1)"
   ]
  },
  {
   "cell_type": "code",
   "execution_count": 3,
   "metadata": {},
   "outputs": [
    {
     "name": "stdout",
     "output_type": "stream",
     "text": [
      "output shape (349, 16, 128, 128, 3)\n",
      "number of sequences 349\n"
     ]
    }
   ],
   "source": [
    "print('output shape {}'.format(X_train.shape))\n",
    "print('number of sequences {}'.format(X_train.shape[0]))"
   ]
  },
  {
   "cell_type": "markdown",
   "metadata": {},
   "source": [
    "# Layer structure\n",
    "\n",
    "<img src=\"images/layer_structure.png\">"
   ]
  },
  {
   "cell_type": "markdown",
   "metadata": {},
   "source": [
    "### Important: if target is categorical use Dense(8) if target is binary use Dense(3)"
   ]
  },
  {
   "cell_type": "code",
   "execution_count": 1,
   "metadata": {},
   "outputs": [
    {
     "name": "stderr",
     "output_type": "stream",
     "text": [
      "Using TensorFlow backend.\n"
     ]
    },
    {
     "name": "stdout",
     "output_type": "stream",
     "text": [
      "Model: \"sequential_1\"\n",
      "_________________________________________________________________\n",
      "Layer (type)                 Output Shape              Param #   \n",
      "=================================================================\n",
      "time_distributed_1 (TimeDist (None, 16, 111, 111, 96)  14208     \n",
      "_________________________________________________________________\n",
      "time_distributed_2 (TimeDist (None, 16, 55, 55, 96)    0         \n",
      "_________________________________________________________________\n",
      "time_distributed_3 (TimeDist (None, 16, 27, 27, 384)   332160    \n",
      "_________________________________________________________________\n",
      "time_distributed_4 (TimeDist (None, 16, 13, 13, 384)   0         \n",
      "_________________________________________________________________\n",
      "time_distributed_5 (TimeDist (None, 16, 13, 13, 512)   1769984   \n",
      "_________________________________________________________________\n",
      "time_distributed_6 (TimeDist (None, 16, 13, 13, 512)   2359808   \n",
      "_________________________________________________________________\n",
      "time_distributed_7 (TimeDist (None, 16, 13, 13, 384)   1769856   \n",
      "_________________________________________________________________\n",
      "time_distributed_8 (TimeDist (None, 16, 6, 6, 384)     0         \n",
      "_________________________________________________________________\n",
      "time_distributed_9 (TimeDist (None, 16, 13824)         0         \n",
      "_________________________________________________________________\n",
      "time_distributed_10 (TimeDis (None, 16, 4096)          56627200  \n",
      "_________________________________________________________________\n",
      "lstm_1 (LSTM)                (None, 256)               4457472   \n",
      "_________________________________________________________________\n",
      "dense_2 (Dense)              (None, 3)                 771       \n",
      "_________________________________________________________________\n",
      "activation_1 (Activation)    (None, 3)                 0         \n",
      "=================================================================\n",
      "Total params: 67,331,459\n",
      "Trainable params: 67,331,459\n",
      "Non-trainable params: 0\n",
      "_________________________________________________________________\n",
      "None\n"
     ]
    }
   ],
   "source": [
    "import keras\n",
    "import numpy as np\n",
    "from keras.models import Sequential\n",
    "from keras.layers import Dense, LSTM, Input, Conv2D, Dense, LSTM,MaxPooling2D , Flatten, TimeDistributed,Activation\n",
    "\n",
    "im_size = 227\n",
    "time_steps = 16 # len of image sequence\n",
    "channels = 3\n",
    "#input_shape=(5, 128, 128, 3)))\n",
    "\n",
    "model = Sequential()\n",
    "model.add(TimeDistributed(Conv2D(filters=96, kernel_size=7,  strides=2, padding='valid'), input_shape=(time_steps,im_size,im_size,channels))) # first input shape is the len of seq\n",
    "model.add(TimeDistributed(MaxPooling2D(pool_size=(2, 2))))\n",
    "model.add(TimeDistributed(Conv2D(filters=384, kernel_size=3,  strides=2, padding='valid')))\n",
    "model.add(TimeDistributed(MaxPooling2D(pool_size=(2, 2))))\n",
    "model.add(TimeDistributed(Conv2D(filters=512, kernel_size=3, padding='same')))\n",
    "model.add(TimeDistributed(Conv2D(filters=512, kernel_size=3, padding='same')))\n",
    "model.add(TimeDistributed(Conv2D(filters=384, kernel_size=3, padding='same')))\n",
    "model.add(TimeDistributed(MaxPooling2D(pool_size=(2, 2))))\n",
    "model.add(TimeDistributed(Flatten())) #The Flatten layer is only needed because LSTM shape should have one dimension per input.\n",
    "model.add(TimeDistributed(Dense(4096)))\n",
    "model.add(LSTM(256, return_sequences=False)) #pole kindel return_sequence's, kui True, siis multiple outputs\n",
    "#When return_sequences=True, the output shape is (batch, timeSteps, outputFeatures)\n",
    "#When return_sequences=False, the output shape is (batch, outputFeatures)\n",
    "model.add((Dense(3))) # for categorical use Dense(8), for binary use Dense(3)\n",
    "model.add((Activation('softmax')))\n",
    "print(model.summary())"
   ]
  },
  {
   "cell_type": "markdown",
   "metadata": {},
   "source": [
    "## Categorical labels"
   ]
  },
  {
   "cell_type": "code",
   "execution_count": 2,
   "metadata": {},
   "outputs": [
    {
     "name": "stdout",
     "output_type": "stream",
     "text": [
      "{'BLO', 'OOR', 'BLR', 'OOO', 'BOO', 'OLR', 'BOR', 'OLO'}\n",
      "categorical labels: \n",
      " [[0 0 1 0 0 0 0 0]\n",
      " [1 0 0 0 0 0 0 0]\n",
      " [0 0 0 1 0 0 0 0]\n",
      " [0 1 0 0 0 0 0 0]\n",
      " [0 0 0 0 0 1 0 0]\n",
      " [0 0 0 0 1 0 0 0]\n",
      " [0 0 0 0 0 0 0 1]\n",
      " [0 0 0 0 0 0 1 0]]\n"
     ]
    }
   ],
   "source": [
    "#Encoding the labels\n",
    "from sklearn.preprocessing import LabelBinarizer\n",
    "labels = set(['BOO', 'BLO', 'BOR', 'BLR', 'OLR', 'OLO', 'OOR', 'OOO'])\n",
    "print(labels)\n",
    "lb = LabelBinarizer()\n",
    "lb.fit(list(labels))\n",
    "print('categorical labels: \\n', lb.transform(['BOO', 'BLO', 'BOR', 'BLR', 'OLR', 'OLO', 'OOR', 'OOO']))"
   ]
  },
  {
   "cell_type": "markdown",
   "metadata": {},
   "source": [
    "## Binary labels"
   ]
  },
  {
   "cell_type": "code",
   "execution_count": 3,
   "metadata": {},
   "outputs": [
    {
     "name": "stdout",
     "output_type": "stream",
     "text": [
      "initial labels: \n",
      " ['BOO', 'BLO', 'BOR', 'BLR', 'OLR', 'OLO', 'OOR', 'OOO']\n",
      "labels in binary: \n",
      " [[1 0 0]\n",
      " [1 1 0]\n",
      " [1 0 1]\n",
      " [1 1 1]\n",
      " [0 1 1]\n",
      " [0 1 0]\n",
      " [0 0 1]\n",
      " [0 0 0]]\n"
     ]
    },
    {
     "name": "stderr",
     "output_type": "stream",
     "text": [
      "/home/anneott/miniconda3/envs/stacc/lib/python3.6/site-packages/sklearn/preprocessing/label.py:951: UserWarning: unknown class(es) ['O'] will be ignored\n",
      "  .format(sorted(unknown, key=str)))\n"
     ]
    }
   ],
   "source": [
    "from sklearn.preprocessing import MultiLabelBinarizer\n",
    "\n",
    "mlb = MultiLabelBinarizer(classes=['B','L','R'])\n",
    "\n",
    "def labels_to_binary(ini_labels):\n",
    "    \"\"\"\n",
    "    Takes as input list of labels (e.g. ['BOO', 'BLO', 'BOR'])\n",
    "    Outputs numpy ndarray of the labels in binary (e.g. [[1 0 0] [1 1 0] [1 0 1])\n",
    "    \"\"\"\n",
    "    labels = []\n",
    "    for label in ini_labels:\n",
    "        label_split = list(label) # ['BLO'] -> ['B','L','O']\n",
    "        labels.append(label_split) # [['B','L','O']]\n",
    "\n",
    "    return mlb.fit_transform(labels)\n",
    "\n",
    "\n",
    "ini_labels = ['BOO', 'BLO', 'BOR', 'BLR', 'OLR', 'OLO', 'OOR', 'OOO']\n",
    "print('initial labels: \\n', ini_labels)\n",
    "labels_binary = labels_to_binary(ini_labels)\n",
    "print('labels in binary: \\n', labels_binary)"
   ]
  },
  {
   "cell_type": "markdown",
   "metadata": {},
   "source": [
    "## Fit generator\n",
    "Kommentaar: parameetri \"aug\" kasutus pole hetkel implementeeritud\n",
    "\n",
    "Source:https://www.pyimagesearch.com/2018/12/24/how-to-use-keras-fit-and-fit_generator-a-hands-on-tutorial/"
   ]
  },
  {
   "cell_type": "code",
   "execution_count": 8,
   "metadata": {},
   "outputs": [],
   "source": [
    "import os\n",
    "import cv2\n",
    "import numpy as np\n",
    "from PIL import Image\n",
    "from keras.preprocessing.image import load_img,img_to_array\n",
    "from load_dataset_numpy import window\n",
    "\n",
    "\n",
    "# label_type: \"binary\" or \"categorical\"\n",
    "def png_image_generator(path, bs, mode=\"train\",difficulty=\"All\", sequence_limit=16, resize_dimension = 227, label_type = \"categorical\", aug=None):    \n",
    "    f = open(\"{0}/{1}.txt\".format(path, difficulty))\n",
    "\n",
    "    # loop indefinitely\n",
    "    while True:\n",
    "        # initialize our batches of images\n",
    "        image_count = 0\n",
    "        X_train = []\n",
    "        X_test = []\n",
    "        Y_train = []\n",
    "        Y_test = []\n",
    "        X_train_flow_paths = []\n",
    "        X_test_flow_paths = []\n",
    "        X_train_warped_paths = []\n",
    "        X_test_warped_paths = []\n",
    "        X_train_diff_paths = []\n",
    "        X_test_diff_paths = []\n",
    "\n",
    "        folder_count = 0\n",
    "        \n",
    "        content = f.readlines()\n",
    "        for folder in content:\n",
    "            # Load the data\n",
    "            folder_components = folder.split(\"_\")\n",
    "            folder_components[-1] = folder_components[-1][:-1]\n",
    "            base = str(\"_\".join(folder_components[:-2]))\n",
    "            folder = \"{0}/{1}/{2}\".format(path, base, (base + \"_\" + str(folder_components[-2])))\n",
    "            folder += \"/\" + (str(\"_\".join(folder_components)))\n",
    "            try:\n",
    "                os.makedirs(folder+\"/flow_fields\")\n",
    "            except: \n",
    "                pass\n",
    "            try:\n",
    "                os.makedirs(folder+\"/warped\")\n",
    "            except:\n",
    "                pass\n",
    "            try:\n",
    "                os.makedirs(folder+\"/difference\")\n",
    "            except:\n",
    "                pass\n",
    "            folder += \"/light_mask\"\n",
    "            images = [folder + \"/\" + f for f in os.listdir(folder) if os.path.isfile(os.path.join(folder, f))]\n",
    "            image_count += len(images)\n",
    "            img_list = [] #np.empty((16, 128,128,3)) # images from all the sequences\n",
    "\n",
    "            flow_path_list = []\n",
    "            warped_path_list = []\n",
    "            diff_path_list = []\n",
    "            im_seq_count = 0\n",
    "            print('\\n processing folder {0}, number of images in that folder {1} '.format(folder_count,len(images)))\n",
    "\n",
    "            # split the images into sequneces of length 16\n",
    "            #(e.g. folder contains 20 images, then first seq is 1-16, second seq 2-17, third seq 3-18 etc)\n",
    "            for each in window(images, 16):\n",
    "                img_seq_list = [] # only images from one 16 image sequence,  size will be (16, 128,128,3)\n",
    "                one_images_seq = np.array(each) # 1-16, 2-17, etc\n",
    "\n",
    "                # read each image to numpy sequence\n",
    "                for img in one_images_seq:\n",
    "                    img_load = load_img(img, target_size = (resize_dimension,resize_dimension))\n",
    "                    img_array = img_to_array(img_load)\n",
    "                    img_seq_list.append(img_array)\n",
    "\n",
    "                    flow_path_list.append(img.replace('/light_mask','/flow_fields'))\n",
    "                    warped_path_list.append(img.replace('/light_mask','warped'))\n",
    "                    diff_path_list.append(img.replace('light_mask','difference'))\n",
    "\n",
    "                if(\"test-\" in folder):\n",
    "                    X_test.append(np.asarray(img_seq_list))\n",
    "                    Y_test.append(folder_components[-2])     \n",
    "                    X_test_flow_paths.append(flow_path_list)\n",
    "                    X_test_warped_paths.append(warped_path_list)\n",
    "                    X_test_diff_paths.append(diff_path_list)\n",
    "                    if (len(X_test) == bs):\n",
    "                        if label_type == \"categorical\":\n",
    "                            Y_test = lb.transform(np.array(Y_test))\n",
    "                        elif label_type == \"binary\": # label type is binary\n",
    "                            Y_test = labels_to_binary(Y_test)\n",
    "                        else:\n",
    "                            print('Invalid label type!')\n",
    "                        yield np.asarray(X_test), np.asarray(Y_test)\n",
    "                        X_test=[]\n",
    "                        Y_test=[]\n",
    "                else:\n",
    "                    X_train.append(np.asarray(img_seq_list)) \n",
    "                    Y_train.append(folder_components[-2])\n",
    "                    X_train_flow_paths.append(flow_path_list)\n",
    "                    X_train_warped_paths.append(warped_path_list)\n",
    "                    X_train_diff_paths.append(diff_path_list)\n",
    "                    if (len(X_train) == bs):                        \n",
    "                        if label_type == \"categorical\":\n",
    "                            Y_train = lb.transform(np.array(Y_train))\n",
    "                        elif label_type == \"binary\":\n",
    "                            Y_train = labels_to_binary(Y_train)\n",
    "                        else:\n",
    "                            print('Invalid label type!')\n",
    "                        yield np.asarray(X_train), np.asarray(Y_train)\n",
    "                        X_train=[]\n",
    "                        Y_train=[]\n",
    "\n",
    "            folder_count +=1\n",
    "            #print('total cumulative number of image sequences: ', np.asarray(X_train).shape[0])\n",
    "        \n",
    "        #print('have reached the batch sized', np.asarray(X_train).shape[0], '\\n\\n')\n",
    "            # if the data augmentation object is not None, apply it\n",
    "        #if aug is not None:\n",
    "        #    (images, labels) = next(aug.flow(np.array(images),\n",
    "        #        labels, batch_size=bs))\n",
    "        # yield the batch to the calling function\n",
    "        \n",
    "        # võib muuta X_train_flow, X_train_wraped etc\n",
    "        #yield np.asarray(X_train), np.asarray(Y_train)"
   ]
  },
  {
   "cell_type": "markdown",
   "metadata": {},
   "source": [
    "TODO:\n",
    "* hetkel ei tea, mitu train image sequencit ja test image sequencit on. Vaja see leida, hetkel suvalised numbrid NUM_TRAIN_IMAGES ja NUM_TEST_IMAGES all.\n",
    "* implementeerida ImageDataGenerator kasutus (selle põhjalhttps://www.pyimagesearch.com/2018/12/24/how-to-use-keras-fit-and-fit_generator-a-hands-on-tutorial/)"
   ]
  },
  {
   "cell_type": "code",
   "execution_count": 9,
   "metadata": {},
   "outputs": [],
   "source": [
    "from tensorflow.keras.preprocessing.image import ImageDataGenerator\n",
    "\n",
    "label_type = \"binary\" #\"categorical\"\n",
    "# initialize the number of epochs to train for and batch size\n",
    "NUM_EPOCHS = 2\n",
    "BS = 8 #standard on vist 32 või 64\n",
    "\n",
    "# initialize the total number of training and testing sequences\n",
    "# TODO:  hetkel suvalised numbrid\n",
    "NUM_TRAIN_SEQ = 500\n",
    "NUM_TEST_SEQ = 500\n",
    "\n",
    "# TODO: hetkel pole kasutuses\n",
    "# construct the training image generator for data augmentation\n",
    "# image data augmentation object will randomly rotate, flip, shear, etc. our training images.\n",
    "aug = ImageDataGenerator(rotation_range=20, zoom_range=0.15,\n",
    "    width_shift_range=0.2, height_shift_range=0.2, shear_range=0.15,\n",
    "    horizontal_flip=True, fill_mode=\"nearest\")\n",
    "\n",
    "trainGen = png_image_generator(\"./rear_signal_dataset\", bs=BS, mode=\"train\", difficulty=\"Easy\", label_type = label_type, aug=None)\n",
    "testGen = png_image_generator(\"./rear_signal_dataset\", bs=BS, mode=\"test\", difficulty=\"Easy\", label_type = label_type, aug=None)"
   ]
  },
  {
   "cell_type": "markdown",
   "metadata": {},
   "source": [
    "### Important: if target is categorical use categorical_crossentropy, if target is binary use binary_crossentropy\n",
    "TODO:\n",
    "* hetkel kasutame valideerimisandmetena test andmeid (rida \"validation_data=testGen\"), tegelikult peaks train andmed splittima train ja validation andmeteks ja test andmed jätma pärastiseks predictimiseks\n",
    "    - praegu ainus idee kuidas seda teha on piltide kaustanimedesse lisada \"valid\" või midagi sellist, et generaatoris (png_image_generator) saaksime kindlaks teha, kas tegu on treening või valideerimisandmetega\n",
    "\n",
    "* salvestada mudel pärast treenimist, siis ei pea iga kord kui notebook uuesti mudelit nullist treenima hakata (näiteks https://machinelearningmastery.com/save-load-keras-deep-learning-models/)\n",
    "* teha joonised mudeli lossi ja accuracy muutustest treenimise käigus (näiteks https://machinelearningmastery.com/display-deep-learning-model-training-history-in-keras/)\n",
    "\n",
    "Kommentaar: treenimisel tekkivat hoiatust võib ignoreerida, see tekib labelite konverteerimisel binaarseks\n",
    "\n",
    "Warning: .../miniconda3/envs/stacc/lib/python3.6/site-packages/sklearn/preprocessing/label.py:951: UserWarning: unknown class(es) ['O'] will be ignored\n",
    "  .format(sorted(unknown, key=str)))"
   ]
  },
  {
   "cell_type": "code",
   "execution_count": 14,
   "metadata": {
    "scrolled": true
   },
   "outputs": [
    {
     "name": "stdout",
     "output_type": "stream",
     "text": [
      "[INFO] training w/ generator...\n",
      "Epoch 1/2\n"
     ]
    },
    {
     "name": "stderr",
     "output_type": "stream",
     "text": [
      "/home/anneott/miniconda3/envs/stacc/lib/python3.6/site-packages/sklearn/preprocessing/label.py:951: UserWarning: unknown class(es) ['O'] will be ignored\n",
      "  .format(sorted(unknown, key=str)))\n"
     ]
    },
    {
     "name": "stdout",
     "output_type": "stream",
     "text": [
      " 5/62 [=>............................] - ETA: 14:44 - loss: 0.7160 - accuracy: 0.6333\n",
      " processing folder 16, number of images in that folder 48 \n",
      " 9/62 [===>..........................] - ETA: 12:20 - loss: 0.6805 - accuracy: 0.6481\n",
      " processing folder 17, number of images in that folder 38 \n",
      "12/62 [====>.........................] - ETA: 11:15 - loss: 0.6574 - accuracy: 0.6493\n",
      " processing folder 18, number of images in that folder 54 \n",
      "17/62 [=======>......................] - ETA: 9:48 - loss: 0.6209 - accuracy: 0.6544 \n",
      " processing folder 19, number of images in that folder 31 \n",
      "19/62 [========>.....................] - ETA: 9:17 - loss: 0.5957 - accuracy: 0.6908\n",
      " processing folder 20, number of images in that folder 74 \n",
      "26/62 [===========>..................] - ETA: 7:39 - loss: 0.5108 - accuracy: 0.7740\n",
      " processing folder 21, number of images in that folder 22 \n",
      "27/62 [============>.................] - ETA: 7:26 - loss: 0.4995 - accuracy: 0.7824\n",
      " processing folder 22, number of images in that folder 27 \n",
      "28/62 [============>.................] - ETA: 7:12 - loss: 0.4882 - accuracy: 0.7902\n",
      " processing folder 23, number of images in that folder 29 \n",
      "30/62 [=============>................] - ETA: 6:45 - loss: 0.4662 - accuracy: 0.8042\n",
      " processing folder 24, number of images in that folder 39 \n",
      "33/62 [==============>...............] - ETA: 6:06 - loss: 0.4354 - accuracy: 0.8220\n",
      " processing folder 25, number of images in that folder 19 \n",
      "34/62 [===============>..............] - ETA: 5:53 - loss: 0.4257 - accuracy: 0.8272\n",
      " processing folder 26, number of images in that folder 52 \n",
      "38/62 [=================>............] - ETA: 5:01 - loss: 0.3899 - accuracy: 0.8454\n",
      " processing folder 27, number of images in that folder 170 \n",
      "58/62 [===========================>..] - ETA: 49s - loss: 0.6335 - accuracy: 0.7205 \n",
      " processing folder 28, number of images in that folder 125 \n",
      "61/62 [============================>.] - ETA: 12s - loss: 0.6363 - accuracy: 0.7015\n",
      " processing folder 16, number of images in that folder 48 \n",
      "\n",
      " processing folder 17, number of images in that folder 38 \n",
      "\n",
      " processing folder 18, number of images in that folder 54 \n",
      "\n",
      " processing folder 19, number of images in that folder 31 \n",
      "\n",
      " processing folder 20, number of images in that folder 74 \n",
      "\n",
      " processing folder 21, number of images in that folder 22 \n",
      "\n",
      " processing folder 22, number of images in that folder 27 \n",
      "\n",
      " processing folder 23, number of images in that folder 29 \n",
      "\n",
      " processing folder 24, number of images in that folder 39 \n",
      "\n",
      " processing folder 25, number of images in that folder 19 \n",
      "\n",
      " processing folder 26, number of images in that folder 52 \n",
      "\n",
      " processing folder 27, number of images in that folder 170 \n",
      "\n",
      " processing folder 28, number of images in that folder 125 \n",
      "62/62 [==============================] - 1011s 16s/step - loss: 0.6354 - accuracy: 0.6956 - val_loss: 0.5233 - val_accuracy: 0.7009\n",
      "Epoch 2/2\n",
      " 9/62 [===>..........................] - ETA: 10:41 - loss: 0.4133 - accuracy: 0.8287\n",
      " processing folder 29, number of images in that folder 163 \n",
      "28/62 [============>.................] - ETA: 6:49 - loss: 0.4899 - accuracy: 0.7188\n",
      " processing folder 30, number of images in that folder 75 \n",
      "35/62 [===============>..............] - ETA: 5:24 - loss: 0.4865 - accuracy: 0.7083\n",
      " processing folder 31, number of images in that folder 65 \n",
      "42/62 [===================>..........] - ETA: 4:01 - loss: 0.4799 - accuracy: 0.7093\n",
      " processing folder 32, number of images in that folder 74 \n",
      "49/62 [======================>.......] - ETA: 2:36 - loss: 0.4734 - accuracy: 0.7372\n",
      " processing folder 33, number of images in that folder 34 \n",
      "51/62 [=======================>......] - ETA: 2:12 - loss: 0.4722 - accuracy: 0.7418\n",
      " processing folder 34, number of images in that folder 49 \n",
      "56/62 [==========================>...] - ETA: 1:12 - loss: 0.4696 - accuracy: 0.7567\n",
      " processing folder 35, number of images in that folder 102 \n",
      "61/62 [============================>.] - ETA: 12s - loss: 0.4676 - accuracy: 0.7548\n",
      " processing folder 29, number of images in that folder 163 \n",
      "\n",
      " processing folder 30, number of images in that folder 75 \n",
      "\n",
      " processing folder 31, number of images in that folder 65 \n",
      "\n",
      " processing folder 32, number of images in that folder 74 \n",
      "\n",
      " processing folder 33, number of images in that folder 34 \n",
      "\n",
      " processing folder 34, number of images in that folder 49 \n",
      "\n",
      " processing folder 35, number of images in that folder 102 \n",
      "62/62 [==============================] - 972s 16s/step - loss: 0.4672 - accuracy: 0.7540 - val_loss: 0.4411 - val_accuracy: 0.8851\n"
     ]
    }
   ],
   "source": [
    "#model = MiniVGGNet.build(64, 64, 3, len(lb.classes_))\n",
    "#opt = SGD(lr=1e-2, momentum=0.9, decay=1e-2 / NUM_EPOCHS)\n",
    "\n",
    "#model.compile(loss=\"sparse_categorical_crossentropy\", optimizer='adam',metrics=[\"accuracy\"])\n",
    "if label_type == 'binary':\n",
    "    model.compile(loss='binary_crossentropy', optimizer='adam', metrics=['accuracy'])\n",
    "elif label_type == 'categorical':\n",
    "    model.compile(loss=\"categorical_crossentropy\", optimizer='adam',metrics=[\"accuracy\"])\n",
    "\n",
    "# train the network\n",
    "print(\"[INFO] training w/ generator...\")\n",
    "histroy = model.fit(\n",
    "    x=trainGen,\n",
    "    steps_per_epoch=NUM_TRAIN_SEQ // BS,\n",
    "    validation_data=testGen,\n",
    "    validation_steps=NUM_TEST_SEQ // BS,\n",
    "    epochs=NUM_EPOCHS)\n"
   ]
  },
  {
   "cell_type": "markdown",
   "metadata": {},
   "source": [
    "### Treenimise accuracy ja loss-i visualiseerimine"
   ]
  },
  {
   "cell_type": "code",
   "execution_count": 15,
   "metadata": {},
   "outputs": [
    {
     "name": "stdout",
     "output_type": "stream",
     "text": [
      "dict_keys(['val_loss', 'val_accuracy', 'loss', 'accuracy'])\n"
     ]
    },
    {
     "data": {
      "image/png": "[encoded data removed]",
      "text/plain": [
       "<Figure size 432x288 with 1 Axes>"
      ]
     },
     "metadata": {
      "needs_background": "light"
     },
     "output_type": "display_data"
    },
    {
     "data": {
      "image/png": "[encoded data removed]",
      "text/plain": [
       "<Figure size 432x288 with 1 Axes>"
      ]
     },
     "metadata": {
      "needs_background": "light"
     },
     "output_type": "display_data"
    }
   ],
   "source": [
    "import matplotlib.pyplot as plt\n",
    "\n",
    "# list all data in history\n",
    "print(history.history.keys())\n",
    "# summarize history for accuracy\n",
    "plt.plot(history.history['accuracy'])\n",
    "plt.plot(history.history['val_accuracy'])\n",
    "plt.title('model accuracy')\n",
    "plt.ylabel('accuracy')\n",
    "plt.xlabel('epoch')\n",
    "plt.legend(['train', 'test'], loc='upper left')\n",
    "plt.show()\n",
    "# summarize history for loss\n",
    "plt.plot(history.history['loss'])\n",
    "plt.plot(history.history['val_loss'])\n",
    "plt.title('model loss')\n",
    "plt.ylabel('loss')\n",
    "plt.xlabel('epoch')\n",
    "plt.legend(['train', 'test'], loc='upper left')\n",
    "plt.show()"
   ]
  }
 ],
 "metadata": {
  "kernelspec": {
   "display_name": "Python 3",
   "language": "python",
   "name": "python3"
  },
  "language_info": {
   "codemirror_mode": {
    "name": "ipython",
    "version": 3
   },
   "file_extension": ".py",
   "mimetype": "text/x-python",
   "name": "python",
   "nbconvert_exporter": "python",
   "pygments_lexer": "ipython3",
   "version": "3.6.7"
  }
 },
 "nbformat": 4,
 "nbformat_minor": 2
}
