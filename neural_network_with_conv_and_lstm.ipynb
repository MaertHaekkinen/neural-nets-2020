{
 "cells": [
  {
   "cell_type": "code",
   "execution_count": 23,
   "metadata": {},
   "outputs": [],
   "source": [
    "from create_train_and_validation import create_train_and_validation_set\n",
    "from keras.layers import Dense, LSTM, Input, Conv2D, Dense, LSTM,MaxPooling2D , Flatten, TimeDistributed,Activation\n",
    "from keras.models import Sequential\n",
    "from keras.optimizers import Adam\n",
    "from keras.preprocessing.image import ImageDataGenerator, DirectoryIterator\n",
    "from metrics import f1_score\n",
    "from sklearn.metrics import classification_report\n",
    "from sklearn.preprocessing import LabelBinarizer\n",
    "from tensorflow.keras.preprocessing.image import ImageDataGenerator\n",
    "import keras\n",
    "import math\n",
    "import matplotlib.pyplot as plt\n",
    "import numpy as np\n",
    "import sys\n",
    "import tensorflow as tf\n",
    "\n",
    "from image_sequence_generator import ImageSequenceGenerator\n",
    "from utils import labels_to_binary"
   ]
  },
  {
   "cell_type": "markdown",
   "metadata": {},
   "source": [
    "# Layer structure\n",
    "\n",
    "<img src=\"images/layer_structure.png\">"
   ]
  },
  {
   "cell_type": "markdown",
   "metadata": {},
   "source": [
    "### Important: \n",
    "* modelB stands for model that uses binary feature labels\n",
    "* modelC stands for model that uses categorical feature labels"
   ]
  },
  {
   "cell_type": "code",
   "execution_count": 9,
   "metadata": {},
   "outputs": [
    {
     "name": "stdout",
     "output_type": "stream",
     "text": [
      "Model: \"sequential_1\"\n",
      "_________________________________________________________________\n",
      "Layer (type)                 Output Shape              Param #   \n",
      "=================================================================\n",
      "time_distributed_1 (TimeDist (None, 15, 61, 61, 96)    14208     \n",
      "_________________________________________________________________\n",
      "time_distributed_2 (TimeDist (None, 15, 30, 30, 96)    0         \n",
      "_________________________________________________________________\n",
      "time_distributed_3 (TimeDist (None, 15, 14, 14, 384)   332160    \n",
      "_________________________________________________________________\n",
      "time_distributed_4 (TimeDist (None, 15, 7, 7, 384)     0         \n",
      "_________________________________________________________________\n",
      "time_distributed_5 (TimeDist (None, 15, 7, 7, 512)     1769984   \n",
      "_________________________________________________________________\n",
      "time_distributed_6 (TimeDist (None, 15, 7, 7, 512)     2359808   \n",
      "_________________________________________________________________\n",
      "time_distributed_7 (TimeDist (None, 15, 7, 7, 384)     1769856   \n",
      "_________________________________________________________________\n",
      "time_distributed_8 (TimeDist (None, 15, 3, 3, 384)     0         \n",
      "_________________________________________________________________\n",
      "time_distributed_9 (TimeDist (None, 15, 3456)          0         \n",
      "_________________________________________________________________\n",
      "time_distributed_10 (TimeDis (None, 15, 4096)          14159872  \n",
      "_________________________________________________________________\n",
      "lstm_1 (LSTM)                (None, 256)               4457472   \n",
      "_________________________________________________________________\n",
      "dense_2 (Dense)              (None, 3)                 771       \n",
      "_________________________________________________________________\n",
      "activation_1 (Activation)    (None, 3)                 0         \n",
      "=================================================================\n",
      "Total params: 24,864,131\n",
      "Trainable params: 24,864,131\n",
      "Non-trainable params: 0\n",
      "_________________________________________________________________\n",
      "None\n",
      "Model: \"sequential_2\"\n",
      "_________________________________________________________________\n",
      "Layer (type)                 Output Shape              Param #   \n",
      "=================================================================\n",
      "time_distributed_11 (TimeDis (None, 15, 61, 61, 96)    14208     \n",
      "_________________________________________________________________\n",
      "time_distributed_12 (TimeDis (None, 15, 30, 30, 96)    0         \n",
      "_________________________________________________________________\n",
      "time_distributed_13 (TimeDis (None, 15, 14, 14, 384)   332160    \n",
      "_________________________________________________________________\n",
      "time_distributed_14 (TimeDis (None, 15, 7, 7, 384)     0         \n",
      "_________________________________________________________________\n",
      "time_distributed_15 (TimeDis (None, 15, 7, 7, 512)     1769984   \n",
      "_________________________________________________________________\n",
      "time_distributed_16 (TimeDis (None, 15, 7, 7, 512)     2359808   \n",
      "_________________________________________________________________\n",
      "time_distributed_17 (TimeDis (None, 15, 7, 7, 384)     1769856   \n",
      "_________________________________________________________________\n",
      "time_distributed_18 (TimeDis (None, 15, 3, 3, 384)     0         \n",
      "_________________________________________________________________\n",
      "time_distributed_19 (TimeDis (None, 15, 3456)          0         \n",
      "_________________________________________________________________\n",
      "time_distributed_20 (TimeDis (None, 15, 4096)          14159872  \n",
      "_________________________________________________________________\n",
      "lstm_2 (LSTM)                (None, 256)               4457472   \n",
      "_________________________________________________________________\n",
      "dense_4 (Dense)              (None, 8)                 2056      \n",
      "_________________________________________________________________\n",
      "activation_2 (Activation)    (None, 8)                 0         \n",
      "=================================================================\n",
      "Total params: 24,865,416\n",
      "Trainable params: 24,865,416\n",
      "Non-trainable params: 0\n",
      "_________________________________________________________________\n",
      "None\n"
     ]
    }
   ],
   "source": [
    "im_size = 128\n",
    "time_steps = 16 # length of image sequence\n",
    "channels = 3\n",
    "\n",
    "#modelB for binary response\n",
    "modelB = Sequential()\n",
    "modelB.add(TimeDistributed(Conv2D(filters=96, kernel_size=7,  strides=2, padding='valid'), input_shape=(time_steps,im_size,im_size,channels))) # first input shape is the len of seq\n",
    "modelB.add(TimeDistributed(MaxPooling2D(pool_size=(2, 2))))\n",
    "modelB.add(TimeDistributed(Conv2D(filters=384, kernel_size=3,  strides=2, padding='valid')))\n",
    "modelB.add(TimeDistributed(MaxPooling2D(pool_size=(2, 2))))\n",
    "modelB.add(TimeDistributed(Conv2D(filters=512, kernel_size=3, padding='same')))\n",
    "modelB.add(TimeDistributed(Conv2D(filters=512, kernel_size=3, padding='same')))\n",
    "modelB.add(TimeDistributed(Conv2D(filters=384, kernel_size=3, padding='same')))\n",
    "modelB.add(TimeDistributed(MaxPooling2D(pool_size=(2, 2))))\n",
    "modelB.add(TimeDistributed(Flatten())) #The Flatten layer is only needed because LSTM shape should have one dimension per input.\n",
    "modelB.add(TimeDistributed(Dense(4096)))\n",
    "modelB.add(LSTM(256, return_sequences=False))\n",
    "modelB.add((Dense(3)))\n",
    "modelB.add((Activation('softmax')))\n",
    "print(modelB.summary())\n",
    "\n",
    "#modelC for categorical response\n",
    "modelC = Sequential()\n",
    "modelC.add(TimeDistributed(Conv2D(filters=96, kernel_size=7,  strides=2, padding='valid'), input_shape=(time_steps,im_size,im_size,channels))) # first input shape is the len of seq\n",
    "modelC.add(TimeDistributed(MaxPooling2D(pool_size=(2, 2))))\n",
    "modelC.add(TimeDistributed(Conv2D(filters=384, kernel_size=3,  strides=2, padding='valid')))\n",
    "modelC.add(TimeDistributed(MaxPooling2D(pool_size=(2, 2))))\n",
    "modelC.add(TimeDistributed(Conv2D(filters=512, kernel_size=3, padding='same')))\n",
    "modelC.add(TimeDistributed(Conv2D(filters=512, kernel_size=3, padding='same')))\n",
    "modelC.add(TimeDistributed(Conv2D(filters=384, kernel_size=3, padding='same')))\n",
    "modelC.add(TimeDistributed(MaxPooling2D(pool_size=(2, 2))))\n",
    "modelC.add(TimeDistributed(Flatten())) #The Flatten layer is only needed because LSTM shape should have one dimension per input.\n",
    "modelC.add(TimeDistributed(Dense(4096)))\n",
    "modelC.add(LSTM(256, return_sequences=False))\n",
    "modelC.add((Dense(8)))\n",
    "modelC.add((Activation('softmax')))\n",
    "print(modelC.summary())"
   ]
  },
  {
   "cell_type": "markdown",
   "metadata": {},
   "source": [
    "## Binary labels\n",
    "\n",
    "Comment: following warning can be ignored, it occurs during converting labels into binary \n",
    "\n",
    "Warning: .../miniconda3/envs/stacc/lib/python3.6/site-packages/sklearn/preprocessing/label.py:951: UserWarning: unknown class(es) ['O'] will be ignored\n",
    "  .format(sorted(unknown, key=str)))"
   ]
  },
  {
   "cell_type": "code",
   "execution_count": 3,
   "metadata": {},
   "outputs": [
    {
     "name": "stdout",
     "output_type": "stream",
     "text": [
      "initial labels: \n",
      " ['BOO', 'BLO', 'BOR', 'BLR', 'OLR', 'OLO', 'OOR', 'OOO']\n",
      "labels in binary: \n",
      " [[1 0 0]\n",
      " [1 1 0]\n",
      " [1 0 1]\n",
      " [1 1 1]\n",
      " [0 1 1]\n",
      " [0 1 0]\n",
      " [0 0 1]\n",
      " [0 0 0]]\n"
     ]
    },
    {
     "name": "stderr",
     "output_type": "stream",
     "text": [
      "C:\\ProgramData\\Anaconda3\\lib\\site-packages\\sklearn\\preprocessing\\label.py:951: UserWarning: unknown class(es) ['O'] will be ignored\n",
      "  .format(sorted(unknown, key=str)))\n"
     ]
    }
   ],
   "source": [
    "ini_labels = ['BOO', 'BLO', 'BOR', 'BLR', 'OLR', 'OLO', 'OOR', 'OOO']\n",
    "print('initial labels: \\n', ini_labels)\n",
    "labels_binary = labels_to_binary(ini_labels)\n",
    "print('labels in binary: \\n', labels_binary)"
   ]
  },
  {
   "cell_type": "markdown",
   "metadata": {},
   "source": [
    "### Split all non-test folders into train and validation\n",
    "Train data is 70% and validation is 30%.\n",
    "Output is \n",
    "* list of paths to folders belonging to training set (train_folder_list), validation set (valid_folder_list) and test set (test_folder_list)\n",
    "* number of image sequences in train, validation and test set"
   ]
  },
  {
   "cell_type": "code",
   "execution_count": 112,
   "metadata": {},
   "outputs": [
    {
     "name": "stdout",
     "output_type": "stream",
     "text": [
      "total number of non-test folders is  533  for difficulty  All\n",
      "total number of non-test image sequences is  40350\n",
      "total number of test image sequences is  13189\n",
      "\n",
      "final train set contains  28180  image sequences ( 70 % )\n",
      "final validation set contains  12170  image sequences ( 30 % )\n",
      "final test set contains  13189  image sequences\n"
     ]
    }
   ],
   "source": [
    "path=\"./rear_signal_dataset\"\n",
    "difficulty=\"All\"\n",
    "\n",
    "train_folder_list, valid_folder_list, test_folder_list, count_train_seq, count_valid_seq, count_test_seq = create_train_and_validation_set(path, difficulty)"
   ]
  },
  {
   "cell_type": "markdown",
   "metadata": {},
   "source": [
    "### True labels of test data"
   ]
  },
  {
   "cell_type": "code",
   "execution_count": 109,
   "metadata": {},
   "outputs": [
    {
     "name": "stdout",
     "output_type": "stream",
     "text": [
      "39195\n",
      "First test data binary labels:\n",
      " [[1 0 0]\n",
      " [0 1 0]\n",
      " [0 0 0]\n",
      " ...\n",
      " [0 0 0]\n",
      " [0 1 0]\n",
      " [0 0 0]]\n",
      "First test data categorical:\n",
      " [[0 0 0 ... 0 0 0]\n",
      " [0 0 0 ... 0 0 0]\n",
      " [0 0 0 ... 0 0 0]\n",
      " ...\n",
      " [0 0 0 ... 0 0 0]\n",
      " [0 0 0 ... 0 0 0]\n",
      " [0 0 0 ... 0 0 0]]\n"
     ]
    }
   ],
   "source": [
    "import os\n",
    "\n",
    "lb = LabelBinarizer()\n",
    "labels = set(['BOO', 'BLO', 'BOR', 'BLR', 'OLR', 'OLO', 'OOR', 'OOO'])\n",
    "lb.fit(list(labels))\n",
    "\n",
    "raw_label_list = []\n",
    "for folder in test_folder_list:\n",
    "    path, dirs, files = next(os.walk(folder))\n",
    "    if(len(dirs)>0):\n",
    "        _ , _, files2 = next(os.walk(path+\"/\"+dirs[0]))\n",
    "        val=len(files2)-time_steps\n",
    "        raw_label_list.extend(folder.split(\"_\")[-2]*val)\n",
    "print(len(raw_label_list))\n",
    "Y_test_binary = labels_to_binary(raw_label_list)\n",
    "Y_test_categ = lb.transform(raw_label_list)\n",
    "print('First test data binary labels:\\n', Y_test_binary)\n",
    "print('First test data categorical:\\n', Y_test_categ)"
   ]
  },
  {
   "cell_type": "markdown",
   "metadata": {},
   "source": [
    "https://www.pyimagesearch.com/2018/12/24/how-to-use-keras-fit-and-fit_generator-a-hands-on-tutorial/"
   ]
  },
  {
   "cell_type": "code",
   "execution_count": 114,
   "metadata": {},
   "outputs": [
    {
     "name": "stdout",
     "output_type": "stream",
     "text": [
      "Info\n",
      "difficulty: All \n",
      "label type: binary \n",
      "image size: 128 \n",
      "epochs: 5 \n",
      "batch size: 20, \n",
      "learning_rate: 0.01\n",
      "NUM_TRAIN_SEQ: 28180\n",
      "NUM_VALID_SEQ: 12170\n",
      "NUM_TEST_SEQ: 13189\n"
     ]
    }
   ],
   "source": [
    "label_type = \"binary\"\n",
    "# initialize the number of epochs to train for and batch size\n",
    "NUM_EPOCHS = 5 #10\n",
    "BS = 20 #32\n",
    "learning_rate = 0.01\n",
    "#standard batch size is 32 või 64, but kernal dies with BS larger than 8\n",
    "\n",
    "print('Info\\ndifficulty: {0} \\nlabel type: {1} \\nimage size: {2} \\nepochs: {3} \\nbatch size: {4}, \\nlearning_rate: {5}'.format(difficulty,label_type,im_size, NUM_EPOCHS, BS,learning_rate))\n",
    "\n",
    "# initialize the total number of training and testing sequences\n",
    "# initialize the share of sample\n",
    "ss = 1\n",
    "NUM_TRAIN_SEQ = round(count_train_seq*ss,0)\n",
    "NUM_VALID_SEQ = round(count_valid_seq*ss,0)\n",
    "NUM_TEST_SEQ = round(count_test_seq*ss,0)\n",
    "\n",
    "print('NUM_TRAIN_SEQ:', NUM_TRAIN_SEQ)\n",
    "print('NUM_VALID_SEQ:', NUM_VALID_SEQ)\n",
    "print('NUM_TEST_SEQ:', NUM_TEST_SEQ)\n",
    "\n",
    "# TODO: not in use\n",
    "# construct the training image generator for data augmentation\n",
    "# image data augmentation object will randomly rotate, flip, shear, etc. our training images.\n",
    "aug = ImageDataGenerator(rotation_range=20, zoom_range=0.15,\n",
    "    width_shift_range=0.2, height_shift_range=0.2, shear_range=0.15,\n",
    "    horizontal_flip=True, fill_mode=\"nearest\")\n",
    "\n",
    "img_seq_gen_train = ImageSequenceGenerator()\n",
    "img_seq_gen_valid = ImageSequenceGenerator()\n",
    "\n",
    "trainGenB = img_seq_gen_train.png_image_generator(path, bs=BS, folder_list=train_folder_list, difficulty=difficulty, label_type = \"binary\", aug=None)\n",
    "validGenB = img_seq_gen_valid.png_image_generator(path, bs=BS, folder_list=valid_folder_list, difficulty=difficulty, label_type = \"binary\", aug=None)"
   ]
  },
  {
   "cell_type": "markdown",
   "metadata": {},
   "source": [
    "### Important: if target is categorical use categorical_crossentropy, if target is binary use binary_crossentropy\n",
    "TODO:\n",
    "* salvestada mudel pärast treenimist, siis ei pea iga kord kui notebook uuesti mudelit nullist treenima hakata (näiteks https://machinelearningmastery.com/save-load-keras-deep-learning-models/)\n",
    "* teha joonised mudeli lossi ja accuracy muutustest treenimise käigus (näiteks https://machinelearningmastery.com/display-deep-learning-model-training-history-in-keras/)\n",
    "\n",
    "Comment: following warning can be ignored, it occurs during converting labels into binary \n",
    "\n",
    "Warning: .../miniconda3/envs/stacc/lib/python3.6/site-packages/sklearn/preprocessing/label.py:951: UserWarning: unknown class(es) ['O'] will be ignored\n",
    "  .format(sorted(unknown, key=str)))"
   ]
  },
  {
   "cell_type": "code",
   "execution_count": 8,
   "metadata": {
    "scrolled": false
   },
   "outputs": [
    {
     "name": "stdout",
     "output_type": "stream",
     "text": [
      "Binary model: steps per epoch: 1405, validation steps: 611\n",
      "[INFO] training w/ generator...\n",
      "Epoch 1/5\n"
     ]
    },
    {
     "name": "stderr",
     "output_type": "stream",
     "text": [
      "C:\\ProgramData\\Anaconda3\\lib\\site-packages\\sklearn\\preprocessing\\label.py:951: UserWarning: unknown class(es) ['O'] will be ignored\n",
      "  .format(sorted(unknown, key=str)))\n"
     ]
    },
    {
     "name": "stdout",
     "output_type": "stream",
     "text": [
      "1405/1405 [==============================] - 987s 703ms/step - loss: 0.5315 - categorical_accuracy: 0.7456 - accuracy: 0.7441 - val_loss: 0.5161 - val_categorical_accuracy: 0.6702 - val_accuracy: 0.7194\n",
      "Epoch 2/5\n",
      "1405/1405 [==============================] - 976s 694ms/step - loss: 0.5293 - categorical_accuracy: 0.7203 - accuracy: 0.7429 - val_loss: 0.5763 - val_categorical_accuracy: 0.7069 - val_accuracy: 0.7158\n",
      "Epoch 3/5\n",
      "1405/1405 [==============================] - 1033s 735ms/step - loss: 0.5263 - categorical_accuracy: 0.7289 - accuracy: 0.7458 - val_loss: 0.5374 - val_categorical_accuracy: 0.5736 - val_accuracy: 0.6948\n",
      "Epoch 4/5\n",
      "1405/1405 [==============================] - 1024s 729ms/step - loss: 0.5281 - categorical_accuracy: 0.7241 - accuracy: 0.7426 - val_loss: 0.5578 - val_categorical_accuracy: 0.7409 - val_accuracy: 0.7189\n",
      "Epoch 5/5\n",
      "1405/1405 [==============================] - 1036s 738ms/step - loss: 0.5249 - categorical_accuracy: 0.7258 - accuracy: 0.7448 - val_loss: 0.5225 - val_categorical_accuracy: 0.7289 - val_accuracy: 0.7286\n"
     ]
    }
   ],
   "source": [
    "opt = Adam(learning_rate=learning_rate)\n",
    "modelB.compile(loss='binary_crossentropy', optimizer=opt, metrics=['categorical_accuracy','accuracy'])\n",
    "\n",
    "print('Binary model: steps per epoch: {0}, validation steps: {1}'.format(NUM_TRAIN_SEQ // BS, NUM_VALID_SEQ // BS))    \n",
    "    \n",
    "# train the network\n",
    "print(\"[INFO] training w/ generator...\")\n",
    "historyB = modelB.fit(\n",
    "    x=trainGenB,\n",
    "    steps_per_epoch=NUM_TRAIN_SEQ // BS,\n",
    "    validation_data=validGenB,\n",
    "    validation_steps=NUM_VALID_SEQ // BS,\n",
    "    epochs=NUM_EPOCHS)"
   ]
  },
  {
   "cell_type": "code",
   "execution_count": 9,
   "metadata": {},
   "outputs": [
    {
     "name": "stdout",
     "output_type": "stream",
     "text": [
      "Categorical model: steps per epoch: 1405, validation steps: 611\n"
     ]
    },
    {
     "name": "stderr",
     "output_type": "stream",
     "text": [
      "C:\\ProgramData\\Anaconda3\\lib\\site-packages\\sklearn\\preprocessing\\label.py:951: UserWarning: unknown class(es) ['O'] will be ignored\n",
      "  .format(sorted(unknown, key=str)))\n"
     ]
    },
    {
     "name": "stdout",
     "output_type": "stream",
     "text": [
      "Epoch 1/5\n",
      "1405/1405 [==============================] - 1018s 725ms/step - loss: 1.5634 - accuracy: 0.3831 - val_loss: 2.0694 - val_accuracy: 0.3264\n",
      "Epoch 2/5\n",
      "1405/1405 [==============================] - 1150s 818ms/step - loss: 1.5108 - accuracy: 0.3905 - val_loss: 1.7336 - val_accuracy: 0.3444\n",
      "Epoch 3/5\n",
      "1405/1405 [==============================] - 1033s 735ms/step - loss: 1.4860 - accuracy: 0.3975 - val_loss: 1.6246 - val_accuracy: 0.3658\n",
      "Epoch 4/5\n",
      "1405/1405 [==============================] - 1068s 760ms/step - loss: 1.5055 - accuracy: 0.3965 - val_loss: 1.3755 - val_accuracy: 0.3231\n",
      "Epoch 5/5\n",
      "1405/1405 [==============================] - 1118s 795ms/step - loss: 1.4850 - accuracy: 0.4049 - val_loss: 1.6781 - val_accuracy: 0.3386\n"
     ]
    }
   ],
   "source": [
    "# categorical model \n",
    "img_seq_gen_train = ImageSequenceGenerator()\n",
    "img_seq_gen_valid = ImageSequenceGenerator()\n",
    "\n",
    "trainGenC = img_seq_gen_train.png_image_generator(path, bs=BS, folder_list=train_folder_list, difficulty=difficulty, label_type = \"categorical\", aug=None)\n",
    "validGenC = img_seq_gen_valid.png_image_generator(path, bs=BS, folder_list=valid_folder_list, difficulty=difficulty, label_type = \"categorical\", aug=None)\n",
    "\n",
    "modelC.compile(loss=\"categorical_crossentropy\", optimizer=opt,metrics=[\"accuracy\"])\n",
    "print('Categorical model: steps per epoch: {0}, validation steps: {1}'.format(NUM_TRAIN_SEQ // BS, NUM_VALID_SEQ // BS))    \n",
    "\n",
    "historyC = modelC.fit(\n",
    "    x=trainGenC,\n",
    "    steps_per_epoch=NUM_TRAIN_SEQ // BS,\n",
    "    validation_data=validGenC,\n",
    "    validation_steps=NUM_VALID_SEQ // BS,\n",
    "    epochs=NUM_EPOCHS)"
   ]
  },
  {
   "cell_type": "markdown",
   "metadata": {},
   "source": [
    "### Saving the model"
   ]
  },
  {
   "cell_type": "code",
   "execution_count": 12,
   "metadata": {},
   "outputs": [
    {
     "name": "stdout",
     "output_type": "stream",
     "text": [
      "\n",
      "Saving binary model under name:  modelb_All_binary_epochs5_bs20_imsize128\n",
      "\n",
      "Saving categorical model under name:  modelc_All_binary_epochs5_bs20_imsize128\n"
     ]
    }
   ],
   "source": [
    "model_file_name_b = 'modelb_' + difficulty + '_' + label_type + '_epochs' + str(NUM_EPOCHS) + '_bs' + str(BS) + '_imsize' + str(im_size)\n",
    "print('\\nSaving binary model under name: ', model_file_name_b)\n",
    "modelB.save('saved_models/'+model_file_name_b)\n",
    "\n",
    "model_file_name_c = 'modelc_' + difficulty + '_' + label_type + '_epochs' + str(NUM_EPOCHS) + '_bs' + str(BS) + '_imsize' + str(im_size)\n",
    "print('\\nSaving categorical model under name: ', model_file_name_c)\n",
    "modelC.save('saved_models/'+model_file_name_c)"
   ]
  },
  {
   "cell_type": "markdown",
   "metadata": {},
   "source": [
    "### Loading the saved model"
   ]
  },
  {
   "cell_type": "code",
   "execution_count": 115,
   "metadata": {},
   "outputs": [
    {
     "name": "stderr",
     "output_type": "stream",
     "text": [
      "C:\\ProgramData\\Anaconda3\\lib\\site-packages\\keras\\engine\\saving.py:384: UserWarning: Error in loading the saved optimizer state. As a result, your model is starting with a freshly initialized optimizer.\n",
      "  warnings.warn('Error in loading the saved optimizer '\n"
     ]
    }
   ],
   "source": [
    "model = keras.models.load_model('saved_models/'+\"modelb_All_binary_epochs5_bs20_imsize128\")"
   ]
  },
  {
   "cell_type": "markdown",
   "metadata": {},
   "source": [
    "### Training accuracy and loss visualisation"
   ]
  },
  {
   "cell_type": "code",
   "execution_count": 18,
   "metadata": {},
   "outputs": [
    {
     "data": {
      "image/png": "[encoded data removed]",
      "text/plain": [
       "<Figure size 432x288 with 1 Axes>"
      ]
     },
     "metadata": {
      "needs_background": "light"
     },
     "output_type": "display_data"
    },
    {
     "data": {
      "image/png": "[encoded data removed]",
      "text/plain": [
       "<Figure size 432x288 with 1 Axes>"
      ]
     },
     "metadata": {
      "needs_background": "light"
     },
     "output_type": "display_data"
    }
   ],
   "source": [
    "# modelB\n",
    "# summarize history for accuracy\n",
    "plt.plot(historyB.history['accuracy'])\n",
    "plt.plot(historyB.history['val_accuracy'])\n",
    "#plt.title('model binary accuracy')\n",
    "plt.ylabel('accuracy')\n",
    "plt.xlabel('epoch')\n",
    "plt.legend(['train', 'validation'], loc='upper left')\n",
    "plt.savefig('images/accuracy_' + model_file_name_b + '.png',dpi=200)\n",
    "plt.show()\n",
    "\n",
    "# summarize history for loss\n",
    "plt.plot(historyB.history['loss'])\n",
    "plt.plot(historyB.history['val_loss'])\n",
    "#plt.title('model binary loss')\n",
    "plt.ylabel('loss')\n",
    "plt.xlabel('epoch')\n",
    "plt.legend(['train', 'validation'], loc='upper left')\n",
    "plt.savefig('images/loss_' + model_file_name_b + '.png',dpi=200)\n",
    "plt.show()"
   ]
  },
  {
   "cell_type": "code",
   "execution_count": 20,
   "metadata": {},
   "outputs": [
    {
     "data": {
      "image/png": "[encoded data removed]",
      "text/plain": [
       "<Figure size 432x288 with 1 Axes>"
      ]
     },
     "metadata": {
      "needs_background": "light"
     },
     "output_type": "display_data"
    },
    {
     "data": {
      "image/png": "[encoded data removed]",
      "text/plain": [
       "<Figure size 432x288 with 1 Axes>"
      ]
     },
     "metadata": {
      "needs_background": "light"
     },
     "output_type": "display_data"
    }
   ],
   "source": [
    "# modelC\n",
    "# summarize history for accuracy\n",
    "plt.plot(historyC.history['accuracy'])\n",
    "plt.plot(historyC.history['val_accuracy'])\n",
    "#plt.title('model binary accuracy')\n",
    "plt.ylabel('accuracy')\n",
    "plt.xlabel('epoch')\n",
    "plt.legend(['train', 'validation'], loc='upper left')\n",
    "plt.savefig('images/accuracy_' + model_file_name_c + '.png',dpi=200)\n",
    "plt.show()\n",
    "\n",
    "# summarize history for loss\n",
    "plt.plot(historyC.history['loss'])\n",
    "plt.plot(historyC.history['val_loss'])\n",
    "#plt.title('model binary loss')\n",
    "plt.ylabel('loss')\n",
    "plt.xlabel('epoch')\n",
    "plt.legend(['train', 'validation'], loc='upper left')\n",
    "plt.savefig('images/loss_' + model_file_name_c + '.png',dpi=200)\n",
    "plt.show()"
   ]
  },
  {
   "cell_type": "markdown",
   "metadata": {},
   "source": [
    "### Prediction\n",
    "* Source: https://www.pyimagesearch.com/2018/12/24/how-to-use-keras-fit-and-fit_generator-a-hands-on-tutorial/"
   ]
  },
  {
   "cell_type": "code",
   "execution_count": 108,
   "metadata": {},
   "outputs": [
    {
     "name": "stdout",
     "output_type": "stream",
     "text": [
      "predicted probability:\n",
      " [[0.37053224 0.5042987  0.12516905]\n",
      " [0.52209926 0.38811985 0.08978093]\n",
      " [0.43873665 0.42071447 0.14054878]\n",
      " [0.4315433  0.22450283 0.34395388]]\n",
      "predictions:\n",
      " [[0 1 0]\n",
      " [1 0 0]\n",
      " [0 0 0]\n",
      " [0 0 0]]\n",
      "true labels:\n",
      " [[1 0 0]\n",
      " [0 1 0]\n",
      " [0 0 0]\n",
      " [1 0 0]]\n",
      "[INFO] evaluating network...\n",
      "39195\n",
      "              precision    recall  f1-score   support\n",
      "\n",
      "           B       0.27      0.48      0.35      3120\n",
      "           L       0.29      0.01      0.03      2541\n",
      "           R       0.13      0.02      0.03      1488\n",
      "\n",
      "   micro avg       0.27      0.22      0.24      7149\n",
      "   macro avg       0.23      0.17      0.14      7149\n",
      "weighted avg       0.25      0.22      0.17      7149\n",
      " samples avg       0.12      0.12      0.12      7149\n",
      "\n"
     ]
    }
   ],
   "source": [
    "# re-initialize our testing data generator, this time for evaluating\n",
    "from image_sequence_generator_old import ImageSequenceGeneratorOld\n",
    "\n",
    "img_seq_gen_test = ImageSequenceGeneratorOld()\n",
    "testGen = img_seq_gen_test.png_image_generator(path, bs=BS, folder_list=test_folder_list, difficulty=difficulty, label_type = label_type, aug=None)\n",
    "\n",
    "# label with the corresponding predicted probabilities for each class e.g. [0.4, 0.7, 0.2]\n",
    "predict_prob = model.predict(x=testGen, steps=(NUM_TEST_SEQ // BS) + 1)\n",
    "print('predicted probability:\\n',predict_prob[0:4])\n",
    "# convert probabilities to binary, with given threshold  e.g. [0,1,0]\n",
    "threshold = 0.5\n",
    "Y_predict_binary = np.where(predict_prob > threshold, 1, 0)\n",
    "print('predictions:\\n', Y_predict_binary[0:4])\n",
    "print('true labels:\\n', Y_test_binary[0:4])\n",
    "\n",
    "# show a nicely formatted classification report\n",
    "print(\"[INFO] evaluating network...\")\n",
    "print(len(Y_test_binary))\n",
    "print(classification_report(Y_test_binary[0:len(Y_predict_binary)], Y_predict_binary, target_names=['B','L','R']))"
   ]
  },
  {
   "cell_type": "code",
   "execution_count": 116,
   "metadata": {},
   "outputs": [
    {
     "name": "stdout",
     "output_type": "stream",
     "text": [
      "131\n",
      "131\n",
      "131\n",
      "131\n",
      "133\n",
      "[INFO] validation w/ generator...\n",
      "Epoch 1/20\n"
     ]
    },
    {
     "name": "stderr",
     "output_type": "stream",
     "text": [
      "C:\\ProgramData\\Anaconda3\\lib\\site-packages\\sklearn\\preprocessing\\label.py:951: UserWarning: unknown class(es) ['O'] will be ignored\n",
      "  .format(sorted(unknown, key=str)))\n"
     ]
    },
    {
     "name": "stdout",
     "output_type": "stream",
     "text": [
      "26/26 [==============================] - 24s 915ms/step - loss: 0.5751 - accuracy: 0.6917 - val_loss: 0.6135 - val_accuracy: 0.7500\n",
      "Epoch 2/20\n",
      "26/26 [==============================] - 20s 780ms/step - loss: 0.5724 - accuracy: 0.6942 - val_loss: 0.5604 - val_accuracy: 0.7250\n",
      "Epoch 3/20\n",
      "26/26 [==============================] - 20s 752ms/step - loss: 0.5699 - accuracy: 0.7071 - val_loss: 0.4776 - val_accuracy: 0.7222\n",
      "Epoch 4/20\n",
      "26/26 [==============================] - 18s 695ms/step - loss: 0.5907 - accuracy: 0.6917 - val_loss: 0.5902 - val_accuracy: 0.7306\n",
      "Epoch 5/20\n",
      "26/26 [==============================] - 18s 702ms/step - loss: 0.5858 - accuracy: 0.7006 - val_loss: 0.5308 - val_accuracy: 0.7889\n",
      "Epoch 6/20\n",
      "26/26 [==============================] - 17s 665ms/step - loss: 0.5724 - accuracy: 0.7179 - val_loss: 0.5233 - val_accuracy: 0.7639\n",
      "Epoch 7/20\n",
      "26/26 [==============================] - 18s 690ms/step - loss: 0.6365 - accuracy: 0.6846 - val_loss: 0.7096 - val_accuracy: 0.7194\n",
      "Epoch 8/20\n",
      "26/26 [==============================] - 17s 668ms/step - loss: 0.6015 - accuracy: 0.6897 - val_loss: 0.5624 - val_accuracy: 0.7583\n",
      "Epoch 9/20\n",
      "26/26 [==============================] - 17s 662ms/step - loss: 0.5755 - accuracy: 0.7006 - val_loss: 0.5741 - val_accuracy: 0.6889\n",
      "Epoch 10/20\n",
      "26/26 [==============================] - 15s 576ms/step - loss: 0.5644 - accuracy: 0.7122 - val_loss: 0.4467 - val_accuracy: 0.7111\n",
      "Epoch 11/20\n",
      "26/26 [==============================] - 17s 657ms/step - loss: 0.5555 - accuracy: 0.7096 - val_loss: 0.5431 - val_accuracy: 0.7250\n",
      "Epoch 12/20\n",
      "26/26 [==============================] - 17s 666ms/step - loss: 0.5705 - accuracy: 0.7051 - val_loss: 0.4684 - val_accuracy: 0.7750\n",
      "Epoch 13/20\n",
      "26/26 [==============================] - 17s 648ms/step - loss: 0.5614 - accuracy: 0.7083 - val_loss: 0.5890 - val_accuracy: 0.7472\n",
      "Epoch 14/20\n",
      "26/26 [==============================] - 17s 640ms/step - loss: 0.5792 - accuracy: 0.6949 - val_loss: 0.5139 - val_accuracy: 0.8139\n",
      "Epoch 15/20\n",
      "26/26 [==============================] - 16s 603ms/step - loss: 0.5845 - accuracy: 0.6910 - val_loss: 0.5419 - val_accuracy: 0.7472\n",
      "Epoch 16/20\n",
      "26/26 [==============================] - 17s 653ms/step - loss: 0.5696 - accuracy: 0.7160 - val_loss: 0.5261 - val_accuracy: 0.7389\n",
      "Epoch 17/20\n",
      "26/26 [==============================] - 16s 607ms/step - loss: 0.5758 - accuracy: 0.7173 - val_loss: 0.5268 - val_accuracy: 0.7417\n",
      "Epoch 18/20\n",
      "26/26 [==============================] - 15s 593ms/step - loss: 0.5886 - accuracy: 0.6974 - val_loss: 0.7407 - val_accuracy: 0.7861\n",
      "Epoch 19/20\n",
      "26/26 [==============================] - 15s 569ms/step - loss: 0.5790 - accuracy: 0.6942 - val_loss: 0.5773 - val_accuracy: 0.7472\n",
      "Epoch 20/20\n",
      "26/26 [==============================] - 17s 639ms/step - loss: 0.5771 - accuracy: 0.7128 - val_loss: 0.5422 - val_accuracy: 0.7417\n",
      "[INFO] validation w/ generator...\n",
      "Epoch 1/20\n"
     ]
    },
    {
     "name": "stderr",
     "output_type": "stream",
     "text": [
      "C:\\ProgramData\\Anaconda3\\lib\\site-packages\\sklearn\\preprocessing\\label.py:951: UserWarning: unknown class(es) ['O'] will be ignored\n",
      "  .format(sorted(unknown, key=str)))\n"
     ]
    },
    {
     "name": "stdout",
     "output_type": "stream",
     "text": [
      "26/26 [==============================] - 18s 706ms/step - loss: 0.5490 - accuracy: 0.7308 - val_loss: 0.4918 - val_accuracy: 0.7750\n",
      "Epoch 2/20\n",
      "26/26 [==============================] - 19s 724ms/step - loss: 0.5846 - accuracy: 0.6942 - val_loss: 0.5264 - val_accuracy: 0.7694\n",
      "Epoch 3/20\n",
      "26/26 [==============================] - 18s 690ms/step - loss: 0.5708 - accuracy: 0.7135 - val_loss: 0.5345 - val_accuracy: 0.7556\n",
      "Epoch 4/20\n",
      "26/26 [==============================] - 17s 645ms/step - loss: 0.5776 - accuracy: 0.7167 - val_loss: 0.5300 - val_accuracy: 0.7444\n",
      "Epoch 5/20\n",
      "26/26 [==============================] - 17s 641ms/step - loss: 0.5649 - accuracy: 0.7186 - val_loss: 0.4890 - val_accuracy: 0.7528\n",
      "Epoch 6/20\n",
      "26/26 [==============================] - 18s 678ms/step - loss: 0.5779 - accuracy: 0.6981 - val_loss: 0.5067 - val_accuracy: 0.7778\n",
      "Epoch 7/20\n",
      "26/26 [==============================] - 14s 550ms/step - loss: 0.5805 - accuracy: 0.6968 - val_loss: 0.5170 - val_accuracy: 0.7722\n",
      "Epoch 8/20\n",
      "26/26 [==============================] - 15s 570ms/step - loss: 0.5719 - accuracy: 0.7096 - val_loss: 0.5141 - val_accuracy: 0.7500\n",
      "Epoch 9/20\n",
      "26/26 [==============================] - 15s 559ms/step - loss: 0.5926 - accuracy: 0.6936 - val_loss: 0.4717 - val_accuracy: 0.7667\n",
      "Epoch 10/20\n",
      "26/26 [==============================] - 14s 552ms/step - loss: 0.5572 - accuracy: 0.7263 - val_loss: 0.5628 - val_accuracy: 0.6972\n",
      "Epoch 11/20\n",
      "26/26 [==============================] - 15s 566ms/step - loss: 0.5621 - accuracy: 0.7263 - val_loss: 0.5945 - val_accuracy: 0.7611\n",
      "Epoch 12/20\n",
      "26/26 [==============================] - 16s 632ms/step - loss: 0.5592 - accuracy: 0.7256 - val_loss: 0.5308 - val_accuracy: 0.7444\n",
      "Epoch 13/20\n",
      "26/26 [==============================] - 17s 652ms/step - loss: 0.5628 - accuracy: 0.7244 - val_loss: 0.5078 - val_accuracy: 0.7806\n",
      "Epoch 14/20\n",
      "26/26 [==============================] - 14s 545ms/step - loss: 0.5708 - accuracy: 0.7269 - val_loss: 0.5572 - val_accuracy: 0.7056\n",
      "Epoch 15/20\n",
      "26/26 [==============================] - 14s 549ms/step - loss: 0.5784 - accuracy: 0.7205 - val_loss: 0.6342 - val_accuracy: 0.6917\n",
      "Epoch 16/20\n",
      "26/26 [==============================] - 15s 568ms/step - loss: 0.5751 - accuracy: 0.7019 - val_loss: 0.5496 - val_accuracy: 0.7056\n",
      "Epoch 17/20\n",
      "26/26 [==============================] - 15s 584ms/step - loss: 0.5754 - accuracy: 0.7077 - val_loss: 0.5372 - val_accuracy: 0.7694\n",
      "Epoch 18/20\n",
      "26/26 [==============================] - 15s 563ms/step - loss: 0.5764 - accuracy: 0.7006 - val_loss: 0.5448 - val_accuracy: 0.7611\n",
      "Epoch 19/20\n",
      "26/26 [==============================] - 15s 564ms/step - loss: 0.5632 - accuracy: 0.7269 - val_loss: 0.5142 - val_accuracy: 0.6972\n",
      "Epoch 20/20\n",
      "26/26 [==============================] - 15s 561ms/step - loss: 0.5822 - accuracy: 0.7077 - val_loss: 0.5489 - val_accuracy: 0.7639\n",
      "[INFO] validation w/ generator...\n"
     ]
    },
    {
     "name": "stderr",
     "output_type": "stream",
     "text": [
      "C:\\ProgramData\\Anaconda3\\lib\\site-packages\\sklearn\\preprocessing\\label.py:951: UserWarning: unknown class(es) ['O'] will be ignored\n",
      "  .format(sorted(unknown, key=str)))\n",
      "C:\\ProgramData\\Anaconda3\\lib\\site-packages\\sklearn\\preprocessing\\label.py:951: UserWarning: unknown class(es) ['O'] will be ignored\n",
      "  .format(sorted(unknown, key=str)))\n"
     ]
    },
    {
     "name": "stdout",
     "output_type": "stream",
     "text": [
      "Epoch 1/20\n",
      "26/26 [==============================] - 20s 757ms/step - loss: 0.5783 - accuracy: 0.7071 - val_loss: 0.4884 - val_accuracy: 0.7139\n",
      "Epoch 2/20\n",
      "26/26 [==============================] - 16s 616ms/step - loss: 0.6009 - accuracy: 0.6865 - val_loss: 0.5605 - val_accuracy: 0.7694\n",
      "Epoch 3/20\n",
      "26/26 [==============================] - 17s 639ms/step - loss: 0.5811 - accuracy: 0.7006 - val_loss: 0.5005 - val_accuracy: 0.7250\n",
      "Epoch 4/20\n",
      "26/26 [==============================] - 17s 644ms/step - loss: 0.5669 - accuracy: 0.7141 - val_loss: 0.6257 - val_accuracy: 0.7111\n",
      "Epoch 5/20\n",
      "26/26 [==============================] - 17s 673ms/step - loss: 0.5741 - accuracy: 0.7115 - val_loss: 0.5476 - val_accuracy: 0.7000\n",
      "Epoch 6/20\n",
      "26/26 [==============================] - 15s 585ms/step - loss: 0.5887 - accuracy: 0.6962 - val_loss: 0.5486 - val_accuracy: 0.7000\n",
      "Epoch 7/20\n",
      "26/26 [==============================] - 17s 670ms/step - loss: 0.6035 - accuracy: 0.6859 - val_loss: 0.6146 - val_accuracy: 0.7444\n",
      "Epoch 8/20\n",
      "26/26 [==============================] - 17s 645ms/step - loss: 0.5909 - accuracy: 0.6891 - val_loss: 0.5815 - val_accuracy: 0.6778\n",
      "Epoch 9/20\n",
      "26/26 [==============================] - 16s 611ms/step - loss: 0.5704 - accuracy: 0.7045 - val_loss: 0.5699 - val_accuracy: 0.7278\n",
      "Epoch 10/20\n",
      "26/26 [==============================] - 17s 651ms/step - loss: 0.5614 - accuracy: 0.7167 - val_loss: 0.5824 - val_accuracy: 0.7083\n",
      "Epoch 11/20\n",
      "26/26 [==============================] - 16s 597ms/step - loss: 0.5577 - accuracy: 0.7224 - val_loss: 0.5523 - val_accuracy: 0.7639\n",
      "Epoch 12/20\n",
      "26/26 [==============================] - 17s 635ms/step - loss: 0.5644 - accuracy: 0.7199 - val_loss: 0.5797 - val_accuracy: 0.7139\n",
      "Epoch 13/20\n",
      "26/26 [==============================] - 17s 661ms/step - loss: 0.5610 - accuracy: 0.7218 - val_loss: 0.4802 - val_accuracy: 0.7361\n",
      "Epoch 14/20\n",
      "26/26 [==============================] - 17s 659ms/step - loss: 0.5582 - accuracy: 0.7173 - val_loss: 0.5000 - val_accuracy: 0.7417\n",
      "Epoch 15/20\n",
      "26/26 [==============================] - 15s 574ms/step - loss: 0.5663 - accuracy: 0.7077 - val_loss: 0.5629 - val_accuracy: 0.7278\n",
      "Epoch 16/20\n",
      "26/26 [==============================] - 17s 653ms/step - loss: 0.5728 - accuracy: 0.7013 - val_loss: 0.5050 - val_accuracy: 0.7056\n",
      "Epoch 17/20\n",
      "26/26 [==============================] - 18s 677ms/step - loss: 0.5689 - accuracy: 0.7205 - val_loss: 0.5556 - val_accuracy: 0.7417\n",
      "Epoch 18/20\n",
      "26/26 [==============================] - 15s 592ms/step - loss: 0.5642 - accuracy: 0.7218 - val_loss: 0.5464 - val_accuracy: 0.6667\n",
      "Epoch 19/20\n",
      "26/26 [==============================] - 17s 673ms/step - loss: 0.5795 - accuracy: 0.7045 - val_loss: 0.5894 - val_accuracy: 0.7611\n",
      "Epoch 20/20\n",
      "26/26 [==============================] - 16s 604ms/step - loss: 0.5689 - accuracy: 0.7192 - val_loss: 0.5687 - val_accuracy: 0.6972\n",
      "[INFO] validation w/ generator...\n"
     ]
    },
    {
     "name": "stderr",
     "output_type": "stream",
     "text": [
      "C:\\ProgramData\\Anaconda3\\lib\\site-packages\\sklearn\\preprocessing\\label.py:951: UserWarning: unknown class(es) ['O'] will be ignored\n",
      "  .format(sorted(unknown, key=str)))\n"
     ]
    },
    {
     "name": "stdout",
     "output_type": "stream",
     "text": [
      "Epoch 1/20\n",
      "26/26 [==============================] - 20s 781ms/step - loss: 0.5714 - accuracy: 0.7103 - val_loss: 0.5314 - val_accuracy: 0.7083\n",
      "Epoch 2/20\n",
      "26/26 [==============================] - 19s 721ms/step - loss: 0.5705 - accuracy: 0.7064 - val_loss: 0.5298 - val_accuracy: 0.7167\n",
      "Epoch 3/20\n",
      "26/26 [==============================] - 17s 660ms/step - loss: 0.5724 - accuracy: 0.7045 - val_loss: 0.5497 - val_accuracy: 0.7556\n",
      "Epoch 4/20\n",
      "26/26 [==============================] - 18s 690ms/step - loss: 0.5765 - accuracy: 0.7077 - val_loss: 0.5778 - val_accuracy: 0.7500\n",
      "Epoch 5/20\n",
      "26/26 [==============================] - 16s 632ms/step - loss: 0.5690 - accuracy: 0.7122 - val_loss: 0.6123 - val_accuracy: 0.6889\n",
      "Epoch 6/20\n",
      "26/26 [==============================] - 17s 657ms/step - loss: 0.5514 - accuracy: 0.7295 - val_loss: 0.4821 - val_accuracy: 0.7000\n",
      "Epoch 7/20\n",
      "26/26 [==============================] - 17s 652ms/step - loss: 0.5558 - accuracy: 0.7109 - val_loss: 0.5189 - val_accuracy: 0.7194\n",
      "Epoch 8/20\n",
      "26/26 [==============================] - 18s 692ms/step - loss: 0.5673 - accuracy: 0.6987 - val_loss: 0.4808 - val_accuracy: 0.7417\n",
      "Epoch 9/20\n",
      "26/26 [==============================] - 17s 635ms/step - loss: 0.5592 - accuracy: 0.7109 - val_loss: 0.5349 - val_accuracy: 0.7278\n",
      "Epoch 10/20\n",
      "26/26 [==============================] - 17s 667ms/step - loss: 0.5540 - accuracy: 0.7167 - val_loss: 0.5939 - val_accuracy: 0.7139\n",
      "Epoch 11/20\n",
      "26/26 [==============================] - 18s 708ms/step - loss: 0.5845 - accuracy: 0.7019 - val_loss: 0.4427 - val_accuracy: 0.7361\n",
      "Epoch 12/20\n",
      "26/26 [==============================] - 19s 739ms/step - loss: 0.5566 - accuracy: 0.7256 - val_loss: 0.5632 - val_accuracy: 0.6861\n",
      "Epoch 13/20\n",
      "26/26 [==============================] - 17s 638ms/step - loss: 0.5983 - accuracy: 0.6936 - val_loss: 0.6035 - val_accuracy: 0.7694\n",
      "Epoch 14/20\n",
      "26/26 [==============================] - 18s 678ms/step - loss: 0.5729 - accuracy: 0.7090 - val_loss: 0.5699 - val_accuracy: 0.7139\n",
      "Epoch 15/20\n",
      "26/26 [==============================] - 16s 631ms/step - loss: 0.5677 - accuracy: 0.7064 - val_loss: 0.6180 - val_accuracy: 0.7333\n",
      "Epoch 16/20\n",
      "26/26 [==============================] - 16s 612ms/step - loss: 0.5547 - accuracy: 0.7276 - val_loss: 0.5374 - val_accuracy: 0.7056\n",
      "Epoch 17/20\n",
      "26/26 [==============================] - 17s 671ms/step - loss: 0.5404 - accuracy: 0.7436 - val_loss: 0.4746 - val_accuracy: 0.6889\n",
      "Epoch 18/20\n",
      "26/26 [==============================] - 17s 669ms/step - loss: 0.5839 - accuracy: 0.6929 - val_loss: 0.4956 - val_accuracy: 0.7444\n",
      "Epoch 19/20\n",
      "26/26 [==============================] - 17s 659ms/step - loss: 0.5637 - accuracy: 0.7077 - val_loss: 0.4650 - val_accuracy: 0.7444\n",
      "Epoch 20/20\n",
      "26/26 [==============================] - 17s 662ms/step - loss: 0.5667 - accuracy: 0.7147 - val_loss: 0.5742 - val_accuracy: 0.7583\n",
      "[INFO] validation w/ generator...\n"
     ]
    },
    {
     "name": "stderr",
     "output_type": "stream",
     "text": [
      "C:\\ProgramData\\Anaconda3\\lib\\site-packages\\sklearn\\preprocessing\\label.py:951: UserWarning: unknown class(es) ['O'] will be ignored\n",
      "  .format(sorted(unknown, key=str)))\n"
     ]
    },
    {
     "name": "stdout",
     "output_type": "stream",
     "text": [
      "Epoch 1/20\n",
      "26/26 [==============================] - 19s 726ms/step - loss: 0.5403 - accuracy: 0.7327 - val_loss: 0.6945 - val_accuracy: 0.5889\n",
      "Epoch 2/20\n",
      "26/26 [==============================] - 18s 677ms/step - loss: 0.5480 - accuracy: 0.7327 - val_loss: 0.7031 - val_accuracy: 0.6056\n",
      "Epoch 3/20\n",
      "26/26 [==============================] - 15s 593ms/step - loss: 0.5412 - accuracy: 0.7474 - val_loss: 0.6238 - val_accuracy: 0.6167\n",
      "Epoch 4/20\n",
      "26/26 [==============================] - 16s 613ms/step - loss: 0.5348 - accuracy: 0.7417 - val_loss: 0.7397 - val_accuracy: 0.5917\n",
      "Epoch 5/20\n",
      "26/26 [==============================] - 16s 604ms/step - loss: 0.5355 - accuracy: 0.7423 - val_loss: 0.6270 - val_accuracy: 0.6444\n",
      "Epoch 6/20\n",
      "26/26 [==============================] - 16s 633ms/step - loss: 0.5436 - accuracy: 0.7340 - val_loss: 0.6589 - val_accuracy: 0.6000\n",
      "Epoch 7/20\n",
      "26/26 [==============================] - 16s 605ms/step - loss: 0.5385 - accuracy: 0.7429 - val_loss: 0.6758 - val_accuracy: 0.6361\n",
      "Epoch 8/20\n",
      "26/26 [==============================] - 16s 604ms/step - loss: 0.5264 - accuracy: 0.7564 - val_loss: 0.5759 - val_accuracy: 0.6056\n",
      "Epoch 9/20\n",
      "26/26 [==============================] - 16s 604ms/step - loss: 0.5438 - accuracy: 0.7410 - val_loss: 0.7238 - val_accuracy: 0.5889\n",
      "Epoch 10/20\n",
      "26/26 [==============================] - 18s 678ms/step - loss: 0.5471 - accuracy: 0.7346 - val_loss: 0.7292 - val_accuracy: 0.6111\n",
      "Epoch 11/20\n",
      "26/26 [==============================] - 15s 586ms/step - loss: 0.5329 - accuracy: 0.7468 - val_loss: 0.7496 - val_accuracy: 0.5667\n",
      "Epoch 12/20\n",
      "26/26 [==============================] - 16s 625ms/step - loss: 0.5318 - accuracy: 0.7410 - val_loss: 0.6679 - val_accuracy: 0.6583\n",
      "Epoch 13/20\n",
      "26/26 [==============================] - 16s 626ms/step - loss: 0.5423 - accuracy: 0.7391 - val_loss: 0.6853 - val_accuracy: 0.6000\n",
      "Epoch 14/20\n",
      "26/26 [==============================] - 20s 777ms/step - loss: 0.5448 - accuracy: 0.7353 - val_loss: 0.6133 - val_accuracy: 0.5861\n",
      "Epoch 15/20\n",
      "26/26 [==============================] - 30s 1s/step - loss: 0.5511 - accuracy: 0.7250 - val_loss: 0.7112 - val_accuracy: 0.5917\n",
      "Epoch 16/20\n",
      "26/26 [==============================] - 16s 597ms/step - loss: 0.5380 - accuracy: 0.7353 - val_loss: 0.6694 - val_accuracy: 0.6111\n",
      "Epoch 17/20\n",
      "26/26 [==============================] - 14s 557ms/step - loss: 0.5457 - accuracy: 0.7346 - val_loss: 0.7018 - val_accuracy: 0.6222\n",
      "Epoch 18/20\n",
      "26/26 [==============================] - 16s 599ms/step - loss: 0.5265 - accuracy: 0.7532 - val_loss: 0.6543 - val_accuracy: 0.6000\n",
      "Epoch 19/20\n",
      "26/26 [==============================] - 15s 587ms/step - loss: 0.5391 - accuracy: 0.7295 - val_loss: 0.6938 - val_accuracy: 0.5861\n",
      "Epoch 20/20\n",
      "26/26 [==============================] - 17s 640ms/step - loss: 0.5298 - accuracy: 0.7391 - val_loss: 0.6778 - val_accuracy: 0.6222\n"
     ]
    }
   ],
   "source": [
    "##### 5-FOLD CROSS-VALIDATION\n",
    "path=\"./rear_signal_dataset\"\n",
    "all_folder_list = train_folder_list + valid_folder_list + test_folder_list\n",
    "n_folder=len(all_folder_list)\n",
    "\n",
    "val1 = all_folder_list[0:math.floor(n_folder/5)]\n",
    "val2 = all_folder_list[math.floor(n_folder/5):(2*math.floor(n_folder/5))]\n",
    "val3 = all_folder_list[2*(math.floor(n_folder/5)):(3*math.floor(n_folder/5))]\n",
    "val4 = all_folder_list[3*(math.floor(n_folder/5)):(4*math.floor(n_folder/5))]\n",
    "val5 = all_folder_list[4*(math.floor(n_folder/5)):(n_folder)]\n",
    "\n",
    "print(len(val1))\n",
    "print(len(val2))\n",
    "print(len(val3))\n",
    "print(len(val4))\n",
    "print(len(val5))\n",
    "\n",
    "NUM_EPOCHS = 20\n",
    "\n",
    "validation_sets = np.array([val1, val2, val3,val4,val5])\n",
    "val_accuracies = []\n",
    "for validation_set in validation_sets:\n",
    "    train_set = [ele for ele in all_folder_list if ele not in valid_set]\n",
    "    # example #4 from:\n",
    "    # https://www.geeksforgeeks.org/remove-multiple-elements-from-a-list-in-python/ \n",
    "    \n",
    "    NUM_TRAIN_VALID = len(train_set)\n",
    "    NUM_VALID_VALID = len(valid_set)\n",
    "    \n",
    "    img_seq_gen_train_VAL = ImageSequenceGenerator()\n",
    "    img_seq_gen_valid_VAL = ImageSequenceGenerator()\n",
    "    \n",
    "    trainGenB_VAL = img_seq_gen_train_VAL.png_image_generator(path, bs=BS, difficulty=difficulty, folder_list=train_set, label_type = \"binary\", aug=None)\n",
    "    validGenB_VAL = img_seq_gen_valid_VAL.png_image_generator(path, bs=BS, difficulty=difficulty, folder_list=validation_set, label_type = \"binary\", aug=None)\n",
    "    \n",
    "    modelB.compile(loss='binary_crossentropy', optimizer='adam', metrics=['accuracy'])\n",
    "    print(\"[INFO] validation w/ generator...\")\n",
    "    historyB = modelB.fit(\n",
    "        x=trainGenB_VAL,\n",
    "        steps_per_epoch=NUM_TRAIN_VALID // BS,\n",
    "        validation_data=validGenB_VAL,\n",
    "        validation_steps=NUM_VALID_VALID // BS,\n",
    "        epochs=NUM_EPOCHS)\n",
    "    \n",
    "    val_accuracies.append(historyB.history['val_accuracy'][-1])\n"
   ]
  },
  {
   "cell_type": "code",
   "execution_count": 133,
   "metadata": {},
   "outputs": [
    {
     "data": {
      "image/png": "[encoded data removed]",
      "text/plain": [
       "<Figure size 432x288 with 1 Axes>"
      ]
     },
     "metadata": {
      "needs_background": "light"
     },
     "output_type": "display_data"
    }
   ],
   "source": [
    "for val in [val_accuracies]:\n",
    "    # modelB\n",
    "    # summarize history for validation accuracy\n",
    "    plt.xticks(np.arange(len(val_accuracies)), np.arange(1, len(val_accuracies)+1))\n",
    "    plt.plot(val)\n",
    "    plt.ylabel('val_accuracy')\n",
    "    plt.xlabel('fold')\n",
    "    plt.legend(['validation accuracy'], loc='upper left')\n",
    "    plt.savefig('images/fold_validation_accuracy_' + str(fold) + '.png',dpi=200)\n",
    "    plt.show()"
   ]
  }
 ],
 "metadata": {
  "kernelspec": {
   "display_name": "Python 3",
   "language": "python",
   "name": "python3"
  },
  "language_info": {
   "codemirror_mode": {
    "name": "ipython",
    "version": 3
   },
   "file_extension": ".py",
   "mimetype": "text/x-python",
   "name": "python",
   "nbconvert_exporter": "python",
   "pygments_lexer": "ipython3",
   "version": "3.7.4"
  }
 },
 "nbformat": 4,
 "nbformat_minor": 2
}
