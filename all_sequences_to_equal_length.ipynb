{
 "cells": [
  {
   "cell_type": "markdown",
   "metadata": {},
   "source": [
    "# Makes all the sequences have the same length\n",
    "\n",
    "If number of images in a folder is smaller than defined \"sequence_limit\", then duplicates the last image, so that the number of images equals \"sequence_limit\". "
   ]
  },
  {
   "cell_type": "code",
   "execution_count": 5,
   "metadata": {},
   "outputs": [
    {
     "name": "stdout",
     "output_type": "stream",
     "text": [
      "len image 10 new_image  6\n",
      "           add one copy \n",
      "           add one copy \n",
      "           add one copy \n",
      "           add one copy \n",
      "           add one copy \n",
      "           add one copy \n",
      "len image 10 new_image  6\n",
      "           add one copy \n",
      "           add one copy \n",
      "           add one copy \n",
      "           add one copy \n",
      "           add one copy \n",
      "           add one copy \n",
      "len image 12 new_image  4\n",
      "           add one copy \n",
      "           add one copy \n",
      "           add one copy \n",
      "           add one copy \n"
     ]
    },
    {
     "data": {
      "text/plain": [
       "['./rear_signal_dataset/test-02-26-2016_10-49-42/test-02-26-2016_10-49-42_OLR/test-02-26-2016_10-49-42_OLR_0024/light_mask',\n",
       " './rear_signal_dataset/test-02-26-2016_10-49-42/test-02-26-2016_10-49-42_OLR/test-02-26-2016_10-49-42_OLR_0528/light_mask',\n",
       " './rear_signal_dataset/test-02-26-2016_10-49-42/test-02-26-2016_10-49-42_OLR/test-02-26-2016_10-49-42_OLR_0987/light_mask']"
      ]
     },
     "execution_count": 5,
     "metadata": {},
     "output_type": "execute_result"
    }
   ],
   "source": [
    "import os\n",
    "import cv2\n",
    "from PIL import Image\n",
    "import shutil\n",
    "from keras.preprocessing.image import img_to_array, array_to_img\n",
    "\n",
    "def detect_short_seq(path=\"./rear_signal_dataset\", difficulty=\"Moderate\", sequence_limit=12):\n",
    "    image_count = 0\n",
    "    resize_dimension = 128\n",
    "    \n",
    "    short_seq = []\n",
    "    \n",
    "    \n",
    "    with open(\"{0}/{1}.txt\".format(path, difficulty)) as f:\n",
    "        content = f.readlines()\n",
    "        for folder in content:\n",
    "            # Load the data\n",
    "            folder_components = folder.split(\"_\")\n",
    "            folder_components[-1] = folder_components[-1][:-1]\n",
    "            base = str(\"_\".join(folder_components[:-2]))\n",
    "            folder = \"{0}/{1}/{2}\".format(path, base, (base + \"_\" + str(folder_components[-2])))\n",
    "            folder += \"/\" + (str(\"_\".join(folder_components)))\n",
    "            folder += \"/light_mask\"\n",
    "            images = [folder + \"/\" + f for f in os.listdir(folder) if os.path.isfile(os.path.join(folder, f))]\n",
    "            \n",
    "            # too short seq\n",
    "            if len(images) < sequence_limit:\n",
    "                rep_count = sequence_limit  - len(images) # how many new \"dummy \"images need to create\n",
    "                print('len image', len(images), 'new_image ', rep_count)\n",
    "                last_image = sorted(images)[-1]\n",
    "                \n",
    "                while rep_count > 0:  # is there need for another \"dummy\" image\n",
    "                    print('           add one copy ')\n",
    "                    src = os.getcwd() + last_image.strip('.')\n",
    "                    dst =  os.getcwd() + str(last_image).strip('.png') + '_' + str(rep_count) + '.png' #create new name for the copy image\n",
    "                    shutil.copy(src, dst) # add a copy of the last image\n",
    "                    rep_count -= 1\n",
    "                short_seq.append(folder) # names of the folders that were too short\n",
    "                \n",
    "    return short_seq\n",
    "\n",
    "sequence_limit = 15\n",
    "short_seq = detect_short_seq(sequence_limit = sequence_limit + 1)\n",
    "short_seq"
   ]
  },
  {
   "cell_type": "markdown",
   "metadata": {},
   "source": [
    "### Names of the seq that were made longer in moderate\n",
    "\n",
    "['./rear_signal_dataset/test-02-26-2016_10-49-42/test-02-26-2016_10-49-42_OLR/test-02-26-2016_10-49-42_OLR_0024/light_mask',\n",
    " './rear_signal_dataset/test-02-26-2016_10-49-42/test-02-26-2016_10-49-42_OLR/test-02-26-2016_10-49-42_OLR_0528/light_mask',\n",
    " './rear_signal_dataset/test-02-26-2016_10-49-42/test-02-26-2016_10-49-42_OLR/test-02-26-2016_10-49-42_OLR_0987/light_mask']"
   ]
  },
  {
   "cell_type": "markdown",
   "metadata": {},
   "source": [
    "### Names of the sequences that were made longer in easy\n",
    "\n",
    "'./rear_signal_dataset/20160805_g1k17-08-05-2016_15-57-59_idx99/20160805_g1k17-08-05-2016_15-57-59_idx99_BOO/20160805_g1k17-08-05-2016_15-57-59_idx99_BOO_00002671/light_mask',\n",
    "\n",
    " './rear_signal_dataset/20160809_route8-08-09-2016_09-50-36_idx99/20160809_route8-08-09-2016_09-50-36_idx99_BOO/20160809_route8-08-09-2016_09-50-36_idx99_BOO_00007890/light_mask',\n",
    " \n",
    " './rear_signal_dataset/20160809_route8-08-09-2016_09-50-36_idx99/20160809_route8-08-09-2016_09-50-36_idx99_OOO/20160809_route8-08-09-2016_09-50-36_idx99_OOO_00019648/light_mask',\n",
    " \n",
    " './rear_signal_dataset/20160809_route8-08-09-2016_10-22-57_idx99/20160809_route8-08-09-2016_10-22-57_idx99_BOO/20160809_route8-08-09-2016_10-22-57_idx99_BOO_00019161/light_mask',\n",
    " \n",
    " './rear_signal_dataset/g1k8-07-12-2016_11-11-30_idx99/g1k8-07-12-2016_11-11-30_idx99_BOO/g1k8-07-12-2016_11-11-30_idx99_BOO_00017036/light_mask',\n",
    " \n",
    " './rear_signal_dataset/route-02-23-2016_17-13-05/route-02-23-2016_17-13-05_OLO/route-02-23-2016_17-13-05_OLO_2312/light_mask',\n",
    " \n",
    " './rear_signal_dataset/route-02-23-2016_17-17-51/route-02-23-2016_17-17-51_BOO/route-02-23-2016_17-17-51_BOO_9113/light_mask',\n",
    " \n",
    " './rear_signal_dataset/route5-07-11-2016_18-33-42_idx99/route5-07-11-2016_18-33-42_idx99_BOO/route5-07-11-2016_18-33-42_idx99_BOO_00011609/light_mask',\n",
    " \n",
    " './rear_signal_dataset/route5-07-11-2016_18-33-42_idx99/route5-07-11-2016_18-33-42_idx99_OOO/route5-07-11-2016_18-33-42_idx99_OOO_00011790/light_mask',\n",
    " \n",
    " './rear_signal_dataset/route5-07-11-2016_18-33-42_idx99/route5-07-11-2016_18-33-42_idx99_OOO/route5-07-11-2016_18-33-42_idx99_OOO_00012564/light_mask'"
   ]
  }
 ],
 "metadata": {
  "kernelspec": {
   "display_name": "Python 3",
   "language": "python",
   "name": "python3"
  },
  "language_info": {
   "codemirror_mode": {
    "name": "ipython",
    "version": 3
   },
   "file_extension": ".py",
   "mimetype": "text/x-python",
   "name": "python",
   "nbconvert_exporter": "python",
   "pygments_lexer": "ipython3",
   "version": "3.6.7"
  }
 },
 "nbformat": 4,
 "nbformat_minor": 2
}
