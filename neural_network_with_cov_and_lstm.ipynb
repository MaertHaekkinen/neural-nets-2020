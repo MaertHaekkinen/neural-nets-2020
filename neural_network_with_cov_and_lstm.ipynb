{
 "cells": [
  {
   "cell_type": "markdown",
   "metadata": {},
   "source": [
    "# Import data"
   ]
  },
  {
   "cell_type": "code",
   "execution_count": 8,
   "metadata": {},
   "outputs": [
    {
     "name": "stdout",
     "output_type": "stream",
     "text": [
      "Working with 567 sets of images\n",
      "Working with 7353 images\n",
      "Image examples: \n"
     ]
    },
    {
     "data": {
      "text/plain": [
       "<Figure size 640x480 with 1 Axes>"
      ]
     },
     "metadata": {},
     "output_type": "display_data"
    },
    {
     "data": {
      "text/plain": [
       "<Figure size 640x480 with 1 Axes>"
      ]
     },
     "metadata": {},
     "output_type": "display_data"
    }
   ],
   "source": [
    "from load_dataset import load_dataset\n",
    "from matplotlib import pyplot as plt\n",
    "\n",
    "sequence_limit = 12\n",
    "X_train, Y_train, image_count = load_dataset(sequence_limit = sequence_limit + 1)\n",
    "\n",
    "print(\"Working with {0} sets of images\".format(len(X_train)))\n",
    "print(\"Working with {0} images\".format(image_count))\n",
    "print(\"Image examples: \")\n",
    "\n",
    "for i in range(0, 2):\n",
    "    image = X_train[0][i]\n",
    "    plt.imshow(image)\n",
    "    plt.show()"
   ]
  },
  {
   "cell_type": "markdown",
   "metadata": {},
   "source": [
    "# Layer structure\n",
    "\n",
    "<img src=\"images/layer_structure.png\">"
   ]
  },
  {
   "cell_type": "markdown",
   "metadata": {},
   "source": [
    "# Construct NN"
   ]
  },
  {
   "cell_type": "code",
   "execution_count": 2,
   "metadata": {},
   "outputs": [
    {
     "name": "stdout",
     "output_type": "stream",
     "text": [
      "x (None, 227, 227, 3)\n",
      "c1 (None, 111, 111, 96) expected (111,111,96)\n",
      "p1 (None, 55, 55, 96) expected (55,55,96)\n",
      "c2 (None, 27, 27, 384) expected (26,26,384)\n",
      "p2 (None, 13, 13, 384) expected (13,13,384)\n",
      "c3 (None, 13, 13, 512) expected (13,13,512)\n",
      "c4 (None, 13, 13, 512) expected (13,13,512)\n",
      "c5 (None, 13, 13, 384) expected (13,13,384)\n",
      "p5 (None, 6, 6, 384) expected (6,6,384)\n",
      "flat (None, None)\n"
     ]
    },
    {
     "ename": "NameError",
     "evalue": "name 'fc1' is not defined",
     "output_type": "error",
     "traceback": [
      "\u001b[0;31m---------------------------------------------------------------------------\u001b[0m",
      "\u001b[0;31mNameError\u001b[0m                                 Traceback (most recent call last)",
      "\u001b[0;32m<ipython-input-2-76abeb2c0840>\u001b[0m in \u001b[0;36m<module>\u001b[0;34m\u001b[0m\n\u001b[1;32m     25\u001b[0m \u001b[0;31m#for a 2D input with shape (batch_size, input_dim), the output would have shape (batch_size, units).\u001b[0m\u001b[0;34m\u001b[0m\u001b[0;34m\u001b[0m\u001b[0;34m\u001b[0m\u001b[0m\n\u001b[1;32m     26\u001b[0m \u001b[0mfc6\u001b[0m \u001b[0;34m=\u001b[0m \u001b[0mkeras\u001b[0m\u001b[0;34m.\u001b[0m\u001b[0mlayers\u001b[0m\u001b[0;34m.\u001b[0m\u001b[0mDense\u001b[0m\u001b[0;34m(\u001b[0m\u001b[0;36m4096\u001b[0m\u001b[0;34m)\u001b[0m\u001b[0;34m(\u001b[0m\u001b[0mf1\u001b[0m\u001b[0;34m)\u001b[0m \u001b[0;31m# dense layer == fully connected\u001b[0m\u001b[0;34m\u001b[0m\u001b[0;34m\u001b[0m\u001b[0m\n\u001b[0;32m---> 27\u001b[0;31m \u001b[0mprint\u001b[0m\u001b[0;34m(\u001b[0m\u001b[0;34m'fc1'\u001b[0m\u001b[0;34m,\u001b[0m \u001b[0mfc1\u001b[0m\u001b[0;34m.\u001b[0m\u001b[0mshape\u001b[0m\u001b[0;34m)\u001b[0m\u001b[0;34m\u001b[0m\u001b[0;34m\u001b[0m\u001b[0m\n\u001b[0m\u001b[1;32m     28\u001b[0m \u001b[0;34m\u001b[0m\u001b[0m\n\u001b[1;32m     29\u001b[0m \u001b[0;31m#For LSTM if return_sequences would be True, then there would be three dimensions (batch_size, timesteps, units) as output.\u001b[0m\u001b[0;34m\u001b[0m\u001b[0;34m\u001b[0m\u001b[0;34m\u001b[0m\u001b[0m\n",
      "\u001b[0;31mNameError\u001b[0m: name 'fc1' is not defined"
     ]
    }
   ],
   "source": [
    "import keras\n",
    "from keras.layers import Input, Conv2D, Dense, LSTM,MaxPooling2D , Flatten\n",
    "\n",
    "x = Input(shape=(227,227,3)) #(32, 32, 3))\n",
    "print('x', x.shape)\n",
    "c1 = keras.layers.Conv2D(filters=96, kernel_size=7, strides=2, padding='valid')(x)\n",
    "print('c1',c1.shape, 'expected (111,111,96)')\n",
    "p1 = keras.layers.MaxPooling2D(pool_size=(2, 2))(c1)\n",
    "print('p1', p1.shape,'expected (55,55,96)')\n",
    "c2 = keras.layers.Conv2D(filters=384, kernel_size=3, strides=2, padding='valid')(p1)\n",
    "print('c2', c2.shape,'expected (26,26,384)')\n",
    "p2 = keras.layers.MaxPooling2D(pool_size=(2, 2))(c2)\n",
    "print('p2', p2.shape,'expected (13,13,384)')\n",
    "c3 = keras.layers.Conv2D(filters=512, kernel_size=3, strides=1, padding='same')(p2)\n",
    "print('c3', c3.shape,'expected (13,13,512)')\n",
    "c4 = keras.layers.Conv2D(filters=512, kernel_size=3, strides=1, padding='same')(c3)\n",
    "print('c4', c4.shape,'expected (13,13,512)')\n",
    "c5 = keras.layers.Conv2D(filters=384, kernel_size=3, strides=1, padding='same')(c4)\n",
    "print('c5', c5.shape,'expected (13,13,384)')\n",
    "p5 = keras.layers.MaxPooling2D(pool_size=(2, 2))(c5)\n",
    "print('p5', p5.shape,'expected (6,6,384)')\n",
    "f1 = keras.layers.Flatten()(p5)\n",
    "print('flat', f1.shape)\n",
    "\n",
    "#for a 2D input with shape (batch_size, input_dim), the output would have shape (batch_size, units).\n",
    "fc6 = keras.layers.Dense(4096)(f1) # dense layer == fully connected\n",
    "print('fc1', fc1.shape)\n",
    "\n",
    "#For LSTM if return_sequences would be True, then there would be three dimensions (batch_size, timesteps, units) as output. \n",
    "#return_sequences if False, then it produces only two outputs batch_size and units.\n",
    "\n",
    "# TODO, mis on LSTM input?\n",
    "#Keras LSTM takes and input with shape of (n_examples, n_times, n_features) and your layers input has to have this shape\n",
    "lstm1 = keras.layers.LSTM(256, return_sequences=False)(fc6) \n",
    "print('lstm1', lstm1.shape)\n",
    "fc8 = keras.layers.Dense(2)(lstm1) # dense layer == fully connected\n",
    "\n"
   ]
  },
  {
   "cell_type": "code",
   "execution_count": 7,
   "metadata": {},
   "outputs": [
    {
     "name": "stdout",
     "output_type": "stream",
     "text": [
      "Model: \"sequential_5\"\n",
      "_________________________________________________________________\n",
      "Layer (type)                 Output Shape              Param #   \n",
      "=================================================================\n",
      "time_distributed_43 (TimeDis (None, 3, 111, 111, 96)   56544     \n",
      "_________________________________________________________________\n",
      "time_distributed_44 (TimeDis (None, 3, 55, 55, 96)     0         \n",
      "_________________________________________________________________\n",
      "time_distributed_45 (TimeDis (None, 3, 27, 27, 384)    332160    \n",
      "_________________________________________________________________\n",
      "time_distributed_46 (TimeDis (None, 3, 13, 13, 384)    0         \n",
      "_________________________________________________________________\n",
      "time_distributed_47 (TimeDis (None, 3, 13, 13, 512)    1769984   \n",
      "_________________________________________________________________\n",
      "time_distributed_48 (TimeDis (None, 3, 13, 13, 512)    2359808   \n",
      "_________________________________________________________________\n",
      "time_distributed_49 (TimeDis (None, 3, 13, 13, 384)    1769856   \n",
      "_________________________________________________________________\n",
      "time_distributed_50 (TimeDis (None, 3, 6, 6, 384)      0         \n",
      "_________________________________________________________________\n",
      "time_distributed_51 (TimeDis (None, 3, 13824)          0         \n",
      "_________________________________________________________________\n",
      "time_distributed_52 (TimeDis (None, 3, 4096)           56627200  \n",
      "_________________________________________________________________\n",
      "lstm_5 (LSTM)                (None, 3, 256)            4457472   \n",
      "_________________________________________________________________\n",
      "time_distributed_53 (TimeDis (None, 3, 2)              514       \n",
      "=================================================================\n",
      "Total params: 67,373,538\n",
      "Trainable params: 67,373,538\n",
      "Non-trainable params: 0\n",
      "_________________________________________________________________\n",
      "None\n"
     ]
    },
    {
     "ename": "NameError",
     "evalue": "name 'X_train' is not defined",
     "output_type": "error",
     "traceback": [
      "\u001b[0;31m---------------------------------------------------------------------------\u001b[0m",
      "\u001b[0;31mNameError\u001b[0m                                 Traceback (most recent call last)",
      "\u001b[0;32m<ipython-input-7-8019fd0d04ea>\u001b[0m in \u001b[0;36m<module>\u001b[0;34m\u001b[0m\n\u001b[1;32m     21\u001b[0m \u001b[0mmodel\u001b[0m\u001b[0;34m.\u001b[0m\u001b[0mcompile\u001b[0m\u001b[0;34m(\u001b[0m\u001b[0mloss\u001b[0m\u001b[0;34m=\u001b[0m\u001b[0;34m'binary_crossentropy'\u001b[0m\u001b[0;34m,\u001b[0m \u001b[0moptimizer\u001b[0m\u001b[0;34m=\u001b[0m\u001b[0;34m'adam'\u001b[0m\u001b[0;34m,\u001b[0m \u001b[0mmetrics\u001b[0m\u001b[0;34m=\u001b[0m\u001b[0;34m[\u001b[0m\u001b[0;34m'accuracy'\u001b[0m\u001b[0;34m]\u001b[0m\u001b[0;34m)\u001b[0m\u001b[0;34m\u001b[0m\u001b[0;34m\u001b[0m\u001b[0m\n\u001b[1;32m     22\u001b[0m \u001b[0mprint\u001b[0m\u001b[0;34m(\u001b[0m\u001b[0mmodel\u001b[0m\u001b[0;34m.\u001b[0m\u001b[0msummary\u001b[0m\u001b[0;34m(\u001b[0m\u001b[0;34m)\u001b[0m\u001b[0;34m)\u001b[0m\u001b[0;34m\u001b[0m\u001b[0;34m\u001b[0m\u001b[0m\n\u001b[0;32m---> 23\u001b[0;31m \u001b[0mmodel\u001b[0m\u001b[0;34m.\u001b[0m\u001b[0mfit\u001b[0m\u001b[0;34m(\u001b[0m\u001b[0mX_train\u001b[0m\u001b[0;34m,\u001b[0m \u001b[0mY_train\u001b[0m\u001b[0;34m,\u001b[0m \u001b[0mepochs\u001b[0m\u001b[0;34m=\u001b[0m\u001b[0;36m3\u001b[0m\u001b[0;34m,\u001b[0m \u001b[0mbatch_size\u001b[0m\u001b[0;34m=\u001b[0m\u001b[0;36m64\u001b[0m\u001b[0;34m)\u001b[0m\u001b[0;34m\u001b[0m\u001b[0;34m\u001b[0m\u001b[0m\n\u001b[0m\u001b[1;32m     24\u001b[0m \u001b[0;31m# Final evaluation of the model\u001b[0m\u001b[0;34m\u001b[0m\u001b[0;34m\u001b[0m\u001b[0;34m\u001b[0m\u001b[0m\n\u001b[1;32m     25\u001b[0m \u001b[0mscores\u001b[0m \u001b[0;34m=\u001b[0m \u001b[0mmodel\u001b[0m\u001b[0;34m.\u001b[0m\u001b[0mevaluate\u001b[0m\u001b[0;34m(\u001b[0m\u001b[0mX_test\u001b[0m\u001b[0;34m,\u001b[0m \u001b[0my_test\u001b[0m\u001b[0;34m,\u001b[0m \u001b[0mverbose\u001b[0m\u001b[0;34m=\u001b[0m\u001b[0;36m0\u001b[0m\u001b[0;34m)\u001b[0m\u001b[0;34m\u001b[0m\u001b[0;34m\u001b[0m\u001b[0m\n",
      "\u001b[0;31mNameError\u001b[0m: name 'X_train' is not defined"
     ]
    }
   ],
   "source": [
    "import keras\n",
    "from keras.models import Sequential\n",
    "from keras.layers import Dense, LSTM, Input, Conv2D, Dense, LSTM,MaxPooling2D , Flatten, TimeDistributed\n",
    "\n",
    "model = Sequential()\n",
    "model.add(TimeDistributed(Conv2D(filters=96, kernel_size=7,  strides=2, padding='valid'), input_shape=(3,227,227,12))) # last input parameter is image sequence length\n",
    "model.add(TimeDistributed(MaxPooling2D(pool_size=(2, 2))))\n",
    "model.add(TimeDistributed(Conv2D(filters=384, kernel_size=3,  strides=2, padding='valid')))\n",
    "model.add(TimeDistributed(MaxPooling2D(pool_size=(2, 2))))\n",
    "model.add(TimeDistributed(Conv2D(filters=512, kernel_size=3, padding='same')))\n",
    "model.add(TimeDistributed(Conv2D(filters=512, kernel_size=3, padding='same')))\n",
    "model.add(TimeDistributed(Conv2D(filters=384, kernel_size=3, padding='same')))\n",
    "model.add(TimeDistributed(MaxPooling2D(pool_size=(2, 2))))\n",
    "model.add(TimeDistributed(Flatten()))\n",
    "model.add(TimeDistributed(Dense(4096)))\n",
    "#model.add(Reshape((x,y)))\n",
    "model.add(LSTM(256, return_sequences=True)) #pole kindel return_sequence's\n",
    "model.add(TimeDistributed(Dense(2)))\n",
    "\n",
    "\n",
    "model.compile(loss='binary_crossentropy', optimizer='adam', metrics=['accuracy'])\n",
    "print(model.summary())\n",
    "model.fit(X_train, Y_train, epochs=3, batch_size=64)\n",
    "# Final evaluation of the model\n",
    "scores = model.evaluate(X_test, y_test, verbose=0)\n",
    "print(\"Accuracy: %.2f%%\" % (scores[1]*100))\n"
   ]
  }
 ],
 "metadata": {
  "kernelspec": {
   "display_name": "Python 3",
   "language": "python",
   "name": "python3"
  },
  "language_info": {
   "codemirror_mode": {
    "name": "ipython",
    "version": 3
   },
   "file_extension": ".py",
   "mimetype": "text/x-python",
   "name": "python",
   "nbconvert_exporter": "python",
   "pygments_lexer": "ipython3",
   "version": "3.6.7"
  }
 },
 "nbformat": 4,
 "nbformat_minor": 2
}
